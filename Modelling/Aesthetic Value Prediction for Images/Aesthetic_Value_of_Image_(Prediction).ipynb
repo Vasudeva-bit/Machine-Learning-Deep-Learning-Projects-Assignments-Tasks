{
  "nbformat": 4,
  "nbformat_minor": 0,
  "metadata": {
    "colab": {
      "name": "Aesthetic Value of Image (Prediction).ipynb",
      "provenance": [],
      "collapsed_sections": []
    },
    "kernelspec": {
      "name": "python3",
      "display_name": "Python 3"
    },
    "language_info": {
      "name": "python"
    },
    "accelerator": "GPU"
  },
  "cells": [
    {
      "cell_type": "code",
      "metadata": {
        "colab": {
          "base_uri": "https://localhost:8080/"
        },
        "id": "0XIM23fbHtMg",
        "outputId": "6ca0406f-87a7-46ff-c88b-801f9b16c6f3"
      },
      "source": [
        "# Mounting data from google drive.!\n",
        "from google.colab import drive\n",
        "drive.mount('/content/drive')"
      ],
      "execution_count": null,
      "outputs": [
        {
          "output_type": "stream",
          "name": "stdout",
          "text": [
            "Mounted at /content/drive\n"
          ]
        }
      ]
    },
    {
      "cell_type": "code",
      "metadata": {
        "id": "OQPEWa80Q3EV"
      },
      "source": [
        "!unzip drive/MyDrive/petfinder-pawpularity-score.zip > /dev/null"
      ],
      "execution_count": null,
      "outputs": []
    },
    {
      "cell_type": "code",
      "metadata": {
        "id": "9BlBaCY9RE9r"
      },
      "source": [
        "# Importing all packages needed in the project.\n",
        "import tensorflow as tf\n",
        "# import tensorflow_hub as hub\n",
        "import pandas as pd\n",
        "import numpy as np\n",
        "import matplotlib.pyplot as plt\n",
        "import functools\n"
      ],
      "execution_count": null,
      "outputs": []
    },
    {
      "cell_type": "code",
      "metadata": {
        "colab": {
          "base_uri": "https://localhost:8080/"
        },
        "id": "bTLLIFxNRHnR",
        "outputId": "dac16f2b-17b0-4447-ccd7-bf752690e299"
      },
      "source": [
        "# Let us know the version that we are going to work on!!\n",
        "print('tensorflow version: ',tf.__version__)\n",
        "# print('tensorflow_hub: ', hub.__version__)"
      ],
      "execution_count": null,
      "outputs": [
        {
          "output_type": "stream",
          "name": "stdout",
          "text": [
            "tensorflow version:  2.6.0\n"
          ]
        }
      ]
    },
    {
      "cell_type": "code",
      "metadata": {
        "colab": {
          "base_uri": "https://localhost:8080/"
        },
        "id": "fDRXdBgURJ74",
        "outputId": "806d7fc0-9518-4ed2-9463-b5c4077590cf"
      },
      "source": [
        "# We shall check our physical devies connected to the runtime (checking the GPU connection)..!\n",
        "print('GPU availabity status :', 'Availabe' if tf.config.list_physical_devices(\"GPU\") else 'Not available') "
      ],
      "execution_count": null,
      "outputs": [
        {
          "output_type": "stream",
          "name": "stdout",
          "text": [
            "GPU availabity status : Availabe\n"
          ]
        }
      ]
    },
    {
      "cell_type": "code",
      "metadata": {
        "colab": {
          "base_uri": "https://localhost:8080/",
          "height": 206
        },
        "id": "3m1zqDBgVsid",
        "outputId": "3927f91d-a97d-402c-d42b-c21c478ccb1d"
      },
      "source": [
        "train_csv = pd.read_csv(\"train.csv\")\n",
        "train_csv.head()\n",
        "test_csv = pd.read_csv(\"test.csv\")\n",
        "test_csv.head()"
      ],
      "execution_count": null,
      "outputs": [
        {
          "output_type": "execute_result",
          "data": {
            "text/html": [
              "<div>\n",
              "<style scoped>\n",
              "    .dataframe tbody tr th:only-of-type {\n",
              "        vertical-align: middle;\n",
              "    }\n",
              "\n",
              "    .dataframe tbody tr th {\n",
              "        vertical-align: top;\n",
              "    }\n",
              "\n",
              "    .dataframe thead th {\n",
              "        text-align: right;\n",
              "    }\n",
              "</style>\n",
              "<table border=\"1\" class=\"dataframe\">\n",
              "  <thead>\n",
              "    <tr style=\"text-align: right;\">\n",
              "      <th></th>\n",
              "      <th>Id</th>\n",
              "      <th>Subject Focus</th>\n",
              "      <th>Eyes</th>\n",
              "      <th>Face</th>\n",
              "      <th>Near</th>\n",
              "      <th>Action</th>\n",
              "      <th>Accessory</th>\n",
              "      <th>Group</th>\n",
              "      <th>Collage</th>\n",
              "      <th>Human</th>\n",
              "      <th>Occlusion</th>\n",
              "      <th>Info</th>\n",
              "      <th>Blur</th>\n",
              "    </tr>\n",
              "  </thead>\n",
              "  <tbody>\n",
              "    <tr>\n",
              "      <th>0</th>\n",
              "      <td>4128bae22183829d2b5fea10effdb0c3</td>\n",
              "      <td>1</td>\n",
              "      <td>0</td>\n",
              "      <td>1</td>\n",
              "      <td>0</td>\n",
              "      <td>0</td>\n",
              "      <td>1</td>\n",
              "      <td>1</td>\n",
              "      <td>0</td>\n",
              "      <td>0</td>\n",
              "      <td>1</td>\n",
              "      <td>0</td>\n",
              "      <td>1</td>\n",
              "    </tr>\n",
              "    <tr>\n",
              "      <th>1</th>\n",
              "      <td>43a2262d7738e3d420d453815151079e</td>\n",
              "      <td>0</td>\n",
              "      <td>1</td>\n",
              "      <td>0</td>\n",
              "      <td>0</td>\n",
              "      <td>0</td>\n",
              "      <td>0</td>\n",
              "      <td>1</td>\n",
              "      <td>1</td>\n",
              "      <td>0</td>\n",
              "      <td>0</td>\n",
              "      <td>0</td>\n",
              "      <td>0</td>\n",
              "    </tr>\n",
              "    <tr>\n",
              "      <th>2</th>\n",
              "      <td>4e429cead1848a298432a0acad014c9d</td>\n",
              "      <td>0</td>\n",
              "      <td>0</td>\n",
              "      <td>0</td>\n",
              "      <td>1</td>\n",
              "      <td>0</td>\n",
              "      <td>1</td>\n",
              "      <td>1</td>\n",
              "      <td>1</td>\n",
              "      <td>0</td>\n",
              "      <td>1</td>\n",
              "      <td>1</td>\n",
              "      <td>1</td>\n",
              "    </tr>\n",
              "    <tr>\n",
              "      <th>3</th>\n",
              "      <td>80bc3ccafcc51b66303c2c263aa38486</td>\n",
              "      <td>1</td>\n",
              "      <td>0</td>\n",
              "      <td>1</td>\n",
              "      <td>0</td>\n",
              "      <td>0</td>\n",
              "      <td>0</td>\n",
              "      <td>0</td>\n",
              "      <td>0</td>\n",
              "      <td>0</td>\n",
              "      <td>0</td>\n",
              "      <td>1</td>\n",
              "      <td>0</td>\n",
              "    </tr>\n",
              "    <tr>\n",
              "      <th>4</th>\n",
              "      <td>8f49844c382931444e68dffbe20228f4</td>\n",
              "      <td>1</td>\n",
              "      <td>1</td>\n",
              "      <td>1</td>\n",
              "      <td>0</td>\n",
              "      <td>1</td>\n",
              "      <td>1</td>\n",
              "      <td>0</td>\n",
              "      <td>1</td>\n",
              "      <td>0</td>\n",
              "      <td>1</td>\n",
              "      <td>1</td>\n",
              "      <td>0</td>\n",
              "    </tr>\n",
              "  </tbody>\n",
              "</table>\n",
              "</div>"
            ],
            "text/plain": [
              "                                 Id  Subject Focus  Eyes  ...  Occlusion  Info  Blur\n",
              "0  4128bae22183829d2b5fea10effdb0c3              1     0  ...          1     0     1\n",
              "1  43a2262d7738e3d420d453815151079e              0     1  ...          0     0     0\n",
              "2  4e429cead1848a298432a0acad014c9d              0     0  ...          1     1     1\n",
              "3  80bc3ccafcc51b66303c2c263aa38486              1     0  ...          0     1     0\n",
              "4  8f49844c382931444e68dffbe20228f4              1     1  ...          1     1     0\n",
              "\n",
              "[5 rows x 13 columns]"
            ]
          },
          "metadata": {},
          "execution_count": 6
        }
      ]
    },
    {
      "cell_type": "code",
      "metadata": {
        "colab": {
          "base_uri": "https://localhost:8080/"
        },
        "id": "wTg6H12eV3uk",
        "outputId": "c68231f7-be70-4cb7-d59d-aec0adcaa27a"
      },
      "source": [
        "Train_Filenames = ['/content/train/'+fname+'.jpg' for fname in train_csv.Id]\n",
        "# Let's have a look at the first 10 image file names\n",
        "Train_Filenames[:10]\n",
        "Test_Filenames = ['/content/test/'+fname+'.jpg' for fname in test_csv.Id]\n",
        "Test_Filenames[:10]"
      ],
      "execution_count": null,
      "outputs": [
        {
          "output_type": "execute_result",
          "data": {
            "text/plain": [
              "['/content/test/4128bae22183829d2b5fea10effdb0c3.jpg',\n",
              " '/content/test/43a2262d7738e3d420d453815151079e.jpg',\n",
              " '/content/test/4e429cead1848a298432a0acad014c9d.jpg',\n",
              " '/content/test/80bc3ccafcc51b66303c2c263aa38486.jpg',\n",
              " '/content/test/8f49844c382931444e68dffbe20228f4.jpg',\n",
              " '/content/test/b03f7041962238a7c9d6537e22f9b017.jpg',\n",
              " '/content/test/c978013571258ed6d4637f6e8cc9d6a3.jpg',\n",
              " '/content/test/e0de453c1bffc20c22b072b34b54e50f.jpg']"
            ]
          },
          "metadata": {},
          "execution_count": 7
        }
      ]
    },
    {
      "cell_type": "code",
      "metadata": {
        "colab": {
          "base_uri": "https://localhost:8080/"
        },
        "id": "I2bRUOfXW6nB",
        "outputId": "d77257d7-9300-4ce0-d84b-f1f759ef53f7"
      },
      "source": [
        "# Let us make sure that the number of images in train set matches with the number of labels in labels.csv, so that we can work on accurately evaluated model\n",
        "import os \n",
        "if len(os.listdir('/content/train')) == len(Train_Filenames) :\n",
        "  print('The no of images in train folder are same as no of labels so we can PROCEED!!')\n",
        "else :\n",
        "  print('The no of images in train folder are not same as no of labels so first look into that before modelling .')"
      ],
      "execution_count": null,
      "outputs": [
        {
          "output_type": "stream",
          "name": "stdout",
          "text": [
            "The no of images in train folder are same as no of labels so we can PROCEED!!\n"
          ]
        }
      ]
    },
    {
      "cell_type": "code",
      "metadata": {
        "colab": {
          "base_uri": "https://localhost:8080/",
          "height": 145
        },
        "id": "3BlmXjs5Riwe",
        "outputId": "76524134-88ae-443e-8454-baeeea345d49"
      },
      "source": [
        "# Lets view an image\n",
        "from IPython.display import Image\n",
        "Image('/content/test/4128bae22183829d2b5fea10effdb0c3.jpg')"
      ],
      "execution_count": null,
      "outputs": [
        {
          "output_type": "execute_result",
          "data": {
            "image/jpeg": "[encoded data removed]",
            "text/plain": [
              "<IPython.core.display.Image object>"
            ]
          },
          "metadata": {},
          "execution_count": 9
        }
      ]
    },
    {
      "cell_type": "markdown",
      "metadata": {
        "id": "p7mtfJgVjwNY"
      },
      "source": [
        "## Start of 1000 images"
      ]
    },
    {
      "cell_type": "code",
      "metadata": {
        "id": "0sHZNKXofNQi"
      },
      "source": [
        "# Set number of images to use for experiments\n",
        "NUM_IMAGES = 1000 #@param{type :\"slider\", min: 1000, max: 10000, step : 1000}"
      ],
      "execution_count": null,
      "outputs": []
    },
    {
      "cell_type": "code",
      "metadata": {
        "colab": {
          "base_uri": "https://localhost:8080/",
          "height": 206
        },
        "id": "z38ekurrhD22",
        "outputId": "85c8dbba-1d40-4385-c95e-cc9cfee020a6"
      },
      "source": [
        "X = Train_Filenames\n",
        "Meta_data = train_csv.drop(labels = ['Pawpularity', 'Id'], axis = 1)\n",
        "Y = train_csv['Pawpularity']\n",
        "Meta_data.head()"
      ],
      "execution_count": null,
      "outputs": [
        {
          "output_type": "execute_result",
          "data": {
            "text/html": [
              "<div>\n",
              "<style scoped>\n",
              "    .dataframe tbody tr th:only-of-type {\n",
              "        vertical-align: middle;\n",
              "    }\n",
              "\n",
              "    .dataframe tbody tr th {\n",
              "        vertical-align: top;\n",
              "    }\n",
              "\n",
              "    .dataframe thead th {\n",
              "        text-align: right;\n",
              "    }\n",
              "</style>\n",
              "<table border=\"1\" class=\"dataframe\">\n",
              "  <thead>\n",
              "    <tr style=\"text-align: right;\">\n",
              "      <th></th>\n",
              "      <th>Subject Focus</th>\n",
              "      <th>Eyes</th>\n",
              "      <th>Face</th>\n",
              "      <th>Near</th>\n",
              "      <th>Action</th>\n",
              "      <th>Accessory</th>\n",
              "      <th>Group</th>\n",
              "      <th>Collage</th>\n",
              "      <th>Human</th>\n",
              "      <th>Occlusion</th>\n",
              "      <th>Info</th>\n",
              "      <th>Blur</th>\n",
              "    </tr>\n",
              "  </thead>\n",
              "  <tbody>\n",
              "    <tr>\n",
              "      <th>0</th>\n",
              "      <td>0</td>\n",
              "      <td>1</td>\n",
              "      <td>1</td>\n",
              "      <td>1</td>\n",
              "      <td>0</td>\n",
              "      <td>0</td>\n",
              "      <td>1</td>\n",
              "      <td>0</td>\n",
              "      <td>0</td>\n",
              "      <td>0</td>\n",
              "      <td>0</td>\n",
              "      <td>0</td>\n",
              "    </tr>\n",
              "    <tr>\n",
              "      <th>1</th>\n",
              "      <td>0</td>\n",
              "      <td>1</td>\n",
              "      <td>1</td>\n",
              "      <td>0</td>\n",
              "      <td>0</td>\n",
              "      <td>0</td>\n",
              "      <td>0</td>\n",
              "      <td>0</td>\n",
              "      <td>0</td>\n",
              "      <td>0</td>\n",
              "      <td>0</td>\n",
              "      <td>0</td>\n",
              "    </tr>\n",
              "    <tr>\n",
              "      <th>2</th>\n",
              "      <td>0</td>\n",
              "      <td>1</td>\n",
              "      <td>1</td>\n",
              "      <td>1</td>\n",
              "      <td>0</td>\n",
              "      <td>0</td>\n",
              "      <td>0</td>\n",
              "      <td>0</td>\n",
              "      <td>1</td>\n",
              "      <td>1</td>\n",
              "      <td>0</td>\n",
              "      <td>0</td>\n",
              "    </tr>\n",
              "    <tr>\n",
              "      <th>3</th>\n",
              "      <td>0</td>\n",
              "      <td>1</td>\n",
              "      <td>1</td>\n",
              "      <td>1</td>\n",
              "      <td>0</td>\n",
              "      <td>0</td>\n",
              "      <td>0</td>\n",
              "      <td>0</td>\n",
              "      <td>0</td>\n",
              "      <td>0</td>\n",
              "      <td>0</td>\n",
              "      <td>0</td>\n",
              "    </tr>\n",
              "    <tr>\n",
              "      <th>4</th>\n",
              "      <td>0</td>\n",
              "      <td>0</td>\n",
              "      <td>0</td>\n",
              "      <td>1</td>\n",
              "      <td>0</td>\n",
              "      <td>0</td>\n",
              "      <td>1</td>\n",
              "      <td>0</td>\n",
              "      <td>0</td>\n",
              "      <td>0</td>\n",
              "      <td>0</td>\n",
              "      <td>0</td>\n",
              "    </tr>\n",
              "  </tbody>\n",
              "</table>\n",
              "</div>"
            ],
            "text/plain": [
              "   Subject Focus  Eyes  Face  Near  ...  Human  Occlusion  Info  Blur\n",
              "0              0     1     1     1  ...      0          0     0     0\n",
              "1              0     1     1     0  ...      0          0     0     0\n",
              "2              0     1     1     1  ...      1          1     0     0\n",
              "3              0     1     1     1  ...      0          0     0     0\n",
              "4              0     0     0     1  ...      0          0     0     0\n",
              "\n",
              "[5 rows x 12 columns]"
            ]
          },
          "metadata": {},
          "execution_count": 11
        }
      ]
    },
    {
      "cell_type": "code",
      "metadata": {
        "id": "hlW8-cyAfQ4c"
      },
      "source": [
        "# Let us now split data into train and valid using sklearn\n",
        "from sklearn.model_selection import train_test_split\n",
        "# Let us split the data\n",
        "X_train, X_valid, Y_train, Y_valid = train_test_split(X[:NUM_IMAGES],\n",
        "                                                    Y[:NUM_IMAGES],\n",
        "                                                    test_size = 0.2,\n",
        "                                                    random_state= 42) # Same as np.random.seed(42)\n",
        "\n",
        "Meta_train, Meta_valid, Y_trainM, Y_validM = train_test_split(Meta_data[:NUM_IMAGES],\n",
        "                                                    Y[:NUM_IMAGES],\n",
        "                                                    test_size = 0.2,\n",
        "                                                    random_state= 42)                                         \n",
        "# Let us make sure we are working on exact dimensions of data\n",
        "len(X_train), len(Y_train), len(X_valid), len(Y_valid), len(Meta_train), len(Meta_valid)\n",
        "assert Y_train.all() == Y_trainM.all()\n",
        "assert Y_valid.all() == Y_validM.all()\n",
        "del Y_trainM\n",
        "del Y_validM"
      ],
      "execution_count": null,
      "outputs": []
    },
    {
      "cell_type": "code",
      "metadata": {
        "colab": {
          "base_uri": "https://localhost:8080/"
        },
        "id": "jcxRHIwNrxpi",
        "outputId": "89798b7b-a0eb-4894-fc32-e37f773063df"
      },
      "source": [
        "print(len(X_train))"
      ],
      "execution_count": null,
      "outputs": [
        {
          "output_type": "stream",
          "name": "stdout",
          "text": [
            "800\n"
          ]
        }
      ]
    },
    {
      "cell_type": "code",
      "metadata": {
        "id": "8hCsJdcM3l_7"
      },
      "source": [
        "for i in Meta_data.columns:\n",
        "  if Meta_data[i].any() == 0:\n",
        "    print(i)"
      ],
      "execution_count": null,
      "outputs": []
    },
    {
      "cell_type": "markdown",
      "metadata": {
        "id": "aQh4l23Iw_ma"
      },
      "source": [
        "### EDA"
      ]
    },
    {
      "cell_type": "code",
      "metadata": {
        "colab": {
          "base_uri": "https://localhost:8080/"
        },
        "id": "yPMESEFXwkYZ",
        "outputId": "7e30bee4-7359-448a-decf-c2a7ab30c304"
      },
      "source": [
        "for i in Meta_train.columns:\n",
        "  print(i)\n",
        "  print(Meta_train[i].corr(Y_train))\n",
        "print('no of meta columns', len(Meta_train.columns))"
      ],
      "execution_count": null,
      "outputs": [
        {
          "output_type": "stream",
          "name": "stdout",
          "text": [
            "Subject Focus\n",
            "-0.057926307742384255\n",
            "Eyes\n",
            "0.0008825692870834606\n",
            "Face\n",
            "0.007096701814934247\n",
            "Near\n",
            "0.009573249399570605\n",
            "Action\n",
            "0.008875077295543371\n",
            "Accessory\n",
            "-0.01713816820029904\n",
            "Group\n",
            "0.019066942101856832\n",
            "Collage\n",
            "0.030983688351112867\n",
            "Human\n",
            "-0.004416743174041199\n",
            "Occlusion\n",
            "0.0024823341164492032\n",
            "Info\n",
            "-0.050787767036055705\n",
            "Blur\n",
            "0.014859241562109257\n",
            "no of meta columns 12\n"
          ]
        }
      ]
    },
    {
      "cell_type": "code",
      "metadata": {
        "id": "TBjVsIiGTVmt"
      },
      "source": [
        "# Image standard size setting up\n",
        "IMAGE_SIZE = 224\n",
        "# Grand Function to carry out all the preprocessing methods on images using different tensorflow methods and classes\n",
        "def preprocessing(image_file) :\n",
        "  '''\n",
        "  The function takes image file path as input all perform some preprocessing on images like :\n",
        "  1. Input image using file_path.\n",
        "  2. Converts image into tensors.\n",
        "  3. Normalize the tensors from 1-255 to 0-1.\n",
        "  4. Resize the image into a standard and common size which is 224*224.\n",
        "  5. Return processed image.\n",
        "  '''\n",
        "  # Step 1: access image using file path\n",
        "  image = tf.io.read_file(image_file)\n",
        "  # Step 2: Converting numpy from of image into tensors with 3 channels\n",
        "  image = tf.image.decode_jpeg(image, channels = 3)\n",
        "  # Step 3: Normalizing the image pixel values.\n",
        "  image = tf.image.convert_image_dtype(image, tf.float32)\n",
        "  # Step 4: Resizing all images into a standart shape\n",
        "  image = tf.image.resize(image, size=[IMAGE_SIZE, IMAGE_SIZE])\n",
        "  \n",
        "  # Return image\n",
        "  return image"
      ],
      "execution_count": null,
      "outputs": []
    },
    {
      "cell_type": "code",
      "metadata": {
        "id": "esqBH6GYsB3m"
      },
      "source": [
        "def meta_preprocessing(meta_data, Y):\n",
        "  meta_data=tf.convert_to_tensor(meta_data)\n",
        "  return meta_data, Y"
      ],
      "execution_count": null,
      "outputs": []
    },
    {
      "cell_type": "code",
      "metadata": {
        "id": "NzP7zsHodS03"
      },
      "source": [
        "# # A small function to make image tensor and labels into a tuple.\n",
        "# def tupler(image_file, label) :\n",
        "#   '''\n",
        "#   In takes the image file path and then zip the image tensor and label into a tuple.\n",
        "#   '''\n",
        "#   image = preprocessing(image_file)\n",
        "#   return image, label"
      ],
      "execution_count": null,
      "outputs": []
    },
    {
      "cell_type": "code",
      "metadata": {
        "id": "jYlQ7OzYTvM9"
      },
      "source": [
        "# # think of need of tupler file.\n",
        "# # A Grand Function to divide the data either test, train, valid into data batches.\n",
        "# # Shuffling the train set only to make sure the model does not learn form sequence of the set.\n",
        "# BATCH_SIZE = 32\n",
        "# def create_data_batchs(X, y = None, valid_data = False, test_data = False, IsForLatent = False) :\n",
        "#   '''\n",
        "#   The function takes the data as input and prepares data bathcs using tensorflow based on type of set either train or test or valid.\n",
        "#   '''\n",
        "#   # If the data which we need to turn to batchs is test data\n",
        "#   if test_data or IsForLatent:\n",
        "#     print('preparing the test data into batchs')\n",
        "#     # Creating the data as tensors\n",
        "#     data = tf.data.Dataset.from_tensor_slices((tf.constant(X)))\n",
        "#     # Making batchs\n",
        "#     data = data.map(preprocessing).batch(BATCH_SIZE)\n",
        "#   # If the data which we need to turn to batchs is valid data\n",
        "#   elif valid_data and not IsForLatent:\n",
        "#     print('preparing the valid data into batchs')\n",
        "#     # Creating the data as tesors\n",
        "#     data = tf.data.Dataset.from_tensor_slices((tf.constant(X), \n",
        "#                                               tf.constant(y)))\n",
        "#     # Making batchs\n",
        "#     data = data.map(tupler).batch(BATCH_SIZE)\n",
        "#   # If the data which we need to turn to batchs is train data\n",
        "#   elif not IsForLatent:\n",
        "#     print('preparing the train data into batchs')\n",
        "#     # Creating the data as tensors\n",
        "#     data = tf.data.Dataset.from_tensor_slices((tf.constant(X),\n",
        "#                                               tf.constant(y)))\n",
        "#     # Shuffling the data before making them batchs is to reduce the time for it.\n",
        "#     data = data.shuffle(buffer_size = len(X))\n",
        "#     # Making batchs\n",
        "#     data = data.map(tupler).batch(BATCH_SIZE)\n",
        "#  # Lets return the data ready for experimenting\n",
        "#   return data\n",
        "  "
      ],
      "execution_count": null,
      "outputs": []
    },
    {
      "cell_type": "code",
      "metadata": {
        "id": "vatRCA_XqeWm"
      },
      "source": [
        "batch_size = 32 # Available into two other places\n",
        "def create_batchs(X, Y= None, image_data = False, Meta_data = False):\n",
        "  if image_data :\n",
        "    print('preparing the image data into batchs for latent space')\n",
        "    # Creating the data as tensors\n",
        "    data = tf.data.Dataset.from_tensor_slices((tf.constant(X)))\n",
        "    # Making batchs\n",
        "    data = data.map(preprocessing).batch(batch_size)\n",
        "  elif Meta_data:\n",
        "    print('preparing the meta data into batchs for pawpularity')\n",
        "    # Creating the data as tensors\n",
        "    data = tf.data.Dataset.from_tensor_slices((tf.constant(X),\n",
        "                                              tf.constant(Y)))\n",
        "    # Making batchs\n",
        "    data = data.map(meta_preprocessing).batch(batch_size)\n",
        "  return data\n",
        "\n"
      ],
      "execution_count": null,
      "outputs": []
    },
    {
      "cell_type": "markdown",
      "metadata": {
        "id": "HDss8He8yOct"
      },
      "source": [
        "### Is there any need for shuffling the meta or image data like done in dog vision project."
      ]
    },
    {
      "cell_type": "markdown",
      "metadata": {
        "id": "yKbVNgNgyR5j"
      },
      "source": [
        "### Is there any need to remove columns like submission type"
      ]
    },
    {
      "cell_type": "code",
      "metadata": {
        "colab": {
          "base_uri": "https://localhost:8080/"
        },
        "id": "u2t32imAkvy_",
        "outputId": "59ba6e4c-c898-46ed-f4e7-d3d605f3fc82"
      },
      "source": [
        "train_image_data = create_batchs(X_train, image_data = True)\n",
        "valid_image_data = create_batchs(X_valid, image_data = True)\n",
        "train_meta_data = create_batchs(Meta_train, Y_train, Meta_data = True)\n",
        "valid_meta_data = create_batchs(Meta_valid, Y_valid, Meta_data = True)"
      ],
      "execution_count": null,
      "outputs": [
        {
          "output_type": "stream",
          "name": "stdout",
          "text": [
            "preparing the image data into batchs for latent space\n",
            "preparing the image data into batchs for latent space\n",
            "preparing the meta data into batchs for pawpularity\n",
            "preparing the meta data into batchs for pawpularity\n"
          ]
        }
      ]
    },
    {
      "cell_type": "code",
      "metadata": {
        "colab": {
          "base_uri": "https://localhost:8080/"
        },
        "id": "Km_wZFa5WPKo",
        "outputId": "46f6664d-9f09-4425-8957-b36b2e2df9bb"
      },
      "source": [
        "train_meta_data"
      ],
      "execution_count": null,
      "outputs": [
        {
          "output_type": "execute_result",
          "data": {
            "text/plain": [
              "<BatchDataset shapes: ((None, 12), (None,)), types: (tf.int64, tf.int64)>"
            ]
          },
          "metadata": {},
          "execution_count": 22
        }
      ]
    },
    {
      "cell_type": "code",
      "metadata": {
        "id": "tmFnTQ3FWb45"
      },
      "source": [
        "### Define the CNN model ###\n",
        "\n",
        "n_filters = 12 # base number of convolutional filters\n",
        "\n",
        "'''Function to define a standard CNN model'''\n",
        "\n",
        "def make_standard_classifier(n_outputs=1):\n",
        "  Conv2D = functools.partial(tf.keras.layers.Conv2D, padding='same', activation='relu')\n",
        "  BatchNormalization = tf.keras.layers.BatchNormalization\n",
        "  Flatten = tf.keras.layers.Flatten\n",
        "  Dense = functools.partial(tf.keras.layers.Dense, activation='relu')\n",
        "\n",
        "  model = tf.keras.Sequential([\n",
        "    \n",
        "    Conv2D(filters=1*n_filters, kernel_size=5,  strides=2),\n",
        "    BatchNormalization(),\n",
        "    \n",
        "    Conv2D(filters=2*n_filters, kernel_size=5,  strides=2),\n",
        "    BatchNormalization(),\n",
        "\n",
        "    Conv2D(filters=4*n_filters, kernel_size=3,  strides=2),\n",
        "    BatchNormalization(),\n",
        "\n",
        "    Conv2D(filters=6*n_filters, kernel_size=3,  strides=2),\n",
        "    BatchNormalization(),\n",
        "\n",
        "    Flatten(),\n",
        "    Dense(512),\n",
        "    Dense(n_outputs, activation=None),\n",
        "  ])\n",
        "  return model\n",
        "\n",
        "standard_classifier = make_standard_classifier()"
      ],
      "execution_count": null,
      "outputs": []
    },
    {
      "cell_type": "code",
      "metadata": {
        "id": "9mBQF6vLbJ_N"
      },
      "source": [
        "### VAE Reparameterization ###\n",
        "\n",
        "\"\"\"Reparameterization trick by sampling from an isotropic unit Gaussian.\n",
        "# Arguments\n",
        "    z_mean, z_logsigma (tensor): mean and log of standard deviation of latent distribution (Q(z|X))\n",
        "# Returns\n",
        "    z (tensor): sampled latent vector\n",
        "\"\"\"\n",
        "def sampling(z_mean, z_logsigma):\n",
        "  # By default, random.normal is \"standard\" (ie. mean=0 and std=1.0)\n",
        "  batch, latent_dim = z_mean.shape\n",
        "  epsilon = tf.random.normal(shape=(batch, latent_dim))\n",
        "  # TODO: Define the reparameterization computation!\n",
        "  # Note the equation is given in the text block immediately above.\n",
        "  z = z_mean + (tf.math.exp(0.5*z_logsigma)*epsilon) # TODO\n",
        "  return z"
      ],
      "execution_count": null,
      "outputs": []
    },
    {
      "cell_type": "code",
      "metadata": {
        "id": "QF5KI3NdbK0L"
      },
      "source": [
        "\n",
        "### Define the decoder portion of the DB-VAE ###\n",
        "\n",
        "n_filters = 12 # base number of convolutional filters, same as standard CNN\n",
        "latent_dim = 100 # number of latent variables\n",
        "\n",
        "def make_face_decoder_network():\n",
        "  # Functionally define the different layer types we will use\n",
        "  Conv2DTranspose = functools.partial(tf.keras.layers.Conv2DTranspose, padding='same', activation='relu')\n",
        "  BatchNormalization = tf.keras.layers.BatchNormalization\n",
        "  Flatten = tf.keras.layers.Flatten\n",
        "  Dense = functools.partial(tf.keras.layers.Dense, activation='relu')\n",
        "  Reshape = tf.keras.layers.Reshape\n",
        "\n",
        "  # Build the decoder network using the Sequential API\n",
        "  decoder = tf.keras.Sequential([\n",
        "    # Transform to pre-convolutional generation\n",
        "    Dense(units=14*14*6*n_filters),  # 4x4 feature maps (with 6N occurances)\n",
        "    Reshape(target_shape=(14, 14, 6*n_filters)),\n",
        "\n",
        "    # Upscaling convolutions (inverse of encoder)\n",
        "    Conv2DTranspose(filters=4*n_filters, kernel_size=3,  strides=2),\n",
        "    Conv2DTranspose(filters=2*n_filters, kernel_size=3,  strides=2),\n",
        "    Conv2DTranspose(filters=1*n_filters, kernel_size=5,  strides=2),\n",
        "    Conv2DTranspose(filters=3, kernel_size=5,  strides=2),\n",
        "  ])\n",
        "\n",
        "  return decoder"
      ],
      "execution_count": null,
      "outputs": []
    },
    {
      "cell_type": "code",
      "metadata": {
        "id": "d_42J-ambCL1"
      },
      "source": [
        "### Defining the VAE loss function ###\n",
        "\n",
        "''' Function to calculate VAE loss given:\n",
        "      an input x, \n",
        "      reconstructed output x_recon, \n",
        "      encoded means mu, \n",
        "      encoded log of standard deviation logsigma, \n",
        "      weight parameter for the latent loss kl_weight\n",
        "'''\n",
        "def vae_loss_function(x, x_recon, mu, logsigma, kl_weight=0.0005):\n",
        "  # TODO: Define the latent loss. Note this is given in the equation for L_{KL}\n",
        "  # in the text block directly above\n",
        "  #latent_loss = tf.reduce_sum((tf.math.exp(logsigma))+((mu**2)-1-logsigma), axis=0)  # TODO\n",
        "  latent_loss = 0.5 * tf.reduce_sum(tf.exp(logsigma) + tf.square(mu) - 1.0 - logsigma, axis=1)\n",
        "  # TODO: Define the reconstruction loss as the mean absolute pixel-wise \n",
        "  # difference between the input and reconstruction. Hint: you'll need to \n",
        "  # use tf.reduce_mean, and supply an axis argument which specifies which \n",
        "  # dimensions to reduce over. For example, reconstruction loss needs to average \n",
        "  # over the height, width, and channel image dimensions.\n",
        "  # https://www.tensorflow.org/api_docs/python/tf/math/reduce_mean\n",
        "  reconstruction_loss = tf.math.reduce_mean(tf.math.abs(x - x_recon), axis= (1,2,3))# TODO\n",
        "\n",
        "  # TODO: Define the VAE loss. Note this is given in the equation for L_{VAE}\n",
        "  # in the text block directly above\n",
        "  vae_loss = tf.reduce_mean((kl_weight*latent_loss)+reconstruction_loss) # TODO\n",
        "  \n",
        "  return vae_loss"
      ],
      "execution_count": null,
      "outputs": []
    },
    {
      "cell_type": "code",
      "metadata": {
        "id": "3ZFGSCJaE0m_"
      },
      "source": [
        "### Defining and creating the VAE ###\n",
        "\n",
        "class VAE(tf.keras.Model):\n",
        "  def __init__(self, latent_dim):\n",
        "    super(VAE, self).__init__()\n",
        "    self.latent_dim = latent_dim\n",
        "\n",
        "    # Define the number of outputs for the encoder. Recall that we have \n",
        "    # `latent_dim` latent variables, as well as a supervised output for the \n",
        "    # classification.\n",
        "    num_encoder_dims = 2*self.latent_dim # +1\n",
        "\n",
        "    self.encoder = make_standard_classifier(num_encoder_dims)\n",
        "    self.decoder = make_face_decoder_network()\n",
        "\n",
        "  # function to feed images into encoder, encode the latent space, and output\n",
        "  #   classification probability \n",
        "  def encode(self, x):\n",
        "    # encoder output\n",
        "    encoder_output = self.encoder(x)\n",
        "\n",
        "    # # classification prediction\n",
        "    # y_logit = tf.expand_dims(encoder_output[:, 0], -1)\n",
        "    # latent variable distribution parameters\n",
        "    z_mean = encoder_output[:, 0:self.latent_dim] \n",
        "    z_logsigma = encoder_output[:, self.latent_dim:]\n",
        "\n",
        "    return z_mean, z_logsigma\n",
        "\n",
        "  # VAE reparameterization: given a mean and logsigma, sample latent variables\n",
        "  def reparameterize(self, z_mean, z_logsigma):\n",
        "    # TODO: call the sampling function defined above\n",
        "    z = sampling(z_mean, z_logsigma)# TODO\n",
        "    \n",
        "    return z\n",
        "\n",
        "  # Decode the latent space and output reconstruction\n",
        "  def decode(self, z):\n",
        "    # TODO: use the decoder to output the reconstruction\n",
        "    reconstruction = self.decoder(z) # TODO\n",
        "    return reconstruction\n",
        "\n",
        "  # The call function will be used to pass inputs x through the core VAE\n",
        "  def call(self, x): \n",
        "    \n",
        "    # Encode input to a prediction and latent space\n",
        "    z_mean, z_logsigma = self.encode(x)\n",
        "    \n",
        "    # TODO: reparameterization\n",
        "    z =  self.reparameterize(z_mean, z_logsigma) # TODO\n",
        "    \n",
        "    # TODO: reconstruction\n",
        "    recon = self.decode(z) # TODO\n",
        "    \n",
        "    return z_mean, z_logsigma, recon\n",
        "\n",
        "  # # Predict face or not face logit for given input x\n",
        "  # def predict(self, x):\n",
        "  #   y_logit, z_mean, z_logsigma = self.encode(x)\n",
        "  #   return y_logit\n",
        "\n",
        "vae = VAE(latent_dim)"
      ],
      "execution_count": null,
      "outputs": []
    },
    {
      "cell_type": "code",
      "metadata": {
        "colab": {
          "base_uri": "https://localhost:8080/"
        },
        "id": "HLNutGiCGfGe",
        "outputId": "99158ee7-6169-433b-d08a-3f1faa8649fc"
      },
      "source": [
        "### Training the VAE ###\n",
        "\n",
        "# Hyperparameters\n",
        "batch_size = 32 # Available into two other places\n",
        "learning_rate = 5e-4\n",
        "latent_dim = 1024\n",
        "\n",
        "# VAE needs slightly more epochs to train since its more complex than \n",
        "# the standard classifier so we use 6 instead of 2\n",
        "num_epochs = 6 # ALL MOST IDEAL EPOCHS EXPERIENCED\n",
        "\n",
        "# instantiate a new VAE model and optimizer\n",
        "vae = VAE(latent_dim)\n",
        "optimizer_vae = tf.keras.optimizers.Adam(learning_rate)\n",
        "\n",
        "# To define the training operation, we will use tf.function which is a powerful tool \n",
        "#   that lets us turn a Python function into a TensorFlow computation graph.\n",
        "@tf.function\n",
        "def vae_training_step(x):\n",
        "\n",
        "  with tf.GradientTape() as tape:\n",
        "    # Feed input x into vae. Note that this is using the VAE call function!\n",
        "    \n",
        "    z_mean, z_logsigma, x_recon = vae.call(x)\n",
        "    \n",
        "    '''TODO: call the VAE loss function to compute the loss'''\n",
        "    # loss, class_loss = debiasing_loss_function(x, x_recon, y, y_logit, z_mean, z_logsigma) # TODO\n",
        "    loss =  vae_loss_function(x, x_recon, z_mean, z_logsigma)\n",
        "  '''TODO: use the GradientTape.gradient method to compute the gradients.\n",
        "     Hint: this is with respect to the trainable_variables of the vae.'''\n",
        "  grads = tape.gradient(loss, vae.trainable_variables) # TODO\n",
        "\n",
        "  # apply gradients to variables\n",
        "  optimizer_vae.apply_gradients(zip(grads, vae.trainable_variables))\n",
        "  return loss\n",
        "\n",
        "\n",
        "for i in range(num_epochs):\n",
        "  for j in range(len(X_train)//batch_size): # Change the range 800 to len(train_csv) after experimenting with small data\n",
        "    (train_images) = next(train_image_data.as_numpy_iterator())\n",
        "    loss = vae_training_step(train_images)\n",
        "  print(loss)\n"
      ],
      "execution_count": null,
      "outputs": [
        {
          "output_type": "stream",
          "name": "stdout",
          "text": [
            "tf.Tensor(0.30913377, shape=(), dtype=float32)\n",
            "tf.Tensor(0.21439308, shape=(), dtype=float32)\n",
            "tf.Tensor(0.17616284, shape=(), dtype=float32)\n",
            "tf.Tensor(0.16838518, shape=(), dtype=float32)\n",
            "tf.Tensor(0.16166815, shape=(), dtype=float32)\n",
            "tf.Tensor(0.16084795, shape=(), dtype=float32)\n"
          ]
        }
      ]
    },
    {
      "cell_type": "code",
      "metadata": {
        "id": "-IblpT4Hq1EC"
      },
      "source": [
        "\n",
        "# # get training faces from data loader\n",
        "# all_faces = loader.get_all_train_faces()\n",
        "\n",
        "# if hasattr(tqdm, '_instances'): tqdm._instances.clear() # clear if it exists\n",
        "\n",
        "# # The training loop -- outer loop iterates over the number of epochs\n",
        "# for i in range(num_epochs):\n",
        "\n",
        "#   IPython.display.clear_output(wait=True)\n",
        "#   print(\"Starting epoch {}/{}\".format(i+1, num_epochs))\n",
        "\n",
        "#   # Recompute data sampling proabilities\n",
        "#   '''TODO: recompute the sampling probabilities for debiasing'''\n",
        "#   p_faces = get_training_sample_probabilities(all_faces, dbvae) # TODO\n",
        "  \n",
        "#   # get a batch of training data and compute the training step\n",
        "#   for j in tqdm(range(loader.get_train_size() // batch_size)):\n",
        "#     # load a batch of data\n",
        "#     (x, y) = loader.get_batch(batch_size, p_pos=p_faces)\n",
        "#     # loss optimization\n",
        "#     loss = debiasing_train_step(x, y)\n",
        "    \n",
        "#     # plot the progress every 200 steps\n",
        "#     if j % 500 == 0: \n",
        "#       mdl.util.plot_sample(x, y, dbvae)"
      ],
      "execution_count": null,
      "outputs": []
    },
    {
      "cell_type": "code",
      "metadata": {
        "id": "lYTRJ2YHgCFN"
      },
      "source": [
        "# (valid_images) = next(valid_image_data.as_numpy_iterator())"
      ],
      "execution_count": null,
      "outputs": []
    },
    {
      "cell_type": "code",
      "metadata": {
        "id": "Ipz7LDFtuArB"
      },
      "source": [
        "# z_mean, z_logsigma, x_recon = vae.call(valid_images)\n",
        "# loss =  vae_loss_function(valid_images, x_recon, z_mean, z_logsigma)\n",
        "# print(loss)"
      ],
      "execution_count": null,
      "outputs": []
    },
    {
      "cell_type": "code",
      "metadata": {
        "id": "LlyQaErjLKGR"
      },
      "source": [
        "# def get_Z(images):\n",
        "#   # vae_training_step(images)\n",
        "#   z_mean, z_logsigma = vae.encode(images)\n",
        "#   z = vae.reparameterize(z_mean, z_logsigma)\n",
        "#   return z"
      ],
      "execution_count": null,
      "outputs": []
    },
    {
      "cell_type": "code",
      "metadata": {
        "id": "dg87EIQ0sEGU"
      },
      "source": [
        "# (valid_meta, valid_labels) = next(valid_meta_data.as_numpy_iterator())\n",
        "# valid_meta.shape"
      ],
      "execution_count": null,
      "outputs": []
    },
    {
      "cell_type": "code",
      "metadata": {
        "id": "50zN4WCApeyA"
      },
      "source": [
        "# z_mean, z_logsigam = vae.encode(images)"
      ],
      "execution_count": null,
      "outputs": []
    },
    {
      "cell_type": "code",
      "metadata": {
        "id": "4KJLIewgHyh-"
      },
      "source": [
        "# z = vae.reparameterize(z_mean, z_logsigam)\n",
        "# print(z.shape)"
      ],
      "execution_count": null,
      "outputs": []
    },
    {
      "cell_type": "markdown",
      "metadata": {
        "id": "VARC1WD4T8br"
      },
      "source": [
        "## Working for z and meta data and designing a model neural network for pawpularity"
      ]
    },
    {
      "cell_type": "code",
      "metadata": {
        "id": "oIEGn1N9w5QT"
      },
      "source": [
        "# def tf_concatenator(z, meta_data, labels):\n",
        "#   combined_data = tf.concat([z, meta_data], axis= 1)\n",
        "#   return combined_data"
      ],
      "execution_count": null,
      "outputs": []
    },
    {
      "cell_type": "code",
      "metadata": {
        "id": "AmTZIEPjxYtH"
      },
      "source": [
        "# print(tf_concatenator(z, valid_meta, valid_labels).shape)"
      ],
      "execution_count": null,
      "outputs": []
    },
    {
      "cell_type": "code",
      "metadata": {
        "id": "3mOzbZ2cLppo"
      },
      "source": [
        "def Meta_model(output_dim):\n",
        "  meta_model = tf.keras.Sequential([\n",
        "                        tf.keras.layers.Dense(units = 1024, activation = 'relu'),\n",
        "                        tf.keras.layers.Dense(units = 512, activation = 'relu'),\n",
        "                        tf.keras.layers.Dense(units = 248, activation = 'relu'),\n",
        "                        tf.keras.layers.Dense(units = 100, activation = 'relu'),\n",
        "                        tf.keras.layers.Dense(units = output_dim, activation= None)\n",
        "  ])\n",
        "  return meta_model"
      ],
      "execution_count": null,
      "outputs": []
    },
    {
      "cell_type": "markdown",
      "metadata": {
        "id": "dgw-25kaja4s"
      },
      "source": [
        "### do we need to have a probablistic value or a deterministic value for last dense layer"
      ]
    },
    {
      "cell_type": "code",
      "metadata": {
        "id": "hQ6KGenFYhlO"
      },
      "source": [
        "# meta_model = Final_pawpularity()\n",
        "# meta_model.build()"
      ],
      "execution_count": null,
      "outputs": []
    },
    {
      "cell_type": "code",
      "metadata": {
        "id": "n1gj31L_YkLx"
      },
      "source": [
        "# meta_model.summary()"
      ],
      "execution_count": null,
      "outputs": []
    },
    {
      "cell_type": "code",
      "metadata": {
        "id": "c8oyHcmPasYr"
      },
      "source": [
        "### Defining and creating the VAE ###\n",
        "output_dim = 1\n",
        "class PAW(tf.keras.Model):\n",
        "  def __init__(self, output_dim):\n",
        "    super(PAW, self).__init__()\n",
        "    self.output_dim = output_dim\n",
        "\n",
        "    # Define the number of outputs for the encoder. Recall that we have \n",
        "    # `latent_dim` latent variables, as well as a supervised output for the \n",
        "    # classification.\n",
        "    # num_encoder_dims = 2*self.latent_dim # +1\n",
        "\n",
        "    self.meta_model = Meta_model(output_dim)\n",
        "    # self.decoder = make_face_decoder_network()\n",
        "\n",
        "  # function to feed images into encoder, encode the latent space, and output\n",
        "  #   classification probability \n",
        "  def get_z(self, images):\n",
        "    z_mean, z_logsigma = vae.encode(images)\n",
        "    z = vae.reparameterize(z_mean, z_logsigma)\n",
        "    return z\n",
        "\n",
        "    # # # classification prediction\n",
        "    # # y_logit = tf.expand_dims(encoder_output[:, 0], -1)\n",
        "    # # latent variable distribution parameters\n",
        "    # z_mean = encoder_output[:, 0:self.latent_dim] \n",
        "    # z_logsigma = encoder_output[:, self.latent_dim:]\n",
        "\n",
        "    # return z_mean, z_logsigma\n",
        "\n",
        "  def tf_concatenator(self, z, meta_data):\n",
        "    meta_data = tf.cast(meta_data, dtype=tf.float32)\n",
        "    combined_data = tf.concat([z, meta_data], axis= 1)\n",
        "    return combined_data\n",
        "\n",
        "  # # VAE reparameterization: given a mean and logsigma, sample latent variables\n",
        "  # def reparameterize(self, z_mean, z_logsigma):\n",
        "  #   # TODO: call the sampling function defined above\n",
        "  #   z = sampling(z_mean, z_logsigma)# TODO\n",
        "    \n",
        "  #   return z\n",
        "\n",
        "  # # Decode the latent space and output reconstruction\n",
        "  # def decode(self, z):\n",
        "  #   # TODO: use the decoder to output the reconstruction\n",
        "  #   reconstruction = self.decoder(z) # TODO\n",
        "  #   return reconstruction\n",
        "\n",
        "  # The call function will be used to pass inputs x through the core VAE\n",
        "  def call(self, images, meta_data): \n",
        "    \n",
        "    # Encode input to a prediction and latent space\n",
        "    z = self.get_z(images)\n",
        "    combined_x = self.tf_concatenator(z, meta_data)\n",
        "    predictions = self.meta_model(combined_x)\n",
        "    return predictions\n",
        "  # # Predict face or not face logit for given input x\n",
        "  # def predict(self, x):\n",
        "  #   y_logit, z_mean, z_logsigma = self.encode(x)\n",
        "  #   return y_logit\n",
        "\n",
        "paw = PAW(output_dim)"
      ],
      "execution_count": null,
      "outputs": []
    },
    {
      "cell_type": "code",
      "metadata": {
        "id": "P3eF_7-C-VC_"
      },
      "source": [
        "def paw_loss_function(predictions, y_true):\n",
        "  loss = tf.sqrt(tf.reduce_mean((tf.cast(y_true, dtype= tf.float32) - tf.squeeze(predictions))**2))\n",
        "  return loss"
      ],
      "execution_count": null,
      "outputs": []
    },
    {
      "cell_type": "code",
      "metadata": {
        "colab": {
          "base_uri": "https://localhost:8080/"
        },
        "id": "EKgzBZwk7Tpm",
        "outputId": "e551aa6b-9190-4966-97a0-d085e760b651"
      },
      "source": [
        "### Training the VAE ###\n",
        "\n",
        "# Hyperparameters\n",
        "batch_size = 32 # Available into two other places\n",
        "learning_rate = 5e-4\n",
        "output_dim = 1\n",
        "\n",
        "# VAE needs slightly more epochs to train since its more complex than \n",
        "# the standard classifier so we use 6 instead of 2\n",
        "num_epochs = 2 # ALL MOST IDEAL EPOCHS EXPERIENCED\n",
        "\n",
        "# instantiate a new DB-VAE model and optimizer\n",
        "paw = PAW(output_dim)\n",
        "optimizer_paw = tf.keras.optimizers.Adam(learning_rate)\n",
        "\n",
        "# To define the training operation, we will use tf.function which is a powerful tool \n",
        "#   that lets us turn a Python function into a TensorFlow computation graph.\n",
        "@tf.function\n",
        "def paw_training_step(images, meta_data, y_true):\n",
        "\n",
        "  with tf.GradientTape() as tape:\n",
        "    # Feed input x into dbvae. Note that this is using the VAE call function!\n",
        "    \n",
        "    predictions = paw.call(images, meta_data)\n",
        "    \n",
        "    '''TODO: call the VAE loss function to compute the loss'''\n",
        "    # loss, class_loss = debiasing_loss_function(x, x_recon, y, y_logit, z_mean, z_logsigma) # TODO\n",
        "    loss =  paw_loss_function(predictions, y_true)\n",
        "  '''TODO: use the GradientTape.gradient method to compute the gradients.\n",
        "     Hint: this is with respect to the trainable_variables of the dbvae.'''\n",
        "  grads = tape.gradient(loss, paw.trainable_variables) # TODO\n",
        "\n",
        "  # apply gradients to variables\n",
        "  optimizer_paw.apply_gradients(zip(grads, paw.trainable_variables))\n",
        "  return loss\n",
        "\n",
        "\n",
        "for i in range(num_epochs):\n",
        "  for j in range(len(X_train)//batch_size): # Change the range 800 to len(train_csv) after experimenting with small data\n",
        "    (train_metas, y_true) = next(train_meta_data.as_numpy_iterator())\n",
        "    (train_images) = next(train_image_data.as_numpy_iterator())\n",
        "    loss = paw_training_step(train_images, train_metas, y_true)\n",
        "    print(loss)\n"
      ],
      "execution_count": null,
      "outputs": [
        {
          "output_type": "stream",
          "name": "stdout",
          "text": [
            "tf.Tensor(32.005344, shape=(), dtype=float32)\n",
            "tf.Tensor(30.31035, shape=(), dtype=float32)\n",
            "tf.Tensor(28.619122, shape=(), dtype=float32)\n",
            "tf.Tensor(26.782146, shape=(), dtype=float32)\n",
            "tf.Tensor(24.668812, shape=(), dtype=float32)\n",
            "tf.Tensor(22.034243, shape=(), dtype=float32)\n",
            "tf.Tensor(19.251377, shape=(), dtype=float32)\n",
            "tf.Tensor(16.056482, shape=(), dtype=float32)\n",
            "tf.Tensor(12.8138275, shape=(), dtype=float32)\n",
            "tf.Tensor(10.936364, shape=(), dtype=float32)\n",
            "tf.Tensor(11.534652, shape=(), dtype=float32)\n",
            "tf.Tensor(14.0390415, shape=(), dtype=float32)\n",
            "tf.Tensor(13.803701, shape=(), dtype=float32)\n",
            "tf.Tensor(13.881571, shape=(), dtype=float32)\n",
            "tf.Tensor(13.204272, shape=(), dtype=float32)\n",
            "tf.Tensor(11.317527, shape=(), dtype=float32)\n",
            "tf.Tensor(9.994785, shape=(), dtype=float32)\n",
            "tf.Tensor(9.693277, shape=(), dtype=float32)\n",
            "tf.Tensor(10.776836, shape=(), dtype=float32)\n",
            "tf.Tensor(10.677, shape=(), dtype=float32)\n",
            "tf.Tensor(11.177558, shape=(), dtype=float32)\n",
            "tf.Tensor(11.198285, shape=(), dtype=float32)\n",
            "tf.Tensor(11.135946, shape=(), dtype=float32)\n",
            "tf.Tensor(10.841631, shape=(), dtype=float32)\n",
            "tf.Tensor(9.567171, shape=(), dtype=float32)\n",
            "tf.Tensor(9.995809, shape=(), dtype=float32)\n",
            "tf.Tensor(10.345639, shape=(), dtype=float32)\n",
            "tf.Tensor(9.223658, shape=(), dtype=float32)\n",
            "tf.Tensor(10.451297, shape=(), dtype=float32)\n",
            "tf.Tensor(9.595111, shape=(), dtype=float32)\n",
            "tf.Tensor(9.8888, shape=(), dtype=float32)\n",
            "tf.Tensor(9.779677, shape=(), dtype=float32)\n",
            "tf.Tensor(9.811351, shape=(), dtype=float32)\n",
            "tf.Tensor(8.83996, shape=(), dtype=float32)\n",
            "tf.Tensor(8.801191, shape=(), dtype=float32)\n",
            "tf.Tensor(9.453825, shape=(), dtype=float32)\n",
            "tf.Tensor(9.29889, shape=(), dtype=float32)\n",
            "tf.Tensor(8.653225, shape=(), dtype=float32)\n",
            "tf.Tensor(9.389554, shape=(), dtype=float32)\n",
            "tf.Tensor(9.032969, shape=(), dtype=float32)\n",
            "tf.Tensor(8.5929, shape=(), dtype=float32)\n",
            "tf.Tensor(8.585861, shape=(), dtype=float32)\n",
            "tf.Tensor(8.599821, shape=(), dtype=float32)\n",
            "tf.Tensor(8.216119, shape=(), dtype=float32)\n",
            "tf.Tensor(8.436706, shape=(), dtype=float32)\n",
            "tf.Tensor(9.612766, shape=(), dtype=float32)\n",
            "tf.Tensor(9.929234, shape=(), dtype=float32)\n",
            "tf.Tensor(8.23698, shape=(), dtype=float32)\n",
            "tf.Tensor(8.544553, shape=(), dtype=float32)\n",
            "tf.Tensor(8.179777, shape=(), dtype=float32)\n"
          ]
        }
      ]
    },
    {
      "cell_type": "markdown",
      "metadata": {
        "id": "RmMWdJ-BUJk1"
      },
      "source": [
        "### Valid predicitions"
      ]
    },
    {
      "cell_type": "code",
      "metadata": {
        "colab": {
          "base_uri": "https://localhost:8080/"
        },
        "id": "Wh93WPC62UVS",
        "outputId": "1a26c078-5c51-48b5-8fe1-a70cde89625a"
      },
      "source": [
        "# total valid set\n",
        "for i in range(len(X_valid)//batch_size):\n",
        "  (valid_metas, y_true) = next(valid_meta_data.as_numpy_iterator())\n",
        "  (valid_images) = next(valid_image_data.as_numpy_iterator())\n",
        "  predictions = paw.call(valid_images, valid_metas)\n",
        "  mse = paw_loss_function(predictions, y_true)\n",
        "  print(mse)"
      ],
      "execution_count": null,
      "outputs": [
        {
          "output_type": "stream",
          "name": "stdout",
          "text": [
            "tf.Tensor(22.186758, shape=(), dtype=float32)\n",
            "tf.Tensor(22.910269, shape=(), dtype=float32)\n",
            "tf.Tensor(21.320229, shape=(), dtype=float32)\n",
            "tf.Tensor(22.457972, shape=(), dtype=float32)\n",
            "tf.Tensor(22.306618, shape=(), dtype=float32)\n",
            "tf.Tensor(22.142687, shape=(), dtype=float32)\n"
          ]
        }
      ]
    },
    {
      "cell_type": "code",
      "metadata": {
        "id": "YnZHA5bbDPHO"
      },
      "source": [
        "(valid_metas, y_true) = next(valid_meta_data.as_numpy_iterator())\n",
        "(valid_images) = next(valid_image_data.as_numpy_iterator())\n",
        "predictions = paw.call(valid_images, valid_metas)\n"
      ],
      "execution_count": null,
      "outputs": []
    },
    {
      "cell_type": "code",
      "metadata": {
        "id": "n0Ctdq7olBye"
      },
      "source": [
        "z_mean, z_logsigma, x_recon = vae.call(valid_images)\n",
        "latent_loss =  vae_loss_function(valid_images, x_recon, z_mean, z_logsigma)"
      ],
      "execution_count": null,
      "outputs": []
    },
    {
      "cell_type": "code",
      "metadata": {
        "colab": {
          "base_uri": "https://localhost:8080/"
        },
        "id": "p-QgI42ZflG5",
        "outputId": "0c14d764-16a8-4b17-d111-7760adfaac7f"
      },
      "source": [
        "predictions"
      ],
      "execution_count": null,
      "outputs": [
        {
          "output_type": "execute_result",
          "data": {
            "text/plain": [
              "<tf.Tensor: shape=(32, 1), dtype=float32, numpy=\n",
              "array([[29.584097],\n",
              "       [33.08997 ],\n",
              "       [29.871193],\n",
              "       [27.881334],\n",
              "       [34.458874],\n",
              "       [25.146557],\n",
              "       [28.595871],\n",
              "       [35.072243],\n",
              "       [23.034458],\n",
              "       [43.79861 ],\n",
              "       [29.4834  ],\n",
              "       [33.94175 ],\n",
              "       [27.628723],\n",
              "       [27.844177],\n",
              "       [31.988972],\n",
              "       [29.713047],\n",
              "       [34.639   ],\n",
              "       [23.773382],\n",
              "       [30.824936],\n",
              "       [19.475529],\n",
              "       [29.613195],\n",
              "       [31.190502],\n",
              "       [26.833183],\n",
              "       [31.443487],\n",
              "       [24.549286],\n",
              "       [22.595127],\n",
              "       [28.173126],\n",
              "       [22.033741],\n",
              "       [38.75439 ],\n",
              "       [25.365156],\n",
              "       [26.497278],\n",
              "       [26.88113 ]], dtype=float32)>"
            ]
          },
          "metadata": {},
          "execution_count": 47
        }
      ]
    },
    {
      "cell_type": "code",
      "metadata": {
        "colab": {
          "base_uri": "https://localhost:8080/"
        },
        "id": "826B1URYz8P2",
        "outputId": "a22b1ad5-47e5-43e2-b2ef-f7227cc81ee0"
      },
      "source": [
        "y_true"
      ],
      "execution_count": null,
      "outputs": [
        {
          "output_type": "execute_result",
          "data": {
            "text/plain": [
              "array([ 17,  30,  26,  72,  29,  35,  26,  71,   4,  39,  28,  26,  49,\n",
              "        32, 100,  45,  59,  48,  34,  73,  49,  23,  31,  47,  26,  38,\n",
              "        43,   9,  35,  29,  50,  36])"
            ]
          },
          "metadata": {},
          "execution_count": 48
        }
      ]
    },
    {
      "cell_type": "code",
      "metadata": {
        "colab": {
          "base_uri": "https://localhost:8080/"
        },
        "id": "NtfCGsP5gAxd",
        "outputId": "31d90d32-81f8-4a21-dfbc-baaf2263d34e"
      },
      "source": [
        "mse = paw_loss_function(predictions, y_true)\n",
        "mse"
      ],
      "execution_count": null,
      "outputs": [
        {
          "output_type": "execute_result",
          "data": {
            "text/plain": [
              "<tf.Tensor: shape=(), dtype=float32, numpy=21.928286>"
            ]
          },
          "metadata": {},
          "execution_count": 49
        }
      ]
    },
    {
      "cell_type": "markdown",
      "metadata": {
        "id": "Ne23TMBaU16q"
      },
      "source": [
        "### For test images"
      ]
    },
    {
      "cell_type": "code",
      "metadata": {
        "id": "W6qhl3QbDTzl"
      },
      "source": [
        "test_image_data = create_batchs()\n",
        "(test_images, test_metas) = next\n",
        "(test_image_data.as_numpy_iterator())"
      ],
      "execution_count": null,
      "outputs": []
    }
  ]
}