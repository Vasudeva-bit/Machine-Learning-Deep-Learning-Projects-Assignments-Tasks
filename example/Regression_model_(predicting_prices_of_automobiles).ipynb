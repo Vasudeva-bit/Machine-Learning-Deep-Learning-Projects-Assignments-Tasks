{
  "nbformat": 4,
  "nbformat_minor": 0,
  "metadata": {
    "colab": {
      "name": "Regression model (predicting prices of automobiles).ipynb",
      "provenance": [],
      "collapsed_sections": [],
      "authorship_tag": "ABX9TyOD1xEtHygr7qgg7QJ0e3Az",
      "include_colab_link": true
    },
    "kernelspec": {
      "display_name": "Python 3",
      "name": "python3"
    },
    "language_info": {
      "name": "python"
    }
  },
  "cells": [
    {
      "cell_type": "markdown",
      "metadata": {
        "id": "view-in-github",
        "colab_type": "text"
      },
      "source": [
        "<a href=\"https://colab.research.google.com/github/Vasudeva-bit/Automobile-Price-Prediction/blob/main/Regression_model_(predicting_prices_of_automobiles).ipynb\" target=\"_parent\"><img src=\"https://colab.research.google.com/assets/colab-badge.svg\" alt=\"Open In Colab\"/></a>"
      ]
    },
    {
      "cell_type": "markdown",
      "metadata": {
        "id": "JKcKdSXgiDfn"
      },
      "source": [
        "## Machine learning model to predict the sale prices of Bulldozer using the time series data.\n",
        "#### A Regression model to predict the number.\n",
        "#### We will be working on the this model using dataset of kaggle, and to be clear, we are working on a problem of predicting Bulldozer prices, which was a held competition on kaggle.\n",
        "#### 1. Problem Definition\n",
        "The goal of the model is to predict the sale price of a particular piece of heavy equiment at auction based on it's usage, equipment type, and configuaration.\n",
        "The direct link to original version of problem statement is :\n",
        "https://www.kaggle.com/c/bluebook-for-bulldozers/overview/description\n",
        "\n",
        "#### 2. Data\n",
        "The data we use in this model is directly imported from kaggle.\n",
        "The link to the data is : https://www.kaggle.com/c/bluebook-for-bulldozers/data\n",
        "The data is split into three parts:\n",
        "\n",
        "Train.csv is the training set, which contains data through the end of 2011.\n",
        "Valid.csv is the validation set, which contains data from January 1, 2012 - April 30, 2012 You make predictions on this set throughout the majority of the competition. Your score on this set is used to create the public leaderboard.\n",
        "Test.csv is the test set, which won't be released until the last week of the competition. It contains data from May 1, 2012 - November 2012.\n",
        "#### 3. Evalutation\n",
        "The evaluation metric for this competition is the RMSLE (root mean squared log error) between the actual and predicted auction prices.\n",
        "Note: Our main goal like any other regression model is to minimize the error and in this case we need to end up making our model error small as possible.\n",
        "\n",
        "#### 4. Features\n",
        "The key fields are in train.csv are:\n",
        "\n",
        "SalesID: the uniue identifier of the sale\n",
        "MachineID: the unique identifier of a machine.  A machine can be sold multiple times\n",
        "saleprice: what the machine sold for at auction (only provided in train.csv)\n",
        "saledate: the date of the sale\n",
        "There are several fields towards the end of the file on the different options a machine can have.  The descriptions all start with \"machine configuration\" in the data dictionary."
      ]
    },
    {
      "cell_type": "code",
      "metadata": {
        "id": "3PKhzN2Me-JH"
      },
      "source": [
        "import pandas as pd\n",
        "import numpy as np\n",
        "import matplotlib.pyplot as plt\n",
        "import sklearn"
      ],
      "execution_count": null,
      "outputs": []
    },
    {
      "cell_type": "markdown",
      "metadata": {
        "id": "f3zGVzspgC9Z"
      },
      "source": [
        "#### I am importing data from the local machine but you can get access to it on my google drive and the link is :\n",
        "https://drive.google.com/file/d/19B2HAK4Tlma-YhlJfXiXg-Wy1F68DSb8/view?usp=sharing\n"
      ]
    },
    {
      "cell_type": "code",
      "metadata": {
        "colab": {
          "base_uri": "https://localhost:8080/"
        },
        "id": "vSi6knVIdVsr",
        "outputId": "039b6c2a-657e-4e34-8708-d10c9cb93c0a"
      },
      "source": [
        "# Mounting data from google drive.\n",
        "from google.colab import drive\n",
        "drive.mount('/content/drive')"
      ],
      "execution_count": null,
      "outputs": [
        {
          "output_type": "stream",
          "name": "stdout",
          "text": [
            "Mounted at /content/drive\n"
          ]
        }
      ]
    },
    {
      "cell_type": "code",
      "metadata": {
        "colab": {
          "base_uri": "https://localhost:8080/"
        },
        "id": "ZA3j0eXkfkfD",
        "outputId": "d0d0c8e0-dab5-447c-9962-92fafa8d2d79"
      },
      "source": [
        "# Converting my data into pandas dataframe to work well and explore the data them visualise it before going build a regression model.\n",
        "df = pd.read_csv('/content/drive/MyDrive/TrainAndValid.csv/TrainAndValid.csv')"
      ],
      "execution_count": null,
      "outputs": [
        {
          "output_type": "stream",
          "name": "stderr",
          "text": [
            "/usr/local/lib/python3.7/dist-packages/IPython/core/interactiveshell.py:2718: DtypeWarning: Columns (13,39,40,41) have mixed types.Specify dtype option on import or set low_memory=False.\n",
            "  interactivity=interactivity, compiler=compiler, result=result)\n"
          ]
        }
      ]
    },
    {
      "cell_type": "markdown",
      "metadata": {
        "id": "svInZ_JMj9W_"
      },
      "source": [
        "#### Exploring our data"
      ]
    },
    {
      "cell_type": "code",
      "metadata": {
        "colab": {
          "base_uri": "https://localhost:8080/"
        },
        "id": "ZRviwNxpjPc3",
        "outputId": "54cdee49-3212-4c5d-87de-5add2fff5e1c"
      },
      "source": [
        "# Looking at the data and their types to better work on building a model\n",
        "df.info()"
      ],
      "execution_count": null,
      "outputs": [
        {
          "output_type": "stream",
          "name": "stdout",
          "text": [
            "<class 'pandas.core.frame.DataFrame'>\n",
            "RangeIndex: 412698 entries, 0 to 412697\n",
            "Data columns (total 53 columns):\n",
            " #   Column                    Non-Null Count   Dtype  \n",
            "---  ------                    --------------   -----  \n",
            " 0   SalesID                   412698 non-null  int64  \n",
            " 1   SalePrice                 412698 non-null  float64\n",
            " 2   MachineID                 412698 non-null  int64  \n",
            " 3   ModelID                   412698 non-null  int64  \n",
            " 4   datasource                412698 non-null  int64  \n",
            " 5   auctioneerID              392562 non-null  float64\n",
            " 6   YearMade                  412698 non-null  int64  \n",
            " 7   MachineHoursCurrentMeter  147504 non-null  float64\n",
            " 8   UsageBand                 73670 non-null   object \n",
            " 9   saledate                  412698 non-null  object \n",
            " 10  fiModelDesc               412698 non-null  object \n",
            " 11  fiBaseModel               412698 non-null  object \n",
            " 12  fiSecondaryDesc           271971 non-null  object \n",
            " 13  fiModelSeries             58667 non-null   object \n",
            " 14  fiModelDescriptor         74816 non-null   object \n",
            " 15  ProductSize               196093 non-null  object \n",
            " 16  fiProductClassDesc        412698 non-null  object \n",
            " 17  state                     412698 non-null  object \n",
            " 18  ProductGroup              412698 non-null  object \n",
            " 19  ProductGroupDesc          412698 non-null  object \n",
            " 20  Drive_System              107087 non-null  object \n",
            " 21  Enclosure                 412364 non-null  object \n",
            " 22  Forks                     197715 non-null  object \n",
            " 23  Pad_Type                  81096 non-null   object \n",
            " 24  Ride_Control              152728 non-null  object \n",
            " 25  Stick                     81096 non-null   object \n",
            " 26  Transmission              188007 non-null  object \n",
            " 27  Turbocharged              81096 non-null   object \n",
            " 28  Blade_Extension           25983 non-null   object \n",
            " 29  Blade_Width               25983 non-null   object \n",
            " 30  Enclosure_Type            25983 non-null   object \n",
            " 31  Engine_Horsepower         25983 non-null   object \n",
            " 32  Hydraulics                330133 non-null  object \n",
            " 33  Pushblock                 25983 non-null   object \n",
            " 34  Ripper                    106945 non-null  object \n",
            " 35  Scarifier                 25994 non-null   object \n",
            " 36  Tip_Control               25983 non-null   object \n",
            " 37  Tire_Size                 97638 non-null   object \n",
            " 38  Coupler                   220679 non-null  object \n",
            " 39  Coupler_System            44974 non-null   object \n",
            " 40  Grouser_Tracks            44875 non-null   object \n",
            " 41  Hydraulics_Flow           44875 non-null   object \n",
            " 42  Track_Type                102193 non-null  object \n",
            " 43  Undercarriage_Pad_Width   102916 non-null  object \n",
            " 44  Stick_Length              102261 non-null  object \n",
            " 45  Thumb                     102332 non-null  object \n",
            " 46  Pattern_Changer           102261 non-null  object \n",
            " 47  Grouser_Type              102193 non-null  object \n",
            " 48  Backhoe_Mounting          80712 non-null   object \n",
            " 49  Blade_Type                81875 non-null   object \n",
            " 50  Travel_Controls           81877 non-null   object \n",
            " 51  Differential_Type         71564 non-null   object \n",
            " 52  Steering_Controls         71522 non-null   object \n",
            "dtypes: float64(3), int64(5), object(45)\n",
            "memory usage: 166.9+ MB\n"
          ]
        }
      ]
    },
    {
      "cell_type": "code",
      "metadata": {
        "colab": {
          "base_uri": "https://localhost:8080/"
        },
        "id": "Gy4cjmgOj3XX",
        "outputId": "a1bbd8be-9e62-4c43-b371-4bc96af1ffe2"
      },
      "source": [
        "pd.isna(df).sum()\n",
        "# It is certain that the column \"UsageBand\" has highest number of missing samples"
      ],
      "execution_count": null,
      "outputs": [
        {
          "output_type": "execute_result",
          "data": {
            "text/plain": [
              "SalesID                          0\n",
              "SalePrice                        0\n",
              "MachineID                        0\n",
              "ModelID                          0\n",
              "datasource                       0\n",
              "auctioneerID                 20136\n",
              "YearMade                         0\n",
              "MachineHoursCurrentMeter    265194\n",
              "UsageBand                   339028\n",
              "saledate                         0\n",
              "fiModelDesc                      0\n",
              "fiBaseModel                      0\n",
              "fiSecondaryDesc             140727\n",
              "fiModelSeries               354031\n",
              "fiModelDescriptor           337882\n",
              "ProductSize                 216605\n",
              "fiProductClassDesc               0\n",
              "state                            0\n",
              "ProductGroup                     0\n",
              "ProductGroupDesc                 0\n",
              "Drive_System                305611\n",
              "Enclosure                      334\n",
              "Forks                       214983\n",
              "Pad_Type                    331602\n",
              "Ride_Control                259970\n",
              "Stick                       331602\n",
              "Transmission                224691\n",
              "Turbocharged                331602\n",
              "Blade_Extension             386715\n",
              "Blade_Width                 386715\n",
              "Enclosure_Type              386715\n",
              "Engine_Horsepower           386715\n",
              "Hydraulics                   82565\n",
              "Pushblock                   386715\n",
              "Ripper                      305753\n",
              "Scarifier                   386704\n",
              "Tip_Control                 386715\n",
              "Tire_Size                   315060\n",
              "Coupler                     192019\n",
              "Coupler_System              367724\n",
              "Grouser_Tracks              367823\n",
              "Hydraulics_Flow             367823\n",
              "Track_Type                  310505\n",
              "Undercarriage_Pad_Width     309782\n",
              "Stick_Length                310437\n",
              "Thumb                       310366\n",
              "Pattern_Changer             310437\n",
              "Grouser_Type                310505\n",
              "Backhoe_Mounting            331986\n",
              "Blade_Type                  330823\n",
              "Travel_Controls             330821\n",
              "Differential_Type           341134\n",
              "Steering_Controls           341176\n",
              "dtype: int64"
            ]
          },
          "metadata": {},
          "execution_count": 5
        }
      ]
    },
    {
      "cell_type": "code",
      "metadata": {
        "colab": {
          "base_uri": "https://localhost:8080/",
          "height": 360
        },
        "id": "Lyq6Ay_gqVMX",
        "outputId": "d3cbe21c-66a3-4c65-ec62-7b6070875de7"
      },
      "source": [
        "# First of all, let us know different parameters we have and their names\n",
        "df.head(5)"
      ],
      "execution_count": null,
      "outputs": [
        {
          "output_type": "execute_result",
          "data": {
            "text/html": [
              "<div>\n",
              "<style scoped>\n",
              "    .dataframe tbody tr th:only-of-type {\n",
              "        vertical-align: middle;\n",
              "    }\n",
              "\n",
              "    .dataframe tbody tr th {\n",
              "        vertical-align: top;\n",
              "    }\n",
              "\n",
              "    .dataframe thead th {\n",
              "        text-align: right;\n",
              "    }\n",
              "</style>\n",
              "<table border=\"1\" class=\"dataframe\">\n",
              "  <thead>\n",
              "    <tr style=\"text-align: right;\">\n",
              "      <th></th>\n",
              "      <th>SalesID</th>\n",
              "      <th>SalePrice</th>\n",
              "      <th>MachineID</th>\n",
              "      <th>ModelID</th>\n",
              "      <th>datasource</th>\n",
              "      <th>auctioneerID</th>\n",
              "      <th>YearMade</th>\n",
              "      <th>MachineHoursCurrentMeter</th>\n",
              "      <th>UsageBand</th>\n",
              "      <th>saledate</th>\n",
              "      <th>fiModelDesc</th>\n",
              "      <th>fiBaseModel</th>\n",
              "      <th>fiSecondaryDesc</th>\n",
              "      <th>fiModelSeries</th>\n",
              "      <th>fiModelDescriptor</th>\n",
              "      <th>ProductSize</th>\n",
              "      <th>fiProductClassDesc</th>\n",
              "      <th>state</th>\n",
              "      <th>ProductGroup</th>\n",
              "      <th>ProductGroupDesc</th>\n",
              "      <th>Drive_System</th>\n",
              "      <th>Enclosure</th>\n",
              "      <th>Forks</th>\n",
              "      <th>Pad_Type</th>\n",
              "      <th>Ride_Control</th>\n",
              "      <th>Stick</th>\n",
              "      <th>Transmission</th>\n",
              "      <th>Turbocharged</th>\n",
              "      <th>Blade_Extension</th>\n",
              "      <th>Blade_Width</th>\n",
              "      <th>Enclosure_Type</th>\n",
              "      <th>Engine_Horsepower</th>\n",
              "      <th>Hydraulics</th>\n",
              "      <th>Pushblock</th>\n",
              "      <th>Ripper</th>\n",
              "      <th>Scarifier</th>\n",
              "      <th>Tip_Control</th>\n",
              "      <th>Tire_Size</th>\n",
              "      <th>Coupler</th>\n",
              "      <th>Coupler_System</th>\n",
              "      <th>Grouser_Tracks</th>\n",
              "      <th>Hydraulics_Flow</th>\n",
              "      <th>Track_Type</th>\n",
              "      <th>Undercarriage_Pad_Width</th>\n",
              "      <th>Stick_Length</th>\n",
              "      <th>Thumb</th>\n",
              "      <th>Pattern_Changer</th>\n",
              "      <th>Grouser_Type</th>\n",
              "      <th>Backhoe_Mounting</th>\n",
              "      <th>Blade_Type</th>\n",
              "      <th>Travel_Controls</th>\n",
              "      <th>Differential_Type</th>\n",
              "      <th>Steering_Controls</th>\n",
              "    </tr>\n",
              "  </thead>\n",
              "  <tbody>\n",
              "    <tr>\n",
              "      <th>0</th>\n",
              "      <td>1139246</td>\n",
              "      <td>66000.0</td>\n",
              "      <td>999089</td>\n",
              "      <td>3157</td>\n",
              "      <td>121</td>\n",
              "      <td>3.0</td>\n",
              "      <td>2004</td>\n",
              "      <td>68.0</td>\n",
              "      <td>Low</td>\n",
              "      <td>11/16/2006 0:00</td>\n",
              "      <td>521D</td>\n",
              "      <td>521</td>\n",
              "      <td>D</td>\n",
              "      <td>NaN</td>\n",
              "      <td>NaN</td>\n",
              "      <td>NaN</td>\n",
              "      <td>Wheel Loader - 110.0 to 120.0 Horsepower</td>\n",
              "      <td>Alabama</td>\n",
              "      <td>WL</td>\n",
              "      <td>Wheel Loader</td>\n",
              "      <td>NaN</td>\n",
              "      <td>EROPS w AC</td>\n",
              "      <td>None or Unspecified</td>\n",
              "      <td>NaN</td>\n",
              "      <td>None or Unspecified</td>\n",
              "      <td>NaN</td>\n",
              "      <td>NaN</td>\n",
              "      <td>NaN</td>\n",
              "      <td>NaN</td>\n",
              "      <td>NaN</td>\n",
              "      <td>NaN</td>\n",
              "      <td>NaN</td>\n",
              "      <td>2 Valve</td>\n",
              "      <td>NaN</td>\n",
              "      <td>NaN</td>\n",
              "      <td>NaN</td>\n",
              "      <td>NaN</td>\n",
              "      <td>None or Unspecified</td>\n",
              "      <td>None or Unspecified</td>\n",
              "      <td>NaN</td>\n",
              "      <td>NaN</td>\n",
              "      <td>NaN</td>\n",
              "      <td>NaN</td>\n",
              "      <td>NaN</td>\n",
              "      <td>NaN</td>\n",
              "      <td>NaN</td>\n",
              "      <td>NaN</td>\n",
              "      <td>NaN</td>\n",
              "      <td>NaN</td>\n",
              "      <td>NaN</td>\n",
              "      <td>NaN</td>\n",
              "      <td>Standard</td>\n",
              "      <td>Conventional</td>\n",
              "    </tr>\n",
              "    <tr>\n",
              "      <th>1</th>\n",
              "      <td>1139248</td>\n",
              "      <td>57000.0</td>\n",
              "      <td>117657</td>\n",
              "      <td>77</td>\n",
              "      <td>121</td>\n",
              "      <td>3.0</td>\n",
              "      <td>1996</td>\n",
              "      <td>4640.0</td>\n",
              "      <td>Low</td>\n",
              "      <td>3/26/2004 0:00</td>\n",
              "      <td>950FII</td>\n",
              "      <td>950</td>\n",
              "      <td>F</td>\n",
              "      <td>II</td>\n",
              "      <td>NaN</td>\n",
              "      <td>Medium</td>\n",
              "      <td>Wheel Loader - 150.0 to 175.0 Horsepower</td>\n",
              "      <td>North Carolina</td>\n",
              "      <td>WL</td>\n",
              "      <td>Wheel Loader</td>\n",
              "      <td>NaN</td>\n",
              "      <td>EROPS w AC</td>\n",
              "      <td>None or Unspecified</td>\n",
              "      <td>NaN</td>\n",
              "      <td>None or Unspecified</td>\n",
              "      <td>NaN</td>\n",
              "      <td>NaN</td>\n",
              "      <td>NaN</td>\n",
              "      <td>NaN</td>\n",
              "      <td>NaN</td>\n",
              "      <td>NaN</td>\n",
              "      <td>NaN</td>\n",
              "      <td>2 Valve</td>\n",
              "      <td>NaN</td>\n",
              "      <td>NaN</td>\n",
              "      <td>NaN</td>\n",
              "      <td>NaN</td>\n",
              "      <td>23.5</td>\n",
              "      <td>None or Unspecified</td>\n",
              "      <td>NaN</td>\n",
              "      <td>NaN</td>\n",
              "      <td>NaN</td>\n",
              "      <td>NaN</td>\n",
              "      <td>NaN</td>\n",
              "      <td>NaN</td>\n",
              "      <td>NaN</td>\n",
              "      <td>NaN</td>\n",
              "      <td>NaN</td>\n",
              "      <td>NaN</td>\n",
              "      <td>NaN</td>\n",
              "      <td>NaN</td>\n",
              "      <td>Standard</td>\n",
              "      <td>Conventional</td>\n",
              "    </tr>\n",
              "    <tr>\n",
              "      <th>2</th>\n",
              "      <td>1139249</td>\n",
              "      <td>10000.0</td>\n",
              "      <td>434808</td>\n",
              "      <td>7009</td>\n",
              "      <td>121</td>\n",
              "      <td>3.0</td>\n",
              "      <td>2001</td>\n",
              "      <td>2838.0</td>\n",
              "      <td>High</td>\n",
              "      <td>2/26/2004 0:00</td>\n",
              "      <td>226</td>\n",
              "      <td>226</td>\n",
              "      <td>NaN</td>\n",
              "      <td>NaN</td>\n",
              "      <td>NaN</td>\n",
              "      <td>NaN</td>\n",
              "      <td>Skid Steer Loader - 1351.0 to 1601.0 Lb Operat...</td>\n",
              "      <td>New York</td>\n",
              "      <td>SSL</td>\n",
              "      <td>Skid Steer Loaders</td>\n",
              "      <td>NaN</td>\n",
              "      <td>OROPS</td>\n",
              "      <td>None or Unspecified</td>\n",
              "      <td>NaN</td>\n",
              "      <td>NaN</td>\n",
              "      <td>NaN</td>\n",
              "      <td>NaN</td>\n",
              "      <td>NaN</td>\n",
              "      <td>NaN</td>\n",
              "      <td>NaN</td>\n",
              "      <td>NaN</td>\n",
              "      <td>NaN</td>\n",
              "      <td>Auxiliary</td>\n",
              "      <td>NaN</td>\n",
              "      <td>NaN</td>\n",
              "      <td>NaN</td>\n",
              "      <td>NaN</td>\n",
              "      <td>NaN</td>\n",
              "      <td>None or Unspecified</td>\n",
              "      <td>None or Unspecified</td>\n",
              "      <td>None or Unspecified</td>\n",
              "      <td>Standard</td>\n",
              "      <td>NaN</td>\n",
              "      <td>NaN</td>\n",
              "      <td>NaN</td>\n",
              "      <td>NaN</td>\n",
              "      <td>NaN</td>\n",
              "      <td>NaN</td>\n",
              "      <td>NaN</td>\n",
              "      <td>NaN</td>\n",
              "      <td>NaN</td>\n",
              "      <td>NaN</td>\n",
              "      <td>NaN</td>\n",
              "    </tr>\n",
              "    <tr>\n",
              "      <th>3</th>\n",
              "      <td>1139251</td>\n",
              "      <td>38500.0</td>\n",
              "      <td>1026470</td>\n",
              "      <td>332</td>\n",
              "      <td>121</td>\n",
              "      <td>3.0</td>\n",
              "      <td>2001</td>\n",
              "      <td>3486.0</td>\n",
              "      <td>High</td>\n",
              "      <td>5/19/2011 0:00</td>\n",
              "      <td>PC120-6E</td>\n",
              "      <td>PC120</td>\n",
              "      <td>NaN</td>\n",
              "      <td>-6E</td>\n",
              "      <td>NaN</td>\n",
              "      <td>Small</td>\n",
              "      <td>Hydraulic Excavator, Track - 12.0 to 14.0 Metr...</td>\n",
              "      <td>Texas</td>\n",
              "      <td>TEX</td>\n",
              "      <td>Track Excavators</td>\n",
              "      <td>NaN</td>\n",
              "      <td>EROPS w AC</td>\n",
              "      <td>NaN</td>\n",
              "      <td>NaN</td>\n",
              "      <td>NaN</td>\n",
              "      <td>NaN</td>\n",
              "      <td>NaN</td>\n",
              "      <td>NaN</td>\n",
              "      <td>NaN</td>\n",
              "      <td>NaN</td>\n",
              "      <td>NaN</td>\n",
              "      <td>NaN</td>\n",
              "      <td>2 Valve</td>\n",
              "      <td>NaN</td>\n",
              "      <td>NaN</td>\n",
              "      <td>NaN</td>\n",
              "      <td>NaN</td>\n",
              "      <td>NaN</td>\n",
              "      <td>None or Unspecified</td>\n",
              "      <td>NaN</td>\n",
              "      <td>NaN</td>\n",
              "      <td>NaN</td>\n",
              "      <td>NaN</td>\n",
              "      <td>NaN</td>\n",
              "      <td>NaN</td>\n",
              "      <td>NaN</td>\n",
              "      <td>NaN</td>\n",
              "      <td>NaN</td>\n",
              "      <td>NaN</td>\n",
              "      <td>NaN</td>\n",
              "      <td>NaN</td>\n",
              "      <td>NaN</td>\n",
              "      <td>NaN</td>\n",
              "    </tr>\n",
              "    <tr>\n",
              "      <th>4</th>\n",
              "      <td>1139253</td>\n",
              "      <td>11000.0</td>\n",
              "      <td>1057373</td>\n",
              "      <td>17311</td>\n",
              "      <td>121</td>\n",
              "      <td>3.0</td>\n",
              "      <td>2007</td>\n",
              "      <td>722.0</td>\n",
              "      <td>Medium</td>\n",
              "      <td>7/23/2009 0:00</td>\n",
              "      <td>S175</td>\n",
              "      <td>S175</td>\n",
              "      <td>NaN</td>\n",
              "      <td>NaN</td>\n",
              "      <td>NaN</td>\n",
              "      <td>NaN</td>\n",
              "      <td>Skid Steer Loader - 1601.0 to 1751.0 Lb Operat...</td>\n",
              "      <td>New York</td>\n",
              "      <td>SSL</td>\n",
              "      <td>Skid Steer Loaders</td>\n",
              "      <td>NaN</td>\n",
              "      <td>EROPS</td>\n",
              "      <td>None or Unspecified</td>\n",
              "      <td>NaN</td>\n",
              "      <td>NaN</td>\n",
              "      <td>NaN</td>\n",
              "      <td>NaN</td>\n",
              "      <td>NaN</td>\n",
              "      <td>NaN</td>\n",
              "      <td>NaN</td>\n",
              "      <td>NaN</td>\n",
              "      <td>NaN</td>\n",
              "      <td>Auxiliary</td>\n",
              "      <td>NaN</td>\n",
              "      <td>NaN</td>\n",
              "      <td>NaN</td>\n",
              "      <td>NaN</td>\n",
              "      <td>NaN</td>\n",
              "      <td>None or Unspecified</td>\n",
              "      <td>None or Unspecified</td>\n",
              "      <td>None or Unspecified</td>\n",
              "      <td>Standard</td>\n",
              "      <td>NaN</td>\n",
              "      <td>NaN</td>\n",
              "      <td>NaN</td>\n",
              "      <td>NaN</td>\n",
              "      <td>NaN</td>\n",
              "      <td>NaN</td>\n",
              "      <td>NaN</td>\n",
              "      <td>NaN</td>\n",
              "      <td>NaN</td>\n",
              "      <td>NaN</td>\n",
              "      <td>NaN</td>\n",
              "    </tr>\n",
              "  </tbody>\n",
              "</table>\n",
              "</div>"
            ],
            "text/plain": [
              "   SalesID  SalePrice  ...  Differential_Type  Steering_Controls\n",
              "0  1139246    66000.0  ...           Standard       Conventional\n",
              "1  1139248    57000.0  ...           Standard       Conventional\n",
              "2  1139249    10000.0  ...                NaN                NaN\n",
              "3  1139251    38500.0  ...                NaN                NaN\n",
              "4  1139253    11000.0  ...                NaN                NaN\n",
              "\n",
              "[5 rows x 53 columns]"
            ]
          },
          "metadata": {},
          "execution_count": 6
        }
      ]
    },
    {
      "cell_type": "code",
      "metadata": {
        "colab": {
          "base_uri": "https://localhost:8080/",
          "height": 282
        },
        "id": "HPPAkTH3kMis",
        "outputId": "f3ac0edd-1b0f-4d51-e880-d4156bebf3c0"
      },
      "source": [
        "# Effectively, we are not getting a clear picture of the data with just pandas functions so we shall visualise the data on plots using matplotlib.\n",
        "fig, ax = plt.subplots()\n",
        "ax.scatter(df['saledate'][:1000], df['SalePrice'][:1000])"
      ],
      "execution_count": null,
      "outputs": [
        {
          "output_type": "execute_result",
          "data": {
            "text/plain": [
              "<matplotlib.collections.PathCollection at 0x7fca6d476810>"
            ]
          },
          "metadata": {},
          "execution_count": 7
        },
        {
          "output_type": "display_data",
          "data": {
            "image/png": "[encoded data removed]",
            "text/plain": [
              "<Figure size 432x288 with 1 Axes>"
            ]
          },
          "metadata": {
            "needs_background": "light"
          }
        }
      ]
    },
    {
      "cell_type": "code",
      "metadata": {
        "colab": {
          "base_uri": "https://localhost:8080/",
          "height": 333
        },
        "id": "YDHdK1MUqG4_",
        "outputId": "84e39a19-7807-4c74-c6fc-f24b34b9883c"
      },
      "source": [
        "# Now we shall have a look at the distribution on data mainly the saledate\n",
        "plt.hist(df['SalePrice'][:1000])"
      ],
      "execution_count": null,
      "outputs": [
        {
          "output_type": "execute_result",
          "data": {
            "text/plain": [
              "(array([354., 236., 174.,  92.,  58.,  39.,  27.,  12.,   6.,   2.]),\n",
              " array([  4750.,  18375.,  32000.,  45625.,  59250.,  72875.,  86500.,\n",
              "        100125., 113750., 127375., 141000.]),\n",
              " <a list of 10 Patch objects>)"
            ]
          },
          "metadata": {},
          "execution_count": 8
        },
        {
          "output_type": "display_data",
          "data": {
            "image/png": "[encoded data removed]",
            "text/plain": [
              "<Figure size 432x288 with 1 Axes>"
            ]
          },
          "metadata": {
            "needs_background": "light"
          }
        }
      ]
    },
    {
      "cell_type": "markdown",
      "metadata": {
        "id": "qGXr5e6Rrlfv"
      },
      "source": [
        "###### It is the need that for time series problem to enrich the data may be like:\n",
        "#### Parsing the date column in dataset to datetime object"
      ]
    },
    {
      "cell_type": "code",
      "metadata": {
        "colab": {
          "base_uri": "https://localhost:8080/"
        },
        "id": "9xzjGrSWrCx4",
        "outputId": "6944022e-c316-4323-845b-1efbe036591f"
      },
      "source": [
        "# Let's do parsing the date column in the dataset by importing again form the source file\n",
        "df = pd.read_csv('/content/drive/MyDrive/TrainAndValid.csv/TrainAndValid.csv', parse_dates = ['saledate'])"
      ],
      "execution_count": null,
      "outputs": [
        {
          "output_type": "stream",
          "name": "stderr",
          "text": [
            "/usr/local/lib/python3.7/dist-packages/IPython/core/interactiveshell.py:2718: DtypeWarning: Columns (13,39,40,41) have mixed types.Specify dtype option on import or set low_memory=False.\n",
            "  interactivity=interactivity, compiler=compiler, result=result)\n"
          ]
        }
      ]
    },
    {
      "cell_type": "code",
      "metadata": {
        "colab": {
          "base_uri": "https://localhost:8080/"
        },
        "id": "VBddI5TcuBSK",
        "outputId": "f301aed1-0252-491d-c61a-76a8e5272e02"
      },
      "source": [
        "# Look at the parse dates column\n",
        "df['saledate'].head()"
      ],
      "execution_count": null,
      "outputs": [
        {
          "output_type": "execute_result",
          "data": {
            "text/plain": [
              "0   2006-11-16\n",
              "1   2004-03-26\n",
              "2   2004-02-26\n",
              "3   2011-05-19\n",
              "4   2009-07-23\n",
              "Name: saledate, dtype: datetime64[ns]"
            ]
          },
          "metadata": {},
          "execution_count": 10
        }
      ]
    },
    {
      "cell_type": "code",
      "metadata": {
        "colab": {
          "base_uri": "https://localhost:8080/",
          "height": 282
        },
        "id": "ZxwzYNrruKq3",
        "outputId": "64f32f6d-547d-49af-f73b-966c6587e55e"
      },
      "source": [
        "# Now we plot the scatter graph once again on the parse date to feel the difference.\n",
        "fig, ax = plt.subplots()\n",
        "ax.scatter(df['saledate'][:1000], df['SalePrice'][:1000])"
      ],
      "execution_count": null,
      "outputs": [
        {
          "output_type": "execute_result",
          "data": {
            "text/plain": [
              "<matplotlib.collections.PathCollection at 0x7fca6c8c4290>"
            ]
          },
          "metadata": {},
          "execution_count": 11
        },
        {
          "output_type": "display_data",
          "data": {
            "image/png": "[encoded data removed]",
            "text/plain": [
              "<Figure size 432x288 with 1 Axes>"
            ]
          },
          "metadata": {
            "needs_background": "light"
          }
        }
      ]
    },
    {
      "cell_type": "code",
      "metadata": {
        "colab": {
          "base_uri": "https://localhost:8080/",
          "height": 360
        },
        "id": "rEAXjiH4uegT",
        "outputId": "d283fdc5-64a1-467c-dce0-ed4795a5ad98"
      },
      "source": [
        "# We kinda see that, this is more clear and tidy to look and understand about the data a little better then the earlier plot.\n",
        "df.head()"
      ],
      "execution_count": null,
      "outputs": [
        {
          "output_type": "execute_result",
          "data": {
            "text/html": [
              "<div>\n",
              "<style scoped>\n",
              "    .dataframe tbody tr th:only-of-type {\n",
              "        vertical-align: middle;\n",
              "    }\n",
              "\n",
              "    .dataframe tbody tr th {\n",
              "        vertical-align: top;\n",
              "    }\n",
              "\n",
              "    .dataframe thead th {\n",
              "        text-align: right;\n",
              "    }\n",
              "</style>\n",
              "<table border=\"1\" class=\"dataframe\">\n",
              "  <thead>\n",
              "    <tr style=\"text-align: right;\">\n",
              "      <th></th>\n",
              "      <th>SalesID</th>\n",
              "      <th>SalePrice</th>\n",
              "      <th>MachineID</th>\n",
              "      <th>ModelID</th>\n",
              "      <th>datasource</th>\n",
              "      <th>auctioneerID</th>\n",
              "      <th>YearMade</th>\n",
              "      <th>MachineHoursCurrentMeter</th>\n",
              "      <th>UsageBand</th>\n",
              "      <th>saledate</th>\n",
              "      <th>fiModelDesc</th>\n",
              "      <th>fiBaseModel</th>\n",
              "      <th>fiSecondaryDesc</th>\n",
              "      <th>fiModelSeries</th>\n",
              "      <th>fiModelDescriptor</th>\n",
              "      <th>ProductSize</th>\n",
              "      <th>fiProductClassDesc</th>\n",
              "      <th>state</th>\n",
              "      <th>ProductGroup</th>\n",
              "      <th>ProductGroupDesc</th>\n",
              "      <th>Drive_System</th>\n",
              "      <th>Enclosure</th>\n",
              "      <th>Forks</th>\n",
              "      <th>Pad_Type</th>\n",
              "      <th>Ride_Control</th>\n",
              "      <th>Stick</th>\n",
              "      <th>Transmission</th>\n",
              "      <th>Turbocharged</th>\n",
              "      <th>Blade_Extension</th>\n",
              "      <th>Blade_Width</th>\n",
              "      <th>Enclosure_Type</th>\n",
              "      <th>Engine_Horsepower</th>\n",
              "      <th>Hydraulics</th>\n",
              "      <th>Pushblock</th>\n",
              "      <th>Ripper</th>\n",
              "      <th>Scarifier</th>\n",
              "      <th>Tip_Control</th>\n",
              "      <th>Tire_Size</th>\n",
              "      <th>Coupler</th>\n",
              "      <th>Coupler_System</th>\n",
              "      <th>Grouser_Tracks</th>\n",
              "      <th>Hydraulics_Flow</th>\n",
              "      <th>Track_Type</th>\n",
              "      <th>Undercarriage_Pad_Width</th>\n",
              "      <th>Stick_Length</th>\n",
              "      <th>Thumb</th>\n",
              "      <th>Pattern_Changer</th>\n",
              "      <th>Grouser_Type</th>\n",
              "      <th>Backhoe_Mounting</th>\n",
              "      <th>Blade_Type</th>\n",
              "      <th>Travel_Controls</th>\n",
              "      <th>Differential_Type</th>\n",
              "      <th>Steering_Controls</th>\n",
              "    </tr>\n",
              "  </thead>\n",
              "  <tbody>\n",
              "    <tr>\n",
              "      <th>0</th>\n",
              "      <td>1139246</td>\n",
              "      <td>66000.0</td>\n",
              "      <td>999089</td>\n",
              "      <td>3157</td>\n",
              "      <td>121</td>\n",
              "      <td>3.0</td>\n",
              "      <td>2004</td>\n",
              "      <td>68.0</td>\n",
              "      <td>Low</td>\n",
              "      <td>2006-11-16</td>\n",
              "      <td>521D</td>\n",
              "      <td>521</td>\n",
              "      <td>D</td>\n",
              "      <td>NaN</td>\n",
              "      <td>NaN</td>\n",
              "      <td>NaN</td>\n",
              "      <td>Wheel Loader - 110.0 to 120.0 Horsepower</td>\n",
              "      <td>Alabama</td>\n",
              "      <td>WL</td>\n",
              "      <td>Wheel Loader</td>\n",
              "      <td>NaN</td>\n",
              "      <td>EROPS w AC</td>\n",
              "      <td>None or Unspecified</td>\n",
              "      <td>NaN</td>\n",
              "      <td>None or Unspecified</td>\n",
              "      <td>NaN</td>\n",
              "      <td>NaN</td>\n",
              "      <td>NaN</td>\n",
              "      <td>NaN</td>\n",
              "      <td>NaN</td>\n",
              "      <td>NaN</td>\n",
              "      <td>NaN</td>\n",
              "      <td>2 Valve</td>\n",
              "      <td>NaN</td>\n",
              "      <td>NaN</td>\n",
              "      <td>NaN</td>\n",
              "      <td>NaN</td>\n",
              "      <td>None or Unspecified</td>\n",
              "      <td>None or Unspecified</td>\n",
              "      <td>NaN</td>\n",
              "      <td>NaN</td>\n",
              "      <td>NaN</td>\n",
              "      <td>NaN</td>\n",
              "      <td>NaN</td>\n",
              "      <td>NaN</td>\n",
              "      <td>NaN</td>\n",
              "      <td>NaN</td>\n",
              "      <td>NaN</td>\n",
              "      <td>NaN</td>\n",
              "      <td>NaN</td>\n",
              "      <td>NaN</td>\n",
              "      <td>Standard</td>\n",
              "      <td>Conventional</td>\n",
              "    </tr>\n",
              "    <tr>\n",
              "      <th>1</th>\n",
              "      <td>1139248</td>\n",
              "      <td>57000.0</td>\n",
              "      <td>117657</td>\n",
              "      <td>77</td>\n",
              "      <td>121</td>\n",
              "      <td>3.0</td>\n",
              "      <td>1996</td>\n",
              "      <td>4640.0</td>\n",
              "      <td>Low</td>\n",
              "      <td>2004-03-26</td>\n",
              "      <td>950FII</td>\n",
              "      <td>950</td>\n",
              "      <td>F</td>\n",
              "      <td>II</td>\n",
              "      <td>NaN</td>\n",
              "      <td>Medium</td>\n",
              "      <td>Wheel Loader - 150.0 to 175.0 Horsepower</td>\n",
              "      <td>North Carolina</td>\n",
              "      <td>WL</td>\n",
              "      <td>Wheel Loader</td>\n",
              "      <td>NaN</td>\n",
              "      <td>EROPS w AC</td>\n",
              "      <td>None or Unspecified</td>\n",
              "      <td>NaN</td>\n",
              "      <td>None or Unspecified</td>\n",
              "      <td>NaN</td>\n",
              "      <td>NaN</td>\n",
              "      <td>NaN</td>\n",
              "      <td>NaN</td>\n",
              "      <td>NaN</td>\n",
              "      <td>NaN</td>\n",
              "      <td>NaN</td>\n",
              "      <td>2 Valve</td>\n",
              "      <td>NaN</td>\n",
              "      <td>NaN</td>\n",
              "      <td>NaN</td>\n",
              "      <td>NaN</td>\n",
              "      <td>23.5</td>\n",
              "      <td>None or Unspecified</td>\n",
              "      <td>NaN</td>\n",
              "      <td>NaN</td>\n",
              "      <td>NaN</td>\n",
              "      <td>NaN</td>\n",
              "      <td>NaN</td>\n",
              "      <td>NaN</td>\n",
              "      <td>NaN</td>\n",
              "      <td>NaN</td>\n",
              "      <td>NaN</td>\n",
              "      <td>NaN</td>\n",
              "      <td>NaN</td>\n",
              "      <td>NaN</td>\n",
              "      <td>Standard</td>\n",
              "      <td>Conventional</td>\n",
              "    </tr>\n",
              "    <tr>\n",
              "      <th>2</th>\n",
              "      <td>1139249</td>\n",
              "      <td>10000.0</td>\n",
              "      <td>434808</td>\n",
              "      <td>7009</td>\n",
              "      <td>121</td>\n",
              "      <td>3.0</td>\n",
              "      <td>2001</td>\n",
              "      <td>2838.0</td>\n",
              "      <td>High</td>\n",
              "      <td>2004-02-26</td>\n",
              "      <td>226</td>\n",
              "      <td>226</td>\n",
              "      <td>NaN</td>\n",
              "      <td>NaN</td>\n",
              "      <td>NaN</td>\n",
              "      <td>NaN</td>\n",
              "      <td>Skid Steer Loader - 1351.0 to 1601.0 Lb Operat...</td>\n",
              "      <td>New York</td>\n",
              "      <td>SSL</td>\n",
              "      <td>Skid Steer Loaders</td>\n",
              "      <td>NaN</td>\n",
              "      <td>OROPS</td>\n",
              "      <td>None or Unspecified</td>\n",
              "      <td>NaN</td>\n",
              "      <td>NaN</td>\n",
              "      <td>NaN</td>\n",
              "      <td>NaN</td>\n",
              "      <td>NaN</td>\n",
              "      <td>NaN</td>\n",
              "      <td>NaN</td>\n",
              "      <td>NaN</td>\n",
              "      <td>NaN</td>\n",
              "      <td>Auxiliary</td>\n",
              "      <td>NaN</td>\n",
              "      <td>NaN</td>\n",
              "      <td>NaN</td>\n",
              "      <td>NaN</td>\n",
              "      <td>NaN</td>\n",
              "      <td>None or Unspecified</td>\n",
              "      <td>None or Unspecified</td>\n",
              "      <td>None or Unspecified</td>\n",
              "      <td>Standard</td>\n",
              "      <td>NaN</td>\n",
              "      <td>NaN</td>\n",
              "      <td>NaN</td>\n",
              "      <td>NaN</td>\n",
              "      <td>NaN</td>\n",
              "      <td>NaN</td>\n",
              "      <td>NaN</td>\n",
              "      <td>NaN</td>\n",
              "      <td>NaN</td>\n",
              "      <td>NaN</td>\n",
              "      <td>NaN</td>\n",
              "    </tr>\n",
              "    <tr>\n",
              "      <th>3</th>\n",
              "      <td>1139251</td>\n",
              "      <td>38500.0</td>\n",
              "      <td>1026470</td>\n",
              "      <td>332</td>\n",
              "      <td>121</td>\n",
              "      <td>3.0</td>\n",
              "      <td>2001</td>\n",
              "      <td>3486.0</td>\n",
              "      <td>High</td>\n",
              "      <td>2011-05-19</td>\n",
              "      <td>PC120-6E</td>\n",
              "      <td>PC120</td>\n",
              "      <td>NaN</td>\n",
              "      <td>-6E</td>\n",
              "      <td>NaN</td>\n",
              "      <td>Small</td>\n",
              "      <td>Hydraulic Excavator, Track - 12.0 to 14.0 Metr...</td>\n",
              "      <td>Texas</td>\n",
              "      <td>TEX</td>\n",
              "      <td>Track Excavators</td>\n",
              "      <td>NaN</td>\n",
              "      <td>EROPS w AC</td>\n",
              "      <td>NaN</td>\n",
              "      <td>NaN</td>\n",
              "      <td>NaN</td>\n",
              "      <td>NaN</td>\n",
              "      <td>NaN</td>\n",
              "      <td>NaN</td>\n",
              "      <td>NaN</td>\n",
              "      <td>NaN</td>\n",
              "      <td>NaN</td>\n",
              "      <td>NaN</td>\n",
              "      <td>2 Valve</td>\n",
              "      <td>NaN</td>\n",
              "      <td>NaN</td>\n",
              "      <td>NaN</td>\n",
              "      <td>NaN</td>\n",
              "      <td>NaN</td>\n",
              "      <td>None or Unspecified</td>\n",
              "      <td>NaN</td>\n",
              "      <td>NaN</td>\n",
              "      <td>NaN</td>\n",
              "      <td>NaN</td>\n",
              "      <td>NaN</td>\n",
              "      <td>NaN</td>\n",
              "      <td>NaN</td>\n",
              "      <td>NaN</td>\n",
              "      <td>NaN</td>\n",
              "      <td>NaN</td>\n",
              "      <td>NaN</td>\n",
              "      <td>NaN</td>\n",
              "      <td>NaN</td>\n",
              "      <td>NaN</td>\n",
              "    </tr>\n",
              "    <tr>\n",
              "      <th>4</th>\n",
              "      <td>1139253</td>\n",
              "      <td>11000.0</td>\n",
              "      <td>1057373</td>\n",
              "      <td>17311</td>\n",
              "      <td>121</td>\n",
              "      <td>3.0</td>\n",
              "      <td>2007</td>\n",
              "      <td>722.0</td>\n",
              "      <td>Medium</td>\n",
              "      <td>2009-07-23</td>\n",
              "      <td>S175</td>\n",
              "      <td>S175</td>\n",
              "      <td>NaN</td>\n",
              "      <td>NaN</td>\n",
              "      <td>NaN</td>\n",
              "      <td>NaN</td>\n",
              "      <td>Skid Steer Loader - 1601.0 to 1751.0 Lb Operat...</td>\n",
              "      <td>New York</td>\n",
              "      <td>SSL</td>\n",
              "      <td>Skid Steer Loaders</td>\n",
              "      <td>NaN</td>\n",
              "      <td>EROPS</td>\n",
              "      <td>None or Unspecified</td>\n",
              "      <td>NaN</td>\n",
              "      <td>NaN</td>\n",
              "      <td>NaN</td>\n",
              "      <td>NaN</td>\n",
              "      <td>NaN</td>\n",
              "      <td>NaN</td>\n",
              "      <td>NaN</td>\n",
              "      <td>NaN</td>\n",
              "      <td>NaN</td>\n",
              "      <td>Auxiliary</td>\n",
              "      <td>NaN</td>\n",
              "      <td>NaN</td>\n",
              "      <td>NaN</td>\n",
              "      <td>NaN</td>\n",
              "      <td>NaN</td>\n",
              "      <td>None or Unspecified</td>\n",
              "      <td>None or Unspecified</td>\n",
              "      <td>None or Unspecified</td>\n",
              "      <td>Standard</td>\n",
              "      <td>NaN</td>\n",
              "      <td>NaN</td>\n",
              "      <td>NaN</td>\n",
              "      <td>NaN</td>\n",
              "      <td>NaN</td>\n",
              "      <td>NaN</td>\n",
              "      <td>NaN</td>\n",
              "      <td>NaN</td>\n",
              "      <td>NaN</td>\n",
              "      <td>NaN</td>\n",
              "      <td>NaN</td>\n",
              "    </tr>\n",
              "  </tbody>\n",
              "</table>\n",
              "</div>"
            ],
            "text/plain": [
              "   SalesID  SalePrice  ...  Differential_Type  Steering_Controls\n",
              "0  1139246    66000.0  ...           Standard       Conventional\n",
              "1  1139248    57000.0  ...           Standard       Conventional\n",
              "2  1139249    10000.0  ...                NaN                NaN\n",
              "3  1139251    38500.0  ...                NaN                NaN\n",
              "4  1139253    11000.0  ...                NaN                NaN\n",
              "\n",
              "[5 rows x 53 columns]"
            ]
          },
          "metadata": {},
          "execution_count": 12
        }
      ]
    },
    {
      "cell_type": "code",
      "metadata": {
        "colab": {
          "base_uri": "https://localhost:8080/",
          "height": 1000
        },
        "id": "bHrjcIgrwgfk",
        "outputId": "602f1d86-b33a-4b8d-c5fe-69e472971603"
      },
      "source": [
        "# Maybe we need to sort the data samples according to the saledate columns before going into our EDA(exploratory data analysis to become subject matter expert)\n",
        "df.head().T"
      ],
      "execution_count": null,
      "outputs": [
        {
          "output_type": "execute_result",
          "data": {
            "text/html": [
              "<div>\n",
              "<style scoped>\n",
              "    .dataframe tbody tr th:only-of-type {\n",
              "        vertical-align: middle;\n",
              "    }\n",
              "\n",
              "    .dataframe tbody tr th {\n",
              "        vertical-align: top;\n",
              "    }\n",
              "\n",
              "    .dataframe thead th {\n",
              "        text-align: right;\n",
              "    }\n",
              "</style>\n",
              "<table border=\"1\" class=\"dataframe\">\n",
              "  <thead>\n",
              "    <tr style=\"text-align: right;\">\n",
              "      <th></th>\n",
              "      <th>0</th>\n",
              "      <th>1</th>\n",
              "      <th>2</th>\n",
              "      <th>3</th>\n",
              "      <th>4</th>\n",
              "    </tr>\n",
              "  </thead>\n",
              "  <tbody>\n",
              "    <tr>\n",
              "      <th>SalesID</th>\n",
              "      <td>1139246</td>\n",
              "      <td>1139248</td>\n",
              "      <td>1139249</td>\n",
              "      <td>1139251</td>\n",
              "      <td>1139253</td>\n",
              "    </tr>\n",
              "    <tr>\n",
              "      <th>SalePrice</th>\n",
              "      <td>66000</td>\n",
              "      <td>57000</td>\n",
              "      <td>10000</td>\n",
              "      <td>38500</td>\n",
              "      <td>11000</td>\n",
              "    </tr>\n",
              "    <tr>\n",
              "      <th>MachineID</th>\n",
              "      <td>999089</td>\n",
              "      <td>117657</td>\n",
              "      <td>434808</td>\n",
              "      <td>1026470</td>\n",
              "      <td>1057373</td>\n",
              "    </tr>\n",
              "    <tr>\n",
              "      <th>ModelID</th>\n",
              "      <td>3157</td>\n",
              "      <td>77</td>\n",
              "      <td>7009</td>\n",
              "      <td>332</td>\n",
              "      <td>17311</td>\n",
              "    </tr>\n",
              "    <tr>\n",
              "      <th>datasource</th>\n",
              "      <td>121</td>\n",
              "      <td>121</td>\n",
              "      <td>121</td>\n",
              "      <td>121</td>\n",
              "      <td>121</td>\n",
              "    </tr>\n",
              "    <tr>\n",
              "      <th>auctioneerID</th>\n",
              "      <td>3</td>\n",
              "      <td>3</td>\n",
              "      <td>3</td>\n",
              "      <td>3</td>\n",
              "      <td>3</td>\n",
              "    </tr>\n",
              "    <tr>\n",
              "      <th>YearMade</th>\n",
              "      <td>2004</td>\n",
              "      <td>1996</td>\n",
              "      <td>2001</td>\n",
              "      <td>2001</td>\n",
              "      <td>2007</td>\n",
              "    </tr>\n",
              "    <tr>\n",
              "      <th>MachineHoursCurrentMeter</th>\n",
              "      <td>68</td>\n",
              "      <td>4640</td>\n",
              "      <td>2838</td>\n",
              "      <td>3486</td>\n",
              "      <td>722</td>\n",
              "    </tr>\n",
              "    <tr>\n",
              "      <th>UsageBand</th>\n",
              "      <td>Low</td>\n",
              "      <td>Low</td>\n",
              "      <td>High</td>\n",
              "      <td>High</td>\n",
              "      <td>Medium</td>\n",
              "    </tr>\n",
              "    <tr>\n",
              "      <th>saledate</th>\n",
              "      <td>2006-11-16 00:00:00</td>\n",
              "      <td>2004-03-26 00:00:00</td>\n",
              "      <td>2004-02-26 00:00:00</td>\n",
              "      <td>2011-05-19 00:00:00</td>\n",
              "      <td>2009-07-23 00:00:00</td>\n",
              "    </tr>\n",
              "    <tr>\n",
              "      <th>fiModelDesc</th>\n",
              "      <td>521D</td>\n",
              "      <td>950FII</td>\n",
              "      <td>226</td>\n",
              "      <td>PC120-6E</td>\n",
              "      <td>S175</td>\n",
              "    </tr>\n",
              "    <tr>\n",
              "      <th>fiBaseModel</th>\n",
              "      <td>521</td>\n",
              "      <td>950</td>\n",
              "      <td>226</td>\n",
              "      <td>PC120</td>\n",
              "      <td>S175</td>\n",
              "    </tr>\n",
              "    <tr>\n",
              "      <th>fiSecondaryDesc</th>\n",
              "      <td>D</td>\n",
              "      <td>F</td>\n",
              "      <td>NaN</td>\n",
              "      <td>NaN</td>\n",
              "      <td>NaN</td>\n",
              "    </tr>\n",
              "    <tr>\n",
              "      <th>fiModelSeries</th>\n",
              "      <td>NaN</td>\n",
              "      <td>II</td>\n",
              "      <td>NaN</td>\n",
              "      <td>-6E</td>\n",
              "      <td>NaN</td>\n",
              "    </tr>\n",
              "    <tr>\n",
              "      <th>fiModelDescriptor</th>\n",
              "      <td>NaN</td>\n",
              "      <td>NaN</td>\n",
              "      <td>NaN</td>\n",
              "      <td>NaN</td>\n",
              "      <td>NaN</td>\n",
              "    </tr>\n",
              "    <tr>\n",
              "      <th>ProductSize</th>\n",
              "      <td>NaN</td>\n",
              "      <td>Medium</td>\n",
              "      <td>NaN</td>\n",
              "      <td>Small</td>\n",
              "      <td>NaN</td>\n",
              "    </tr>\n",
              "    <tr>\n",
              "      <th>fiProductClassDesc</th>\n",
              "      <td>Wheel Loader - 110.0 to 120.0 Horsepower</td>\n",
              "      <td>Wheel Loader - 150.0 to 175.0 Horsepower</td>\n",
              "      <td>Skid Steer Loader - 1351.0 to 1601.0 Lb Operat...</td>\n",
              "      <td>Hydraulic Excavator, Track - 12.0 to 14.0 Metr...</td>\n",
              "      <td>Skid Steer Loader - 1601.0 to 1751.0 Lb Operat...</td>\n",
              "    </tr>\n",
              "    <tr>\n",
              "      <th>state</th>\n",
              "      <td>Alabama</td>\n",
              "      <td>North Carolina</td>\n",
              "      <td>New York</td>\n",
              "      <td>Texas</td>\n",
              "      <td>New York</td>\n",
              "    </tr>\n",
              "    <tr>\n",
              "      <th>ProductGroup</th>\n",
              "      <td>WL</td>\n",
              "      <td>WL</td>\n",
              "      <td>SSL</td>\n",
              "      <td>TEX</td>\n",
              "      <td>SSL</td>\n",
              "    </tr>\n",
              "    <tr>\n",
              "      <th>ProductGroupDesc</th>\n",
              "      <td>Wheel Loader</td>\n",
              "      <td>Wheel Loader</td>\n",
              "      <td>Skid Steer Loaders</td>\n",
              "      <td>Track Excavators</td>\n",
              "      <td>Skid Steer Loaders</td>\n",
              "    </tr>\n",
              "    <tr>\n",
              "      <th>Drive_System</th>\n",
              "      <td>NaN</td>\n",
              "      <td>NaN</td>\n",
              "      <td>NaN</td>\n",
              "      <td>NaN</td>\n",
              "      <td>NaN</td>\n",
              "    </tr>\n",
              "    <tr>\n",
              "      <th>Enclosure</th>\n",
              "      <td>EROPS w AC</td>\n",
              "      <td>EROPS w AC</td>\n",
              "      <td>OROPS</td>\n",
              "      <td>EROPS w AC</td>\n",
              "      <td>EROPS</td>\n",
              "    </tr>\n",
              "    <tr>\n",
              "      <th>Forks</th>\n",
              "      <td>None or Unspecified</td>\n",
              "      <td>None or Unspecified</td>\n",
              "      <td>None or Unspecified</td>\n",
              "      <td>NaN</td>\n",
              "      <td>None or Unspecified</td>\n",
              "    </tr>\n",
              "    <tr>\n",
              "      <th>Pad_Type</th>\n",
              "      <td>NaN</td>\n",
              "      <td>NaN</td>\n",
              "      <td>NaN</td>\n",
              "      <td>NaN</td>\n",
              "      <td>NaN</td>\n",
              "    </tr>\n",
              "    <tr>\n",
              "      <th>Ride_Control</th>\n",
              "      <td>None or Unspecified</td>\n",
              "      <td>None or Unspecified</td>\n",
              "      <td>NaN</td>\n",
              "      <td>NaN</td>\n",
              "      <td>NaN</td>\n",
              "    </tr>\n",
              "    <tr>\n",
              "      <th>Stick</th>\n",
              "      <td>NaN</td>\n",
              "      <td>NaN</td>\n",
              "      <td>NaN</td>\n",
              "      <td>NaN</td>\n",
              "      <td>NaN</td>\n",
              "    </tr>\n",
              "    <tr>\n",
              "      <th>Transmission</th>\n",
              "      <td>NaN</td>\n",
              "      <td>NaN</td>\n",
              "      <td>NaN</td>\n",
              "      <td>NaN</td>\n",
              "      <td>NaN</td>\n",
              "    </tr>\n",
              "    <tr>\n",
              "      <th>Turbocharged</th>\n",
              "      <td>NaN</td>\n",
              "      <td>NaN</td>\n",
              "      <td>NaN</td>\n",
              "      <td>NaN</td>\n",
              "      <td>NaN</td>\n",
              "    </tr>\n",
              "    <tr>\n",
              "      <th>Blade_Extension</th>\n",
              "      <td>NaN</td>\n",
              "      <td>NaN</td>\n",
              "      <td>NaN</td>\n",
              "      <td>NaN</td>\n",
              "      <td>NaN</td>\n",
              "    </tr>\n",
              "    <tr>\n",
              "      <th>Blade_Width</th>\n",
              "      <td>NaN</td>\n",
              "      <td>NaN</td>\n",
              "      <td>NaN</td>\n",
              "      <td>NaN</td>\n",
              "      <td>NaN</td>\n",
              "    </tr>\n",
              "    <tr>\n",
              "      <th>Enclosure_Type</th>\n",
              "      <td>NaN</td>\n",
              "      <td>NaN</td>\n",
              "      <td>NaN</td>\n",
              "      <td>NaN</td>\n",
              "      <td>NaN</td>\n",
              "    </tr>\n",
              "    <tr>\n",
              "      <th>Engine_Horsepower</th>\n",
              "      <td>NaN</td>\n",
              "      <td>NaN</td>\n",
              "      <td>NaN</td>\n",
              "      <td>NaN</td>\n",
              "      <td>NaN</td>\n",
              "    </tr>\n",
              "    <tr>\n",
              "      <th>Hydraulics</th>\n",
              "      <td>2 Valve</td>\n",
              "      <td>2 Valve</td>\n",
              "      <td>Auxiliary</td>\n",
              "      <td>2 Valve</td>\n",
              "      <td>Auxiliary</td>\n",
              "    </tr>\n",
              "    <tr>\n",
              "      <th>Pushblock</th>\n",
              "      <td>NaN</td>\n",
              "      <td>NaN</td>\n",
              "      <td>NaN</td>\n",
              "      <td>NaN</td>\n",
              "      <td>NaN</td>\n",
              "    </tr>\n",
              "    <tr>\n",
              "      <th>Ripper</th>\n",
              "      <td>NaN</td>\n",
              "      <td>NaN</td>\n",
              "      <td>NaN</td>\n",
              "      <td>NaN</td>\n",
              "      <td>NaN</td>\n",
              "    </tr>\n",
              "    <tr>\n",
              "      <th>Scarifier</th>\n",
              "      <td>NaN</td>\n",
              "      <td>NaN</td>\n",
              "      <td>NaN</td>\n",
              "      <td>NaN</td>\n",
              "      <td>NaN</td>\n",
              "    </tr>\n",
              "    <tr>\n",
              "      <th>Tip_Control</th>\n",
              "      <td>NaN</td>\n",
              "      <td>NaN</td>\n",
              "      <td>NaN</td>\n",
              "      <td>NaN</td>\n",
              "      <td>NaN</td>\n",
              "    </tr>\n",
              "    <tr>\n",
              "      <th>Tire_Size</th>\n",
              "      <td>None or Unspecified</td>\n",
              "      <td>23.5</td>\n",
              "      <td>NaN</td>\n",
              "      <td>NaN</td>\n",
              "      <td>NaN</td>\n",
              "    </tr>\n",
              "    <tr>\n",
              "      <th>Coupler</th>\n",
              "      <td>None or Unspecified</td>\n",
              "      <td>None or Unspecified</td>\n",
              "      <td>None or Unspecified</td>\n",
              "      <td>None or Unspecified</td>\n",
              "      <td>None or Unspecified</td>\n",
              "    </tr>\n",
              "    <tr>\n",
              "      <th>Coupler_System</th>\n",
              "      <td>NaN</td>\n",
              "      <td>NaN</td>\n",
              "      <td>None or Unspecified</td>\n",
              "      <td>NaN</td>\n",
              "      <td>None or Unspecified</td>\n",
              "    </tr>\n",
              "    <tr>\n",
              "      <th>Grouser_Tracks</th>\n",
              "      <td>NaN</td>\n",
              "      <td>NaN</td>\n",
              "      <td>None or Unspecified</td>\n",
              "      <td>NaN</td>\n",
              "      <td>None or Unspecified</td>\n",
              "    </tr>\n",
              "    <tr>\n",
              "      <th>Hydraulics_Flow</th>\n",
              "      <td>NaN</td>\n",
              "      <td>NaN</td>\n",
              "      <td>Standard</td>\n",
              "      <td>NaN</td>\n",
              "      <td>Standard</td>\n",
              "    </tr>\n",
              "    <tr>\n",
              "      <th>Track_Type</th>\n",
              "      <td>NaN</td>\n",
              "      <td>NaN</td>\n",
              "      <td>NaN</td>\n",
              "      <td>NaN</td>\n",
              "      <td>NaN</td>\n",
              "    </tr>\n",
              "    <tr>\n",
              "      <th>Undercarriage_Pad_Width</th>\n",
              "      <td>NaN</td>\n",
              "      <td>NaN</td>\n",
              "      <td>NaN</td>\n",
              "      <td>NaN</td>\n",
              "      <td>NaN</td>\n",
              "    </tr>\n",
              "    <tr>\n",
              "      <th>Stick_Length</th>\n",
              "      <td>NaN</td>\n",
              "      <td>NaN</td>\n",
              "      <td>NaN</td>\n",
              "      <td>NaN</td>\n",
              "      <td>NaN</td>\n",
              "    </tr>\n",
              "    <tr>\n",
              "      <th>Thumb</th>\n",
              "      <td>NaN</td>\n",
              "      <td>NaN</td>\n",
              "      <td>NaN</td>\n",
              "      <td>NaN</td>\n",
              "      <td>NaN</td>\n",
              "    </tr>\n",
              "    <tr>\n",
              "      <th>Pattern_Changer</th>\n",
              "      <td>NaN</td>\n",
              "      <td>NaN</td>\n",
              "      <td>NaN</td>\n",
              "      <td>NaN</td>\n",
              "      <td>NaN</td>\n",
              "    </tr>\n",
              "    <tr>\n",
              "      <th>Grouser_Type</th>\n",
              "      <td>NaN</td>\n",
              "      <td>NaN</td>\n",
              "      <td>NaN</td>\n",
              "      <td>NaN</td>\n",
              "      <td>NaN</td>\n",
              "    </tr>\n",
              "    <tr>\n",
              "      <th>Backhoe_Mounting</th>\n",
              "      <td>NaN</td>\n",
              "      <td>NaN</td>\n",
              "      <td>NaN</td>\n",
              "      <td>NaN</td>\n",
              "      <td>NaN</td>\n",
              "    </tr>\n",
              "    <tr>\n",
              "      <th>Blade_Type</th>\n",
              "      <td>NaN</td>\n",
              "      <td>NaN</td>\n",
              "      <td>NaN</td>\n",
              "      <td>NaN</td>\n",
              "      <td>NaN</td>\n",
              "    </tr>\n",
              "    <tr>\n",
              "      <th>Travel_Controls</th>\n",
              "      <td>NaN</td>\n",
              "      <td>NaN</td>\n",
              "      <td>NaN</td>\n",
              "      <td>NaN</td>\n",
              "      <td>NaN</td>\n",
              "    </tr>\n",
              "    <tr>\n",
              "      <th>Differential_Type</th>\n",
              "      <td>Standard</td>\n",
              "      <td>Standard</td>\n",
              "      <td>NaN</td>\n",
              "      <td>NaN</td>\n",
              "      <td>NaN</td>\n",
              "    </tr>\n",
              "    <tr>\n",
              "      <th>Steering_Controls</th>\n",
              "      <td>Conventional</td>\n",
              "      <td>Conventional</td>\n",
              "      <td>NaN</td>\n",
              "      <td>NaN</td>\n",
              "      <td>NaN</td>\n",
              "    </tr>\n",
              "  </tbody>\n",
              "</table>\n",
              "</div>"
            ],
            "text/plain": [
              "                                                                 0  ...                                                  4\n",
              "SalesID                                                    1139246  ...                                            1139253\n",
              "SalePrice                                                    66000  ...                                              11000\n",
              "MachineID                                                   999089  ...                                            1057373\n",
              "ModelID                                                       3157  ...                                              17311\n",
              "datasource                                                     121  ...                                                121\n",
              "auctioneerID                                                     3  ...                                                  3\n",
              "YearMade                                                      2004  ...                                               2007\n",
              "MachineHoursCurrentMeter                                        68  ...                                                722\n",
              "UsageBand                                                      Low  ...                                             Medium\n",
              "saledate                                       2006-11-16 00:00:00  ...                                2009-07-23 00:00:00\n",
              "fiModelDesc                                                   521D  ...                                               S175\n",
              "fiBaseModel                                                    521  ...                                               S175\n",
              "fiSecondaryDesc                                                  D  ...                                                NaN\n",
              "fiModelSeries                                                  NaN  ...                                                NaN\n",
              "fiModelDescriptor                                              NaN  ...                                                NaN\n",
              "ProductSize                                                    NaN  ...                                                NaN\n",
              "fiProductClassDesc        Wheel Loader - 110.0 to 120.0 Horsepower  ...  Skid Steer Loader - 1601.0 to 1751.0 Lb Operat...\n",
              "state                                                      Alabama  ...                                           New York\n",
              "ProductGroup                                                    WL  ...                                                SSL\n",
              "ProductGroupDesc                                      Wheel Loader  ...                                 Skid Steer Loaders\n",
              "Drive_System                                                   NaN  ...                                                NaN\n",
              "Enclosure                                               EROPS w AC  ...                                              EROPS\n",
              "Forks                                          None or Unspecified  ...                                None or Unspecified\n",
              "Pad_Type                                                       NaN  ...                                                NaN\n",
              "Ride_Control                                   None or Unspecified  ...                                                NaN\n",
              "Stick                                                          NaN  ...                                                NaN\n",
              "Transmission                                                   NaN  ...                                                NaN\n",
              "Turbocharged                                                   NaN  ...                                                NaN\n",
              "Blade_Extension                                                NaN  ...                                                NaN\n",
              "Blade_Width                                                    NaN  ...                                                NaN\n",
              "Enclosure_Type                                                 NaN  ...                                                NaN\n",
              "Engine_Horsepower                                              NaN  ...                                                NaN\n",
              "Hydraulics                                                 2 Valve  ...                                          Auxiliary\n",
              "Pushblock                                                      NaN  ...                                                NaN\n",
              "Ripper                                                         NaN  ...                                                NaN\n",
              "Scarifier                                                      NaN  ...                                                NaN\n",
              "Tip_Control                                                    NaN  ...                                                NaN\n",
              "Tire_Size                                      None or Unspecified  ...                                                NaN\n",
              "Coupler                                        None or Unspecified  ...                                None or Unspecified\n",
              "Coupler_System                                                 NaN  ...                                None or Unspecified\n",
              "Grouser_Tracks                                                 NaN  ...                                None or Unspecified\n",
              "Hydraulics_Flow                                                NaN  ...                                           Standard\n",
              "Track_Type                                                     NaN  ...                                                NaN\n",
              "Undercarriage_Pad_Width                                        NaN  ...                                                NaN\n",
              "Stick_Length                                                   NaN  ...                                                NaN\n",
              "Thumb                                                          NaN  ...                                                NaN\n",
              "Pattern_Changer                                                NaN  ...                                                NaN\n",
              "Grouser_Type                                                   NaN  ...                                                NaN\n",
              "Backhoe_Mounting                                               NaN  ...                                                NaN\n",
              "Blade_Type                                                     NaN  ...                                                NaN\n",
              "Travel_Controls                                                NaN  ...                                                NaN\n",
              "Differential_Type                                         Standard  ...                                                NaN\n",
              "Steering_Controls                                     Conventional  ...                                                NaN\n",
              "\n",
              "[53 rows x 5 columns]"
            ]
          },
          "metadata": {},
          "execution_count": 13
        }
      ]
    },
    {
      "cell_type": "code",
      "metadata": {
        "id": "1B991eX8WMNK"
      },
      "source": [
        "# We shall now sort the data with respect to date column.\n",
        "df.sort_values(by = ['saledate'], inplace = True, ascending = True)"
      ],
      "execution_count": null,
      "outputs": []
    },
    {
      "cell_type": "code",
      "metadata": {
        "colab": {
          "base_uri": "https://localhost:8080/"
        },
        "id": "NZAZ0fqzW0Pd",
        "outputId": "83390bea-e035-442d-9787-7b2f5f79e834"
      },
      "source": [
        "df.saledate.head(5)"
      ],
      "execution_count": null,
      "outputs": [
        {
          "output_type": "execute_result",
          "data": {
            "text/plain": [
              "205615   1989-01-17\n",
              "274835   1989-01-31\n",
              "141296   1989-01-31\n",
              "212552   1989-01-31\n",
              "62755    1989-01-31\n",
              "Name: saledate, dtype: datetime64[ns]"
            ]
          },
          "metadata": {},
          "execution_count": 15
        }
      ]
    },
    {
      "cell_type": "code",
      "metadata": {
        "colab": {
          "base_uri": "https://localhost:8080/",
          "height": 1000
        },
        "id": "BnYqUcmkYVpJ",
        "outputId": "0b3bf43f-480d-42ec-ad1d-957d492c6a59"
      },
      "source": [
        "df.head(5).T"
      ],
      "execution_count": null,
      "outputs": [
        {
          "output_type": "execute_result",
          "data": {
            "text/html": [
              "<div>\n",
              "<style scoped>\n",
              "    .dataframe tbody tr th:only-of-type {\n",
              "        vertical-align: middle;\n",
              "    }\n",
              "\n",
              "    .dataframe tbody tr th {\n",
              "        vertical-align: top;\n",
              "    }\n",
              "\n",
              "    .dataframe thead th {\n",
              "        text-align: right;\n",
              "    }\n",
              "</style>\n",
              "<table border=\"1\" class=\"dataframe\">\n",
              "  <thead>\n",
              "    <tr style=\"text-align: right;\">\n",
              "      <th></th>\n",
              "      <th>205615</th>\n",
              "      <th>274835</th>\n",
              "      <th>141296</th>\n",
              "      <th>212552</th>\n",
              "      <th>62755</th>\n",
              "    </tr>\n",
              "  </thead>\n",
              "  <tbody>\n",
              "    <tr>\n",
              "      <th>SalesID</th>\n",
              "      <td>1646770</td>\n",
              "      <td>1821514</td>\n",
              "      <td>1505138</td>\n",
              "      <td>1671174</td>\n",
              "      <td>1329056</td>\n",
              "    </tr>\n",
              "    <tr>\n",
              "      <th>SalePrice</th>\n",
              "      <td>9500</td>\n",
              "      <td>14000</td>\n",
              "      <td>50000</td>\n",
              "      <td>16000</td>\n",
              "      <td>22000</td>\n",
              "    </tr>\n",
              "    <tr>\n",
              "      <th>MachineID</th>\n",
              "      <td>1126363</td>\n",
              "      <td>1194089</td>\n",
              "      <td>1473654</td>\n",
              "      <td>1327630</td>\n",
              "      <td>1336053</td>\n",
              "    </tr>\n",
              "    <tr>\n",
              "      <th>ModelID</th>\n",
              "      <td>8434</td>\n",
              "      <td>10150</td>\n",
              "      <td>4139</td>\n",
              "      <td>8591</td>\n",
              "      <td>4089</td>\n",
              "    </tr>\n",
              "    <tr>\n",
              "      <th>datasource</th>\n",
              "      <td>132</td>\n",
              "      <td>132</td>\n",
              "      <td>132</td>\n",
              "      <td>132</td>\n",
              "      <td>132</td>\n",
              "    </tr>\n",
              "    <tr>\n",
              "      <th>auctioneerID</th>\n",
              "      <td>18</td>\n",
              "      <td>99</td>\n",
              "      <td>99</td>\n",
              "      <td>99</td>\n",
              "      <td>99</td>\n",
              "    </tr>\n",
              "    <tr>\n",
              "      <th>YearMade</th>\n",
              "      <td>1974</td>\n",
              "      <td>1980</td>\n",
              "      <td>1978</td>\n",
              "      <td>1980</td>\n",
              "      <td>1984</td>\n",
              "    </tr>\n",
              "    <tr>\n",
              "      <th>MachineHoursCurrentMeter</th>\n",
              "      <td>NaN</td>\n",
              "      <td>NaN</td>\n",
              "      <td>NaN</td>\n",
              "      <td>NaN</td>\n",
              "      <td>NaN</td>\n",
              "    </tr>\n",
              "    <tr>\n",
              "      <th>UsageBand</th>\n",
              "      <td>NaN</td>\n",
              "      <td>NaN</td>\n",
              "      <td>NaN</td>\n",
              "      <td>NaN</td>\n",
              "      <td>NaN</td>\n",
              "    </tr>\n",
              "    <tr>\n",
              "      <th>saledate</th>\n",
              "      <td>1989-01-17 00:00:00</td>\n",
              "      <td>1989-01-31 00:00:00</td>\n",
              "      <td>1989-01-31 00:00:00</td>\n",
              "      <td>1989-01-31 00:00:00</td>\n",
              "      <td>1989-01-31 00:00:00</td>\n",
              "    </tr>\n",
              "    <tr>\n",
              "      <th>fiModelDesc</th>\n",
              "      <td>TD20</td>\n",
              "      <td>A66</td>\n",
              "      <td>D7G</td>\n",
              "      <td>A62</td>\n",
              "      <td>D3B</td>\n",
              "    </tr>\n",
              "    <tr>\n",
              "      <th>fiBaseModel</th>\n",
              "      <td>TD20</td>\n",
              "      <td>A66</td>\n",
              "      <td>D7</td>\n",
              "      <td>A62</td>\n",
              "      <td>D3</td>\n",
              "    </tr>\n",
              "    <tr>\n",
              "      <th>fiSecondaryDesc</th>\n",
              "      <td>NaN</td>\n",
              "      <td>NaN</td>\n",
              "      <td>G</td>\n",
              "      <td>NaN</td>\n",
              "      <td>B</td>\n",
              "    </tr>\n",
              "    <tr>\n",
              "      <th>fiModelSeries</th>\n",
              "      <td>NaN</td>\n",
              "      <td>NaN</td>\n",
              "      <td>NaN</td>\n",
              "      <td>NaN</td>\n",
              "      <td>NaN</td>\n",
              "    </tr>\n",
              "    <tr>\n",
              "      <th>fiModelDescriptor</th>\n",
              "      <td>NaN</td>\n",
              "      <td>NaN</td>\n",
              "      <td>NaN</td>\n",
              "      <td>NaN</td>\n",
              "      <td>NaN</td>\n",
              "    </tr>\n",
              "    <tr>\n",
              "      <th>ProductSize</th>\n",
              "      <td>Medium</td>\n",
              "      <td>NaN</td>\n",
              "      <td>Large</td>\n",
              "      <td>NaN</td>\n",
              "      <td>NaN</td>\n",
              "    </tr>\n",
              "    <tr>\n",
              "      <th>fiProductClassDesc</th>\n",
              "      <td>Track Type Tractor, Dozer - 105.0 to 130.0 Hor...</td>\n",
              "      <td>Wheel Loader - 120.0 to 135.0 Horsepower</td>\n",
              "      <td>Track Type Tractor, Dozer - 190.0 to 260.0 Hor...</td>\n",
              "      <td>Wheel Loader - Unidentified</td>\n",
              "      <td>Track Type Tractor, Dozer - 20.0 to 75.0 Horse...</td>\n",
              "    </tr>\n",
              "    <tr>\n",
              "      <th>state</th>\n",
              "      <td>Texas</td>\n",
              "      <td>Florida</td>\n",
              "      <td>Florida</td>\n",
              "      <td>Florida</td>\n",
              "      <td>Florida</td>\n",
              "    </tr>\n",
              "    <tr>\n",
              "      <th>ProductGroup</th>\n",
              "      <td>TTT</td>\n",
              "      <td>WL</td>\n",
              "      <td>TTT</td>\n",
              "      <td>WL</td>\n",
              "      <td>TTT</td>\n",
              "    </tr>\n",
              "    <tr>\n",
              "      <th>ProductGroupDesc</th>\n",
              "      <td>Track Type Tractors</td>\n",
              "      <td>Wheel Loader</td>\n",
              "      <td>Track Type Tractors</td>\n",
              "      <td>Wheel Loader</td>\n",
              "      <td>Track Type Tractors</td>\n",
              "    </tr>\n",
              "    <tr>\n",
              "      <th>Drive_System</th>\n",
              "      <td>NaN</td>\n",
              "      <td>NaN</td>\n",
              "      <td>NaN</td>\n",
              "      <td>NaN</td>\n",
              "      <td>NaN</td>\n",
              "    </tr>\n",
              "    <tr>\n",
              "      <th>Enclosure</th>\n",
              "      <td>OROPS</td>\n",
              "      <td>OROPS</td>\n",
              "      <td>OROPS</td>\n",
              "      <td>EROPS</td>\n",
              "      <td>OROPS</td>\n",
              "    </tr>\n",
              "    <tr>\n",
              "      <th>Forks</th>\n",
              "      <td>NaN</td>\n",
              "      <td>None or Unspecified</td>\n",
              "      <td>NaN</td>\n",
              "      <td>None or Unspecified</td>\n",
              "      <td>NaN</td>\n",
              "    </tr>\n",
              "    <tr>\n",
              "      <th>Pad_Type</th>\n",
              "      <td>NaN</td>\n",
              "      <td>NaN</td>\n",
              "      <td>NaN</td>\n",
              "      <td>NaN</td>\n",
              "      <td>NaN</td>\n",
              "    </tr>\n",
              "    <tr>\n",
              "      <th>Ride_Control</th>\n",
              "      <td>NaN</td>\n",
              "      <td>None or Unspecified</td>\n",
              "      <td>NaN</td>\n",
              "      <td>None or Unspecified</td>\n",
              "      <td>NaN</td>\n",
              "    </tr>\n",
              "    <tr>\n",
              "      <th>Stick</th>\n",
              "      <td>NaN</td>\n",
              "      <td>NaN</td>\n",
              "      <td>NaN</td>\n",
              "      <td>NaN</td>\n",
              "      <td>NaN</td>\n",
              "    </tr>\n",
              "    <tr>\n",
              "      <th>Transmission</th>\n",
              "      <td>Direct Drive</td>\n",
              "      <td>NaN</td>\n",
              "      <td>Standard</td>\n",
              "      <td>NaN</td>\n",
              "      <td>Standard</td>\n",
              "    </tr>\n",
              "    <tr>\n",
              "      <th>Turbocharged</th>\n",
              "      <td>NaN</td>\n",
              "      <td>NaN</td>\n",
              "      <td>NaN</td>\n",
              "      <td>NaN</td>\n",
              "      <td>NaN</td>\n",
              "    </tr>\n",
              "    <tr>\n",
              "      <th>Blade_Extension</th>\n",
              "      <td>NaN</td>\n",
              "      <td>NaN</td>\n",
              "      <td>NaN</td>\n",
              "      <td>NaN</td>\n",
              "      <td>NaN</td>\n",
              "    </tr>\n",
              "    <tr>\n",
              "      <th>Blade_Width</th>\n",
              "      <td>NaN</td>\n",
              "      <td>NaN</td>\n",
              "      <td>NaN</td>\n",
              "      <td>NaN</td>\n",
              "      <td>NaN</td>\n",
              "    </tr>\n",
              "    <tr>\n",
              "      <th>Enclosure_Type</th>\n",
              "      <td>NaN</td>\n",
              "      <td>NaN</td>\n",
              "      <td>NaN</td>\n",
              "      <td>NaN</td>\n",
              "      <td>NaN</td>\n",
              "    </tr>\n",
              "    <tr>\n",
              "      <th>Engine_Horsepower</th>\n",
              "      <td>NaN</td>\n",
              "      <td>NaN</td>\n",
              "      <td>NaN</td>\n",
              "      <td>NaN</td>\n",
              "      <td>NaN</td>\n",
              "    </tr>\n",
              "    <tr>\n",
              "      <th>Hydraulics</th>\n",
              "      <td>2 Valve</td>\n",
              "      <td>2 Valve</td>\n",
              "      <td>2 Valve</td>\n",
              "      <td>2 Valve</td>\n",
              "      <td>2 Valve</td>\n",
              "    </tr>\n",
              "    <tr>\n",
              "      <th>Pushblock</th>\n",
              "      <td>NaN</td>\n",
              "      <td>NaN</td>\n",
              "      <td>NaN</td>\n",
              "      <td>NaN</td>\n",
              "      <td>NaN</td>\n",
              "    </tr>\n",
              "    <tr>\n",
              "      <th>Ripper</th>\n",
              "      <td>None or Unspecified</td>\n",
              "      <td>NaN</td>\n",
              "      <td>None or Unspecified</td>\n",
              "      <td>NaN</td>\n",
              "      <td>None or Unspecified</td>\n",
              "    </tr>\n",
              "    <tr>\n",
              "      <th>Scarifier</th>\n",
              "      <td>NaN</td>\n",
              "      <td>NaN</td>\n",
              "      <td>NaN</td>\n",
              "      <td>NaN</td>\n",
              "      <td>NaN</td>\n",
              "    </tr>\n",
              "    <tr>\n",
              "      <th>Tip_Control</th>\n",
              "      <td>NaN</td>\n",
              "      <td>NaN</td>\n",
              "      <td>NaN</td>\n",
              "      <td>NaN</td>\n",
              "      <td>NaN</td>\n",
              "    </tr>\n",
              "    <tr>\n",
              "      <th>Tire_Size</th>\n",
              "      <td>NaN</td>\n",
              "      <td>None or Unspecified</td>\n",
              "      <td>NaN</td>\n",
              "      <td>None or Unspecified</td>\n",
              "      <td>NaN</td>\n",
              "    </tr>\n",
              "    <tr>\n",
              "      <th>Coupler</th>\n",
              "      <td>NaN</td>\n",
              "      <td>None or Unspecified</td>\n",
              "      <td>NaN</td>\n",
              "      <td>None or Unspecified</td>\n",
              "      <td>NaN</td>\n",
              "    </tr>\n",
              "    <tr>\n",
              "      <th>Coupler_System</th>\n",
              "      <td>NaN</td>\n",
              "      <td>NaN</td>\n",
              "      <td>NaN</td>\n",
              "      <td>NaN</td>\n",
              "      <td>NaN</td>\n",
              "    </tr>\n",
              "    <tr>\n",
              "      <th>Grouser_Tracks</th>\n",
              "      <td>NaN</td>\n",
              "      <td>NaN</td>\n",
              "      <td>NaN</td>\n",
              "      <td>NaN</td>\n",
              "      <td>NaN</td>\n",
              "    </tr>\n",
              "    <tr>\n",
              "      <th>Hydraulics_Flow</th>\n",
              "      <td>NaN</td>\n",
              "      <td>NaN</td>\n",
              "      <td>NaN</td>\n",
              "      <td>NaN</td>\n",
              "      <td>NaN</td>\n",
              "    </tr>\n",
              "    <tr>\n",
              "      <th>Track_Type</th>\n",
              "      <td>NaN</td>\n",
              "      <td>NaN</td>\n",
              "      <td>NaN</td>\n",
              "      <td>NaN</td>\n",
              "      <td>NaN</td>\n",
              "    </tr>\n",
              "    <tr>\n",
              "      <th>Undercarriage_Pad_Width</th>\n",
              "      <td>NaN</td>\n",
              "      <td>NaN</td>\n",
              "      <td>NaN</td>\n",
              "      <td>NaN</td>\n",
              "      <td>NaN</td>\n",
              "    </tr>\n",
              "    <tr>\n",
              "      <th>Stick_Length</th>\n",
              "      <td>NaN</td>\n",
              "      <td>NaN</td>\n",
              "      <td>NaN</td>\n",
              "      <td>NaN</td>\n",
              "      <td>NaN</td>\n",
              "    </tr>\n",
              "    <tr>\n",
              "      <th>Thumb</th>\n",
              "      <td>NaN</td>\n",
              "      <td>NaN</td>\n",
              "      <td>NaN</td>\n",
              "      <td>NaN</td>\n",
              "      <td>NaN</td>\n",
              "    </tr>\n",
              "    <tr>\n",
              "      <th>Pattern_Changer</th>\n",
              "      <td>NaN</td>\n",
              "      <td>NaN</td>\n",
              "      <td>NaN</td>\n",
              "      <td>NaN</td>\n",
              "      <td>NaN</td>\n",
              "    </tr>\n",
              "    <tr>\n",
              "      <th>Grouser_Type</th>\n",
              "      <td>NaN</td>\n",
              "      <td>NaN</td>\n",
              "      <td>NaN</td>\n",
              "      <td>NaN</td>\n",
              "      <td>NaN</td>\n",
              "    </tr>\n",
              "    <tr>\n",
              "      <th>Backhoe_Mounting</th>\n",
              "      <td>None or Unspecified</td>\n",
              "      <td>NaN</td>\n",
              "      <td>None or Unspecified</td>\n",
              "      <td>NaN</td>\n",
              "      <td>None or Unspecified</td>\n",
              "    </tr>\n",
              "    <tr>\n",
              "      <th>Blade_Type</th>\n",
              "      <td>Straight</td>\n",
              "      <td>NaN</td>\n",
              "      <td>Straight</td>\n",
              "      <td>NaN</td>\n",
              "      <td>PAT</td>\n",
              "    </tr>\n",
              "    <tr>\n",
              "      <th>Travel_Controls</th>\n",
              "      <td>None or Unspecified</td>\n",
              "      <td>NaN</td>\n",
              "      <td>None or Unspecified</td>\n",
              "      <td>NaN</td>\n",
              "      <td>Lever</td>\n",
              "    </tr>\n",
              "    <tr>\n",
              "      <th>Differential_Type</th>\n",
              "      <td>NaN</td>\n",
              "      <td>Standard</td>\n",
              "      <td>NaN</td>\n",
              "      <td>Standard</td>\n",
              "      <td>NaN</td>\n",
              "    </tr>\n",
              "    <tr>\n",
              "      <th>Steering_Controls</th>\n",
              "      <td>NaN</td>\n",
              "      <td>Conventional</td>\n",
              "      <td>NaN</td>\n",
              "      <td>Conventional</td>\n",
              "      <td>NaN</td>\n",
              "    </tr>\n",
              "  </tbody>\n",
              "</table>\n",
              "</div>"
            ],
            "text/plain": [
              "                                                                     205615  ...                                             62755 \n",
              "SalesID                                                             1646770  ...                                            1329056\n",
              "SalePrice                                                              9500  ...                                              22000\n",
              "MachineID                                                           1126363  ...                                            1336053\n",
              "ModelID                                                                8434  ...                                               4089\n",
              "datasource                                                              132  ...                                                132\n",
              "auctioneerID                                                             18  ...                                                 99\n",
              "YearMade                                                               1974  ...                                               1984\n",
              "MachineHoursCurrentMeter                                                NaN  ...                                                NaN\n",
              "UsageBand                                                               NaN  ...                                                NaN\n",
              "saledate                                                1989-01-17 00:00:00  ...                                1989-01-31 00:00:00\n",
              "fiModelDesc                                                            TD20  ...                                                D3B\n",
              "fiBaseModel                                                            TD20  ...                                                 D3\n",
              "fiSecondaryDesc                                                         NaN  ...                                                  B\n",
              "fiModelSeries                                                           NaN  ...                                                NaN\n",
              "fiModelDescriptor                                                       NaN  ...                                                NaN\n",
              "ProductSize                                                          Medium  ...                                                NaN\n",
              "fiProductClassDesc        Track Type Tractor, Dozer - 105.0 to 130.0 Hor...  ...  Track Type Tractor, Dozer - 20.0 to 75.0 Horse...\n",
              "state                                                                 Texas  ...                                            Florida\n",
              "ProductGroup                                                            TTT  ...                                                TTT\n",
              "ProductGroupDesc                                        Track Type Tractors  ...                                Track Type Tractors\n",
              "Drive_System                                                            NaN  ...                                                NaN\n",
              "Enclosure                                                             OROPS  ...                                              OROPS\n",
              "Forks                                                                   NaN  ...                                                NaN\n",
              "Pad_Type                                                                NaN  ...                                                NaN\n",
              "Ride_Control                                                            NaN  ...                                                NaN\n",
              "Stick                                                                   NaN  ...                                                NaN\n",
              "Transmission                                                   Direct Drive  ...                                           Standard\n",
              "Turbocharged                                                            NaN  ...                                                NaN\n",
              "Blade_Extension                                                         NaN  ...                                                NaN\n",
              "Blade_Width                                                             NaN  ...                                                NaN\n",
              "Enclosure_Type                                                          NaN  ...                                                NaN\n",
              "Engine_Horsepower                                                       NaN  ...                                                NaN\n",
              "Hydraulics                                                          2 Valve  ...                                            2 Valve\n",
              "Pushblock                                                               NaN  ...                                                NaN\n",
              "Ripper                                                  None or Unspecified  ...                                None or Unspecified\n",
              "Scarifier                                                               NaN  ...                                                NaN\n",
              "Tip_Control                                                             NaN  ...                                                NaN\n",
              "Tire_Size                                                               NaN  ...                                                NaN\n",
              "Coupler                                                                 NaN  ...                                                NaN\n",
              "Coupler_System                                                          NaN  ...                                                NaN\n",
              "Grouser_Tracks                                                          NaN  ...                                                NaN\n",
              "Hydraulics_Flow                                                         NaN  ...                                                NaN\n",
              "Track_Type                                                              NaN  ...                                                NaN\n",
              "Undercarriage_Pad_Width                                                 NaN  ...                                                NaN\n",
              "Stick_Length                                                            NaN  ...                                                NaN\n",
              "Thumb                                                                   NaN  ...                                                NaN\n",
              "Pattern_Changer                                                         NaN  ...                                                NaN\n",
              "Grouser_Type                                                            NaN  ...                                                NaN\n",
              "Backhoe_Mounting                                        None or Unspecified  ...                                None or Unspecified\n",
              "Blade_Type                                                         Straight  ...                                                PAT\n",
              "Travel_Controls                                         None or Unspecified  ...                                              Lever\n",
              "Differential_Type                                                       NaN  ...                                                NaN\n",
              "Steering_Controls                                                       NaN  ...                                                NaN\n",
              "\n",
              "[53 rows x 5 columns]"
            ]
          },
          "metadata": {},
          "execution_count": 16
        }
      ]
    },
    {
      "cell_type": "code",
      "metadata": {
        "id": "GcTWED_aYmBe"
      },
      "source": [
        "# Let us make a copy original dataset so that we can manipulate data in copy\n",
        "df_tem = df.copy()"
      ],
      "execution_count": null,
      "outputs": []
    },
    {
      "cell_type": "markdown",
      "metadata": {
        "id": "sgJPEKMrniTL"
      },
      "source": [
        "#####Feature Engineering"
      ]
    },
    {
      "cell_type": "code",
      "metadata": {
        "colab": {
          "base_uri": "https://localhost:8080/"
        },
        "id": "z0SO-pqJiML5",
        "outputId": "a7a14388-cec9-4475-89d8-da95f617df1a"
      },
      "source": [
        "# Now that we made a copy of the data so we shall do some feature engineering\n",
        "df_tem.saledate.head()"
      ],
      "execution_count": null,
      "outputs": [
        {
          "output_type": "execute_result",
          "data": {
            "text/plain": [
              "205615   1989-01-17\n",
              "274835   1989-01-31\n",
              "141296   1989-01-31\n",
              "212552   1989-01-31\n",
              "62755    1989-01-31\n",
              "Name: saledate, dtype: datetime64[ns]"
            ]
          },
          "metadata": {},
          "execution_count": 18
        }
      ]
    },
    {
      "cell_type": "code",
      "metadata": {
        "colab": {
          "base_uri": "https://localhost:8080/"
        },
        "id": "_hqvO3DvnuKf",
        "outputId": "24744c0c-117c-47b2-bc0a-ac078f7a727b"
      },
      "source": [
        "# We now shall use some datetime parameters given by pandas datetime object using datetime attributes\n",
        "df_tem['SaleMonth'] = df_tem['saledate'].dt.month\n",
        "df_tem['SaleYear'] = df_tem['saledate'].dt.year\n",
        "df_tem['SaleWeek'] = df_tem['saledate'].dt.week\n",
        "df_tem['SaleDay'] = df_tem['saledate'].dt.day"
      ],
      "execution_count": null,
      "outputs": [
        {
          "output_type": "stream",
          "name": "stderr",
          "text": [
            "/usr/local/lib/python3.7/dist-packages/ipykernel_launcher.py:4: FutureWarning: Series.dt.weekofyear and Series.dt.week have been deprecated.  Please use Series.dt.isocalendar().week instead.\n",
            "  after removing the cwd from sys.path.\n"
          ]
        }
      ]
    },
    {
      "cell_type": "code",
      "metadata": {
        "colab": {
          "base_uri": "https://localhost:8080/",
          "height": 1000
        },
        "id": "O1vMAgXEofcc",
        "outputId": "83a87dcb-c7ca-4db6-c259-76b576467895"
      },
      "source": [
        "df_tem.head().T"
      ],
      "execution_count": null,
      "outputs": [
        {
          "output_type": "execute_result",
          "data": {
            "text/html": [
              "<div>\n",
              "<style scoped>\n",
              "    .dataframe tbody tr th:only-of-type {\n",
              "        vertical-align: middle;\n",
              "    }\n",
              "\n",
              "    .dataframe tbody tr th {\n",
              "        vertical-align: top;\n",
              "    }\n",
              "\n",
              "    .dataframe thead th {\n",
              "        text-align: right;\n",
              "    }\n",
              "</style>\n",
              "<table border=\"1\" class=\"dataframe\">\n",
              "  <thead>\n",
              "    <tr style=\"text-align: right;\">\n",
              "      <th></th>\n",
              "      <th>205615</th>\n",
              "      <th>274835</th>\n",
              "      <th>141296</th>\n",
              "      <th>212552</th>\n",
              "      <th>62755</th>\n",
              "    </tr>\n",
              "  </thead>\n",
              "  <tbody>\n",
              "    <tr>\n",
              "      <th>SalesID</th>\n",
              "      <td>1646770</td>\n",
              "      <td>1821514</td>\n",
              "      <td>1505138</td>\n",
              "      <td>1671174</td>\n",
              "      <td>1329056</td>\n",
              "    </tr>\n",
              "    <tr>\n",
              "      <th>SalePrice</th>\n",
              "      <td>9500</td>\n",
              "      <td>14000</td>\n",
              "      <td>50000</td>\n",
              "      <td>16000</td>\n",
              "      <td>22000</td>\n",
              "    </tr>\n",
              "    <tr>\n",
              "      <th>MachineID</th>\n",
              "      <td>1126363</td>\n",
              "      <td>1194089</td>\n",
              "      <td>1473654</td>\n",
              "      <td>1327630</td>\n",
              "      <td>1336053</td>\n",
              "    </tr>\n",
              "    <tr>\n",
              "      <th>ModelID</th>\n",
              "      <td>8434</td>\n",
              "      <td>10150</td>\n",
              "      <td>4139</td>\n",
              "      <td>8591</td>\n",
              "      <td>4089</td>\n",
              "    </tr>\n",
              "    <tr>\n",
              "      <th>datasource</th>\n",
              "      <td>132</td>\n",
              "      <td>132</td>\n",
              "      <td>132</td>\n",
              "      <td>132</td>\n",
              "      <td>132</td>\n",
              "    </tr>\n",
              "    <tr>\n",
              "      <th>auctioneerID</th>\n",
              "      <td>18</td>\n",
              "      <td>99</td>\n",
              "      <td>99</td>\n",
              "      <td>99</td>\n",
              "      <td>99</td>\n",
              "    </tr>\n",
              "    <tr>\n",
              "      <th>YearMade</th>\n",
              "      <td>1974</td>\n",
              "      <td>1980</td>\n",
              "      <td>1978</td>\n",
              "      <td>1980</td>\n",
              "      <td>1984</td>\n",
              "    </tr>\n",
              "    <tr>\n",
              "      <th>MachineHoursCurrentMeter</th>\n",
              "      <td>NaN</td>\n",
              "      <td>NaN</td>\n",
              "      <td>NaN</td>\n",
              "      <td>NaN</td>\n",
              "      <td>NaN</td>\n",
              "    </tr>\n",
              "    <tr>\n",
              "      <th>UsageBand</th>\n",
              "      <td>NaN</td>\n",
              "      <td>NaN</td>\n",
              "      <td>NaN</td>\n",
              "      <td>NaN</td>\n",
              "      <td>NaN</td>\n",
              "    </tr>\n",
              "    <tr>\n",
              "      <th>saledate</th>\n",
              "      <td>1989-01-17 00:00:00</td>\n",
              "      <td>1989-01-31 00:00:00</td>\n",
              "      <td>1989-01-31 00:00:00</td>\n",
              "      <td>1989-01-31 00:00:00</td>\n",
              "      <td>1989-01-31 00:00:00</td>\n",
              "    </tr>\n",
              "    <tr>\n",
              "      <th>fiModelDesc</th>\n",
              "      <td>TD20</td>\n",
              "      <td>A66</td>\n",
              "      <td>D7G</td>\n",
              "      <td>A62</td>\n",
              "      <td>D3B</td>\n",
              "    </tr>\n",
              "    <tr>\n",
              "      <th>fiBaseModel</th>\n",
              "      <td>TD20</td>\n",
              "      <td>A66</td>\n",
              "      <td>D7</td>\n",
              "      <td>A62</td>\n",
              "      <td>D3</td>\n",
              "    </tr>\n",
              "    <tr>\n",
              "      <th>fiSecondaryDesc</th>\n",
              "      <td>NaN</td>\n",
              "      <td>NaN</td>\n",
              "      <td>G</td>\n",
              "      <td>NaN</td>\n",
              "      <td>B</td>\n",
              "    </tr>\n",
              "    <tr>\n",
              "      <th>fiModelSeries</th>\n",
              "      <td>NaN</td>\n",
              "      <td>NaN</td>\n",
              "      <td>NaN</td>\n",
              "      <td>NaN</td>\n",
              "      <td>NaN</td>\n",
              "    </tr>\n",
              "    <tr>\n",
              "      <th>fiModelDescriptor</th>\n",
              "      <td>NaN</td>\n",
              "      <td>NaN</td>\n",
              "      <td>NaN</td>\n",
              "      <td>NaN</td>\n",
              "      <td>NaN</td>\n",
              "    </tr>\n",
              "    <tr>\n",
              "      <th>ProductSize</th>\n",
              "      <td>Medium</td>\n",
              "      <td>NaN</td>\n",
              "      <td>Large</td>\n",
              "      <td>NaN</td>\n",
              "      <td>NaN</td>\n",
              "    </tr>\n",
              "    <tr>\n",
              "      <th>fiProductClassDesc</th>\n",
              "      <td>Track Type Tractor, Dozer - 105.0 to 130.0 Hor...</td>\n",
              "      <td>Wheel Loader - 120.0 to 135.0 Horsepower</td>\n",
              "      <td>Track Type Tractor, Dozer - 190.0 to 260.0 Hor...</td>\n",
              "      <td>Wheel Loader - Unidentified</td>\n",
              "      <td>Track Type Tractor, Dozer - 20.0 to 75.0 Horse...</td>\n",
              "    </tr>\n",
              "    <tr>\n",
              "      <th>state</th>\n",
              "      <td>Texas</td>\n",
              "      <td>Florida</td>\n",
              "      <td>Florida</td>\n",
              "      <td>Florida</td>\n",
              "      <td>Florida</td>\n",
              "    </tr>\n",
              "    <tr>\n",
              "      <th>ProductGroup</th>\n",
              "      <td>TTT</td>\n",
              "      <td>WL</td>\n",
              "      <td>TTT</td>\n",
              "      <td>WL</td>\n",
              "      <td>TTT</td>\n",
              "    </tr>\n",
              "    <tr>\n",
              "      <th>ProductGroupDesc</th>\n",
              "      <td>Track Type Tractors</td>\n",
              "      <td>Wheel Loader</td>\n",
              "      <td>Track Type Tractors</td>\n",
              "      <td>Wheel Loader</td>\n",
              "      <td>Track Type Tractors</td>\n",
              "    </tr>\n",
              "    <tr>\n",
              "      <th>Drive_System</th>\n",
              "      <td>NaN</td>\n",
              "      <td>NaN</td>\n",
              "      <td>NaN</td>\n",
              "      <td>NaN</td>\n",
              "      <td>NaN</td>\n",
              "    </tr>\n",
              "    <tr>\n",
              "      <th>Enclosure</th>\n",
              "      <td>OROPS</td>\n",
              "      <td>OROPS</td>\n",
              "      <td>OROPS</td>\n",
              "      <td>EROPS</td>\n",
              "      <td>OROPS</td>\n",
              "    </tr>\n",
              "    <tr>\n",
              "      <th>Forks</th>\n",
              "      <td>NaN</td>\n",
              "      <td>None or Unspecified</td>\n",
              "      <td>NaN</td>\n",
              "      <td>None or Unspecified</td>\n",
              "      <td>NaN</td>\n",
              "    </tr>\n",
              "    <tr>\n",
              "      <th>Pad_Type</th>\n",
              "      <td>NaN</td>\n",
              "      <td>NaN</td>\n",
              "      <td>NaN</td>\n",
              "      <td>NaN</td>\n",
              "      <td>NaN</td>\n",
              "    </tr>\n",
              "    <tr>\n",
              "      <th>Ride_Control</th>\n",
              "      <td>NaN</td>\n",
              "      <td>None or Unspecified</td>\n",
              "      <td>NaN</td>\n",
              "      <td>None or Unspecified</td>\n",
              "      <td>NaN</td>\n",
              "    </tr>\n",
              "    <tr>\n",
              "      <th>Stick</th>\n",
              "      <td>NaN</td>\n",
              "      <td>NaN</td>\n",
              "      <td>NaN</td>\n",
              "      <td>NaN</td>\n",
              "      <td>NaN</td>\n",
              "    </tr>\n",
              "    <tr>\n",
              "      <th>Transmission</th>\n",
              "      <td>Direct Drive</td>\n",
              "      <td>NaN</td>\n",
              "      <td>Standard</td>\n",
              "      <td>NaN</td>\n",
              "      <td>Standard</td>\n",
              "    </tr>\n",
              "    <tr>\n",
              "      <th>Turbocharged</th>\n",
              "      <td>NaN</td>\n",
              "      <td>NaN</td>\n",
              "      <td>NaN</td>\n",
              "      <td>NaN</td>\n",
              "      <td>NaN</td>\n",
              "    </tr>\n",
              "    <tr>\n",
              "      <th>Blade_Extension</th>\n",
              "      <td>NaN</td>\n",
              "      <td>NaN</td>\n",
              "      <td>NaN</td>\n",
              "      <td>NaN</td>\n",
              "      <td>NaN</td>\n",
              "    </tr>\n",
              "    <tr>\n",
              "      <th>Blade_Width</th>\n",
              "      <td>NaN</td>\n",
              "      <td>NaN</td>\n",
              "      <td>NaN</td>\n",
              "      <td>NaN</td>\n",
              "      <td>NaN</td>\n",
              "    </tr>\n",
              "    <tr>\n",
              "      <th>Enclosure_Type</th>\n",
              "      <td>NaN</td>\n",
              "      <td>NaN</td>\n",
              "      <td>NaN</td>\n",
              "      <td>NaN</td>\n",
              "      <td>NaN</td>\n",
              "    </tr>\n",
              "    <tr>\n",
              "      <th>Engine_Horsepower</th>\n",
              "      <td>NaN</td>\n",
              "      <td>NaN</td>\n",
              "      <td>NaN</td>\n",
              "      <td>NaN</td>\n",
              "      <td>NaN</td>\n",
              "    </tr>\n",
              "    <tr>\n",
              "      <th>Hydraulics</th>\n",
              "      <td>2 Valve</td>\n",
              "      <td>2 Valve</td>\n",
              "      <td>2 Valve</td>\n",
              "      <td>2 Valve</td>\n",
              "      <td>2 Valve</td>\n",
              "    </tr>\n",
              "    <tr>\n",
              "      <th>Pushblock</th>\n",
              "      <td>NaN</td>\n",
              "      <td>NaN</td>\n",
              "      <td>NaN</td>\n",
              "      <td>NaN</td>\n",
              "      <td>NaN</td>\n",
              "    </tr>\n",
              "    <tr>\n",
              "      <th>Ripper</th>\n",
              "      <td>None or Unspecified</td>\n",
              "      <td>NaN</td>\n",
              "      <td>None or Unspecified</td>\n",
              "      <td>NaN</td>\n",
              "      <td>None or Unspecified</td>\n",
              "    </tr>\n",
              "    <tr>\n",
              "      <th>Scarifier</th>\n",
              "      <td>NaN</td>\n",
              "      <td>NaN</td>\n",
              "      <td>NaN</td>\n",
              "      <td>NaN</td>\n",
              "      <td>NaN</td>\n",
              "    </tr>\n",
              "    <tr>\n",
              "      <th>Tip_Control</th>\n",
              "      <td>NaN</td>\n",
              "      <td>NaN</td>\n",
              "      <td>NaN</td>\n",
              "      <td>NaN</td>\n",
              "      <td>NaN</td>\n",
              "    </tr>\n",
              "    <tr>\n",
              "      <th>Tire_Size</th>\n",
              "      <td>NaN</td>\n",
              "      <td>None or Unspecified</td>\n",
              "      <td>NaN</td>\n",
              "      <td>None or Unspecified</td>\n",
              "      <td>NaN</td>\n",
              "    </tr>\n",
              "    <tr>\n",
              "      <th>Coupler</th>\n",
              "      <td>NaN</td>\n",
              "      <td>None or Unspecified</td>\n",
              "      <td>NaN</td>\n",
              "      <td>None or Unspecified</td>\n",
              "      <td>NaN</td>\n",
              "    </tr>\n",
              "    <tr>\n",
              "      <th>Coupler_System</th>\n",
              "      <td>NaN</td>\n",
              "      <td>NaN</td>\n",
              "      <td>NaN</td>\n",
              "      <td>NaN</td>\n",
              "      <td>NaN</td>\n",
              "    </tr>\n",
              "    <tr>\n",
              "      <th>Grouser_Tracks</th>\n",
              "      <td>NaN</td>\n",
              "      <td>NaN</td>\n",
              "      <td>NaN</td>\n",
              "      <td>NaN</td>\n",
              "      <td>NaN</td>\n",
              "    </tr>\n",
              "    <tr>\n",
              "      <th>Hydraulics_Flow</th>\n",
              "      <td>NaN</td>\n",
              "      <td>NaN</td>\n",
              "      <td>NaN</td>\n",
              "      <td>NaN</td>\n",
              "      <td>NaN</td>\n",
              "    </tr>\n",
              "    <tr>\n",
              "      <th>Track_Type</th>\n",
              "      <td>NaN</td>\n",
              "      <td>NaN</td>\n",
              "      <td>NaN</td>\n",
              "      <td>NaN</td>\n",
              "      <td>NaN</td>\n",
              "    </tr>\n",
              "    <tr>\n",
              "      <th>Undercarriage_Pad_Width</th>\n",
              "      <td>NaN</td>\n",
              "      <td>NaN</td>\n",
              "      <td>NaN</td>\n",
              "      <td>NaN</td>\n",
              "      <td>NaN</td>\n",
              "    </tr>\n",
              "    <tr>\n",
              "      <th>Stick_Length</th>\n",
              "      <td>NaN</td>\n",
              "      <td>NaN</td>\n",
              "      <td>NaN</td>\n",
              "      <td>NaN</td>\n",
              "      <td>NaN</td>\n",
              "    </tr>\n",
              "    <tr>\n",
              "      <th>Thumb</th>\n",
              "      <td>NaN</td>\n",
              "      <td>NaN</td>\n",
              "      <td>NaN</td>\n",
              "      <td>NaN</td>\n",
              "      <td>NaN</td>\n",
              "    </tr>\n",
              "    <tr>\n",
              "      <th>Pattern_Changer</th>\n",
              "      <td>NaN</td>\n",
              "      <td>NaN</td>\n",
              "      <td>NaN</td>\n",
              "      <td>NaN</td>\n",
              "      <td>NaN</td>\n",
              "    </tr>\n",
              "    <tr>\n",
              "      <th>Grouser_Type</th>\n",
              "      <td>NaN</td>\n",
              "      <td>NaN</td>\n",
              "      <td>NaN</td>\n",
              "      <td>NaN</td>\n",
              "      <td>NaN</td>\n",
              "    </tr>\n",
              "    <tr>\n",
              "      <th>Backhoe_Mounting</th>\n",
              "      <td>None or Unspecified</td>\n",
              "      <td>NaN</td>\n",
              "      <td>None or Unspecified</td>\n",
              "      <td>NaN</td>\n",
              "      <td>None or Unspecified</td>\n",
              "    </tr>\n",
              "    <tr>\n",
              "      <th>Blade_Type</th>\n",
              "      <td>Straight</td>\n",
              "      <td>NaN</td>\n",
              "      <td>Straight</td>\n",
              "      <td>NaN</td>\n",
              "      <td>PAT</td>\n",
              "    </tr>\n",
              "    <tr>\n",
              "      <th>Travel_Controls</th>\n",
              "      <td>None or Unspecified</td>\n",
              "      <td>NaN</td>\n",
              "      <td>None or Unspecified</td>\n",
              "      <td>NaN</td>\n",
              "      <td>Lever</td>\n",
              "    </tr>\n",
              "    <tr>\n",
              "      <th>Differential_Type</th>\n",
              "      <td>NaN</td>\n",
              "      <td>Standard</td>\n",
              "      <td>NaN</td>\n",
              "      <td>Standard</td>\n",
              "      <td>NaN</td>\n",
              "    </tr>\n",
              "    <tr>\n",
              "      <th>Steering_Controls</th>\n",
              "      <td>NaN</td>\n",
              "      <td>Conventional</td>\n",
              "      <td>NaN</td>\n",
              "      <td>Conventional</td>\n",
              "      <td>NaN</td>\n",
              "    </tr>\n",
              "    <tr>\n",
              "      <th>SaleMonth</th>\n",
              "      <td>1</td>\n",
              "      <td>1</td>\n",
              "      <td>1</td>\n",
              "      <td>1</td>\n",
              "      <td>1</td>\n",
              "    </tr>\n",
              "    <tr>\n",
              "      <th>SaleYear</th>\n",
              "      <td>1989</td>\n",
              "      <td>1989</td>\n",
              "      <td>1989</td>\n",
              "      <td>1989</td>\n",
              "      <td>1989</td>\n",
              "    </tr>\n",
              "    <tr>\n",
              "      <th>SaleWeek</th>\n",
              "      <td>3</td>\n",
              "      <td>5</td>\n",
              "      <td>5</td>\n",
              "      <td>5</td>\n",
              "      <td>5</td>\n",
              "    </tr>\n",
              "    <tr>\n",
              "      <th>SaleDay</th>\n",
              "      <td>17</td>\n",
              "      <td>31</td>\n",
              "      <td>31</td>\n",
              "      <td>31</td>\n",
              "      <td>31</td>\n",
              "    </tr>\n",
              "  </tbody>\n",
              "</table>\n",
              "</div>"
            ],
            "text/plain": [
              "                                                                     205615  ...                                             62755 \n",
              "SalesID                                                             1646770  ...                                            1329056\n",
              "SalePrice                                                              9500  ...                                              22000\n",
              "MachineID                                                           1126363  ...                                            1336053\n",
              "ModelID                                                                8434  ...                                               4089\n",
              "datasource                                                              132  ...                                                132\n",
              "auctioneerID                                                             18  ...                                                 99\n",
              "YearMade                                                               1974  ...                                               1984\n",
              "MachineHoursCurrentMeter                                                NaN  ...                                                NaN\n",
              "UsageBand                                                               NaN  ...                                                NaN\n",
              "saledate                                                1989-01-17 00:00:00  ...                                1989-01-31 00:00:00\n",
              "fiModelDesc                                                            TD20  ...                                                D3B\n",
              "fiBaseModel                                                            TD20  ...                                                 D3\n",
              "fiSecondaryDesc                                                         NaN  ...                                                  B\n",
              "fiModelSeries                                                           NaN  ...                                                NaN\n",
              "fiModelDescriptor                                                       NaN  ...                                                NaN\n",
              "ProductSize                                                          Medium  ...                                                NaN\n",
              "fiProductClassDesc        Track Type Tractor, Dozer - 105.0 to 130.0 Hor...  ...  Track Type Tractor, Dozer - 20.0 to 75.0 Horse...\n",
              "state                                                                 Texas  ...                                            Florida\n",
              "ProductGroup                                                            TTT  ...                                                TTT\n",
              "ProductGroupDesc                                        Track Type Tractors  ...                                Track Type Tractors\n",
              "Drive_System                                                            NaN  ...                                                NaN\n",
              "Enclosure                                                             OROPS  ...                                              OROPS\n",
              "Forks                                                                   NaN  ...                                                NaN\n",
              "Pad_Type                                                                NaN  ...                                                NaN\n",
              "Ride_Control                                                            NaN  ...                                                NaN\n",
              "Stick                                                                   NaN  ...                                                NaN\n",
              "Transmission                                                   Direct Drive  ...                                           Standard\n",
              "Turbocharged                                                            NaN  ...                                                NaN\n",
              "Blade_Extension                                                         NaN  ...                                                NaN\n",
              "Blade_Width                                                             NaN  ...                                                NaN\n",
              "Enclosure_Type                                                          NaN  ...                                                NaN\n",
              "Engine_Horsepower                                                       NaN  ...                                                NaN\n",
              "Hydraulics                                                          2 Valve  ...                                            2 Valve\n",
              "Pushblock                                                               NaN  ...                                                NaN\n",
              "Ripper                                                  None or Unspecified  ...                                None or Unspecified\n",
              "Scarifier                                                               NaN  ...                                                NaN\n",
              "Tip_Control                                                             NaN  ...                                                NaN\n",
              "Tire_Size                                                               NaN  ...                                                NaN\n",
              "Coupler                                                                 NaN  ...                                                NaN\n",
              "Coupler_System                                                          NaN  ...                                                NaN\n",
              "Grouser_Tracks                                                          NaN  ...                                                NaN\n",
              "Hydraulics_Flow                                                         NaN  ...                                                NaN\n",
              "Track_Type                                                              NaN  ...                                                NaN\n",
              "Undercarriage_Pad_Width                                                 NaN  ...                                                NaN\n",
              "Stick_Length                                                            NaN  ...                                                NaN\n",
              "Thumb                                                                   NaN  ...                                                NaN\n",
              "Pattern_Changer                                                         NaN  ...                                                NaN\n",
              "Grouser_Type                                                            NaN  ...                                                NaN\n",
              "Backhoe_Mounting                                        None or Unspecified  ...                                None or Unspecified\n",
              "Blade_Type                                                         Straight  ...                                                PAT\n",
              "Travel_Controls                                         None or Unspecified  ...                                              Lever\n",
              "Differential_Type                                                       NaN  ...                                                NaN\n",
              "Steering_Controls                                                       NaN  ...                                                NaN\n",
              "SaleMonth                                                                 1  ...                                                  1\n",
              "SaleYear                                                               1989  ...                                               1989\n",
              "SaleWeek                                                                  3  ...                                                  5\n",
              "SaleDay                                                                  17  ...                                                 31\n",
              "\n",
              "[57 rows x 5 columns]"
            ]
          },
          "metadata": {},
          "execution_count": 20
        }
      ]
    },
    {
      "cell_type": "code",
      "metadata": {
        "id": "bFs9AV-bpowa"
      },
      "source": [
        "df_tem.drop('saledate', inplace = True, axis = 1)"
      ],
      "execution_count": null,
      "outputs": []
    },
    {
      "cell_type": "code",
      "metadata": {
        "colab": {
          "base_uri": "https://localhost:8080/"
        },
        "id": "5sIb1gOPo4b2",
        "outputId": "30c88ac6-16f3-4f98-939e-4836487ddf17"
      },
      "source": [
        "# Let us do some EDA before moving to model. We are no gonna do much EDA as scope to do that is there in modeling part.\n",
        "df_tem.state.value_counts()"
      ],
      "execution_count": null,
      "outputs": [
        {
          "output_type": "execute_result",
          "data": {
            "text/plain": [
              "Florida           67320\n",
              "Texas             53110\n",
              "California        29761\n",
              "Washington        16222\n",
              "Georgia           14633\n",
              "Maryland          13322\n",
              "Mississippi       13240\n",
              "Ohio              12369\n",
              "Illinois          11540\n",
              "Colorado          11529\n",
              "New Jersey        11156\n",
              "North Carolina    10636\n",
              "Tennessee         10298\n",
              "Alabama           10292\n",
              "Pennsylvania      10234\n",
              "South Carolina     9951\n",
              "Arizona            9364\n",
              "New York           8639\n",
              "Connecticut        8276\n",
              "Minnesota          7885\n",
              "Missouri           7178\n",
              "Nevada             6932\n",
              "Louisiana          6627\n",
              "Kentucky           5351\n",
              "Maine              5096\n",
              "Indiana            4124\n",
              "Arkansas           3933\n",
              "New Mexico         3631\n",
              "Utah               3046\n",
              "Unspecified        2801\n",
              "Wisconsin          2745\n",
              "New Hampshire      2738\n",
              "Virginia           2353\n",
              "Idaho              2025\n",
              "Oregon             1911\n",
              "Michigan           1831\n",
              "Wyoming            1672\n",
              "Montana            1336\n",
              "Iowa               1336\n",
              "Oklahoma           1326\n",
              "Nebraska            866\n",
              "West Virginia       840\n",
              "Kansas              667\n",
              "Delaware            510\n",
              "North Dakota        480\n",
              "Alaska              430\n",
              "Massachusetts       347\n",
              "Vermont             300\n",
              "South Dakota        244\n",
              "Hawaii              118\n",
              "Rhode Island         83\n",
              "Puerto Rico          42\n",
              "Washington DC         2\n",
              "Name: state, dtype: int64"
            ]
          },
          "metadata": {},
          "execution_count": 22
        }
      ]
    },
    {
      "cell_type": "code",
      "metadata": {
        "id": "rSYQ7JFCpiqM"
      },
      "source": [
        "# That is it doing EDA but we will be doing much during the modeling part"
      ],
      "execution_count": null,
      "outputs": []
    },
    {
      "cell_type": "markdown",
      "metadata": {
        "id": "VRYpkWKyqajk"
      },
      "source": [
        "### 5. Modeling\n",
        "\n"
      ]
    },
    {
      "cell_type": "code",
      "metadata": {
        "id": "VRuFFxazqZmO"
      },
      "source": [
        "from sklearn.model_selection import train_test_split\n",
        "from sklearn.ensemble import RandomForestRegressor\n",
        "reg = RandomForestRegressor()\n",
        "X = df_tem.drop('SalePrice', axis = 1)\n",
        "y = df_tem['SalePrice']\n",
        "X_train, X_test, y_train, y_test = train_test_split(X, y, test_size = 0.2, random_state = 42)"
      ],
      "execution_count": null,
      "outputs": []
    },
    {
      "cell_type": "code",
      "metadata": {
        "colab": {
          "base_uri": "https://localhost:8080/",
          "height": 306
        },
        "id": "7uTLKS6ssIUo",
        "outputId": "a1e0587d-d6ea-45af-c549-c208a60e1408"
      },
      "source": [
        "reg.fit(X_train, y_train)"
      ],
      "execution_count": null,
      "outputs": [
        {
          "output_type": "error",
          "ename": "ValueError",
          "evalue": "ignored",
          "traceback": [
            "\u001b[0;31m---------------------------------------------------------------------------\u001b[0m",
            "\u001b[0;31mValueError\u001b[0m                                Traceback (most recent call last)",
            "\u001b[0;32m<ipython-input-25-35dbd23650e6>\u001b[0m in \u001b[0;36m<module>\u001b[0;34m()\u001b[0m\n\u001b[0;32m----> 1\u001b[0;31m \u001b[0mreg\u001b[0m\u001b[0;34m.\u001b[0m\u001b[0mfit\u001b[0m\u001b[0;34m(\u001b[0m\u001b[0mX_train\u001b[0m\u001b[0;34m,\u001b[0m \u001b[0my_train\u001b[0m\u001b[0;34m)\u001b[0m\u001b[0;34m\u001b[0m\u001b[0;34m\u001b[0m\u001b[0m\n\u001b[0m",
            "\u001b[0;32m/usr/local/lib/python3.7/dist-packages/sklearn/ensemble/_forest.py\u001b[0m in \u001b[0;36mfit\u001b[0;34m(self, X, y, sample_weight)\u001b[0m\n\u001b[1;32m    293\u001b[0m         \"\"\"\n\u001b[1;32m    294\u001b[0m         \u001b[0;31m# Validate or convert input data\u001b[0m\u001b[0;34m\u001b[0m\u001b[0;34m\u001b[0m\u001b[0;34m\u001b[0m\u001b[0m\n\u001b[0;32m--> 295\u001b[0;31m         \u001b[0mX\u001b[0m \u001b[0;34m=\u001b[0m \u001b[0mcheck_array\u001b[0m\u001b[0;34m(\u001b[0m\u001b[0mX\u001b[0m\u001b[0;34m,\u001b[0m \u001b[0maccept_sparse\u001b[0m\u001b[0;34m=\u001b[0m\u001b[0;34m\"csc\"\u001b[0m\u001b[0;34m,\u001b[0m \u001b[0mdtype\u001b[0m\u001b[0;34m=\u001b[0m\u001b[0mDTYPE\u001b[0m\u001b[0;34m)\u001b[0m\u001b[0;34m\u001b[0m\u001b[0;34m\u001b[0m\u001b[0m\n\u001b[0m\u001b[1;32m    296\u001b[0m         \u001b[0my\u001b[0m \u001b[0;34m=\u001b[0m \u001b[0mcheck_array\u001b[0m\u001b[0;34m(\u001b[0m\u001b[0my\u001b[0m\u001b[0;34m,\u001b[0m \u001b[0maccept_sparse\u001b[0m\u001b[0;34m=\u001b[0m\u001b[0;34m'csc'\u001b[0m\u001b[0;34m,\u001b[0m \u001b[0mensure_2d\u001b[0m\u001b[0;34m=\u001b[0m\u001b[0;32mFalse\u001b[0m\u001b[0;34m,\u001b[0m \u001b[0mdtype\u001b[0m\u001b[0;34m=\u001b[0m\u001b[0;32mNone\u001b[0m\u001b[0;34m)\u001b[0m\u001b[0;34m\u001b[0m\u001b[0;34m\u001b[0m\u001b[0m\n\u001b[1;32m    297\u001b[0m         \u001b[0;32mif\u001b[0m \u001b[0msample_weight\u001b[0m \u001b[0;32mis\u001b[0m \u001b[0;32mnot\u001b[0m \u001b[0;32mNone\u001b[0m\u001b[0;34m:\u001b[0m\u001b[0;34m\u001b[0m\u001b[0;34m\u001b[0m\u001b[0m\n",
            "\u001b[0;32m/usr/local/lib/python3.7/dist-packages/sklearn/utils/validation.py\u001b[0m in \u001b[0;36mcheck_array\u001b[0;34m(array, accept_sparse, accept_large_sparse, dtype, order, copy, force_all_finite, ensure_2d, allow_nd, ensure_min_samples, ensure_min_features, warn_on_dtype, estimator)\u001b[0m\n\u001b[1;32m    529\u001b[0m                     \u001b[0marray\u001b[0m \u001b[0;34m=\u001b[0m \u001b[0marray\u001b[0m\u001b[0;34m.\u001b[0m\u001b[0mastype\u001b[0m\u001b[0;34m(\u001b[0m\u001b[0mdtype\u001b[0m\u001b[0;34m,\u001b[0m \u001b[0mcasting\u001b[0m\u001b[0;34m=\u001b[0m\u001b[0;34m\"unsafe\"\u001b[0m\u001b[0;34m,\u001b[0m \u001b[0mcopy\u001b[0m\u001b[0;34m=\u001b[0m\u001b[0;32mFalse\u001b[0m\u001b[0;34m)\u001b[0m\u001b[0;34m\u001b[0m\u001b[0;34m\u001b[0m\u001b[0m\n\u001b[1;32m    530\u001b[0m                 \u001b[0;32melse\u001b[0m\u001b[0;34m:\u001b[0m\u001b[0;34m\u001b[0m\u001b[0;34m\u001b[0m\u001b[0m\n\u001b[0;32m--> 531\u001b[0;31m                     \u001b[0marray\u001b[0m \u001b[0;34m=\u001b[0m \u001b[0mnp\u001b[0m\u001b[0;34m.\u001b[0m\u001b[0masarray\u001b[0m\u001b[0;34m(\u001b[0m\u001b[0marray\u001b[0m\u001b[0;34m,\u001b[0m \u001b[0morder\u001b[0m\u001b[0;34m=\u001b[0m\u001b[0morder\u001b[0m\u001b[0;34m,\u001b[0m \u001b[0mdtype\u001b[0m\u001b[0;34m=\u001b[0m\u001b[0mdtype\u001b[0m\u001b[0;34m)\u001b[0m\u001b[0;34m\u001b[0m\u001b[0;34m\u001b[0m\u001b[0m\n\u001b[0m\u001b[1;32m    532\u001b[0m             \u001b[0;32mexcept\u001b[0m \u001b[0mComplexWarning\u001b[0m\u001b[0;34m:\u001b[0m\u001b[0;34m\u001b[0m\u001b[0;34m\u001b[0m\u001b[0m\n\u001b[1;32m    533\u001b[0m                 raise ValueError(\"Complex data not supported\\n\"\n",
            "\u001b[0;32m/usr/local/lib/python3.7/dist-packages/numpy/core/_asarray.py\u001b[0m in \u001b[0;36masarray\u001b[0;34m(a, dtype, order)\u001b[0m\n\u001b[1;32m     81\u001b[0m \u001b[0;34m\u001b[0m\u001b[0m\n\u001b[1;32m     82\u001b[0m     \"\"\"\n\u001b[0;32m---> 83\u001b[0;31m     \u001b[0;32mreturn\u001b[0m \u001b[0marray\u001b[0m\u001b[0;34m(\u001b[0m\u001b[0ma\u001b[0m\u001b[0;34m,\u001b[0m \u001b[0mdtype\u001b[0m\u001b[0;34m,\u001b[0m \u001b[0mcopy\u001b[0m\u001b[0;34m=\u001b[0m\u001b[0;32mFalse\u001b[0m\u001b[0;34m,\u001b[0m \u001b[0morder\u001b[0m\u001b[0;34m=\u001b[0m\u001b[0morder\u001b[0m\u001b[0;34m)\u001b[0m\u001b[0;34m\u001b[0m\u001b[0;34m\u001b[0m\u001b[0m\n\u001b[0m\u001b[1;32m     84\u001b[0m \u001b[0;34m\u001b[0m\u001b[0m\n\u001b[1;32m     85\u001b[0m \u001b[0;34m\u001b[0m\u001b[0m\n",
            "\u001b[0;32m/usr/local/lib/python3.7/dist-packages/pandas/core/generic.py\u001b[0m in \u001b[0;36m__array__\u001b[0;34m(self, dtype)\u001b[0m\n\u001b[1;32m   1779\u001b[0m \u001b[0;34m\u001b[0m\u001b[0m\n\u001b[1;32m   1780\u001b[0m     \u001b[0;32mdef\u001b[0m \u001b[0m__array__\u001b[0m\u001b[0;34m(\u001b[0m\u001b[0mself\u001b[0m\u001b[0;34m,\u001b[0m \u001b[0mdtype\u001b[0m\u001b[0;34m=\u001b[0m\u001b[0;32mNone\u001b[0m\u001b[0;34m)\u001b[0m \u001b[0;34m->\u001b[0m \u001b[0mnp\u001b[0m\u001b[0;34m.\u001b[0m\u001b[0mndarray\u001b[0m\u001b[0;34m:\u001b[0m\u001b[0;34m\u001b[0m\u001b[0;34m\u001b[0m\u001b[0m\n\u001b[0;32m-> 1781\u001b[0;31m         \u001b[0;32mreturn\u001b[0m \u001b[0mnp\u001b[0m\u001b[0;34m.\u001b[0m\u001b[0masarray\u001b[0m\u001b[0;34m(\u001b[0m\u001b[0mself\u001b[0m\u001b[0;34m.\u001b[0m\u001b[0m_values\u001b[0m\u001b[0;34m,\u001b[0m \u001b[0mdtype\u001b[0m\u001b[0;34m=\u001b[0m\u001b[0mdtype\u001b[0m\u001b[0;34m)\u001b[0m\u001b[0;34m\u001b[0m\u001b[0;34m\u001b[0m\u001b[0m\n\u001b[0m\u001b[1;32m   1782\u001b[0m \u001b[0;34m\u001b[0m\u001b[0m\n\u001b[1;32m   1783\u001b[0m     \u001b[0;32mdef\u001b[0m \u001b[0m__array_wrap__\u001b[0m\u001b[0;34m(\u001b[0m\u001b[0mself\u001b[0m\u001b[0;34m,\u001b[0m \u001b[0mresult\u001b[0m\u001b[0;34m,\u001b[0m \u001b[0mcontext\u001b[0m\u001b[0;34m=\u001b[0m\u001b[0;32mNone\u001b[0m\u001b[0;34m)\u001b[0m\u001b[0;34m:\u001b[0m\u001b[0;34m\u001b[0m\u001b[0;34m\u001b[0m\u001b[0m\n",
            "\u001b[0;32m/usr/local/lib/python3.7/dist-packages/numpy/core/_asarray.py\u001b[0m in \u001b[0;36masarray\u001b[0;34m(a, dtype, order)\u001b[0m\n\u001b[1;32m     81\u001b[0m \u001b[0;34m\u001b[0m\u001b[0m\n\u001b[1;32m     82\u001b[0m     \"\"\"\n\u001b[0;32m---> 83\u001b[0;31m     \u001b[0;32mreturn\u001b[0m \u001b[0marray\u001b[0m\u001b[0;34m(\u001b[0m\u001b[0ma\u001b[0m\u001b[0;34m,\u001b[0m \u001b[0mdtype\u001b[0m\u001b[0;34m,\u001b[0m \u001b[0mcopy\u001b[0m\u001b[0;34m=\u001b[0m\u001b[0;32mFalse\u001b[0m\u001b[0;34m,\u001b[0m \u001b[0morder\u001b[0m\u001b[0;34m=\u001b[0m\u001b[0morder\u001b[0m\u001b[0;34m)\u001b[0m\u001b[0;34m\u001b[0m\u001b[0;34m\u001b[0m\u001b[0m\n\u001b[0m\u001b[1;32m     84\u001b[0m \u001b[0;34m\u001b[0m\u001b[0m\n\u001b[1;32m     85\u001b[0m \u001b[0;34m\u001b[0m\u001b[0m\n",
            "\u001b[0;31mValueError\u001b[0m: could not convert string to float: 'Low'"
          ]
        }
      ]
    },
    {
      "cell_type": "markdown",
      "metadata": {
        "id": "ClinQg23xhvL"
      },
      "source": [
        "Okay the error says that it could not convert some data into float which means some of the data is string or object, so as I said we do some EDA now\n",
        "We shall now work on converting non numeric column to numeric columns so that we can train our model and before that if you have seen, data has lot of nan values which we shall try to avoid."
      ]
    },
    {
      "cell_type": "code",
      "metadata": {
        "id": "3_bEOFX7sk9b"
      },
      "source": [
        "# We shall now take a look at converting the non numeric columns in data frame into category type of pandas and later convert that to numeric codes which we can use in modeling part\n",
        "for label, content in df_tem.items() : # label here means the column name and the content means the data in each column and basically it does iterate around them.\n",
        "  if pd.api.types.is_string_dtype(content) :\n",
        "    df_tem[label] = content.astype('category').cat.as_ordered()"
      ],
      "execution_count": null,
      "outputs": []
    },
    {
      "cell_type": "code",
      "metadata": {
        "colab": {
          "base_uri": "https://localhost:8080/"
        },
        "id": "ceFw1_21xcEb",
        "outputId": "87e04ea6-a2d9-4e36-9a51-4e19b47dbb83"
      },
      "source": [
        "df_tem.info()"
      ],
      "execution_count": null,
      "outputs": [
        {
          "output_type": "stream",
          "name": "stdout",
          "text": [
            "<class 'pandas.core.frame.DataFrame'>\n",
            "Int64Index: 412698 entries, 205615 to 409203\n",
            "Data columns (total 56 columns):\n",
            " #   Column                    Non-Null Count   Dtype   \n",
            "---  ------                    --------------   -----   \n",
            " 0   SalesID                   412698 non-null  int64   \n",
            " 1   SalePrice                 412698 non-null  float64 \n",
            " 2   MachineID                 412698 non-null  int64   \n",
            " 3   ModelID                   412698 non-null  int64   \n",
            " 4   datasource                412698 non-null  int64   \n",
            " 5   auctioneerID              392562 non-null  float64 \n",
            " 6   YearMade                  412698 non-null  int64   \n",
            " 7   MachineHoursCurrentMeter  147504 non-null  float64 \n",
            " 8   UsageBand                 73670 non-null   category\n",
            " 9   fiModelDesc               412698 non-null  category\n",
            " 10  fiBaseModel               412698 non-null  category\n",
            " 11  fiSecondaryDesc           271971 non-null  category\n",
            " 12  fiModelSeries             58667 non-null   category\n",
            " 13  fiModelDescriptor         74816 non-null   category\n",
            " 14  ProductSize               196093 non-null  category\n",
            " 15  fiProductClassDesc        412698 non-null  category\n",
            " 16  state                     412698 non-null  category\n",
            " 17  ProductGroup              412698 non-null  category\n",
            " 18  ProductGroupDesc          412698 non-null  category\n",
            " 19  Drive_System              107087 non-null  category\n",
            " 20  Enclosure                 412364 non-null  category\n",
            " 21  Forks                     197715 non-null  category\n",
            " 22  Pad_Type                  81096 non-null   category\n",
            " 23  Ride_Control              152728 non-null  category\n",
            " 24  Stick                     81096 non-null   category\n",
            " 25  Transmission              188007 non-null  category\n",
            " 26  Turbocharged              81096 non-null   category\n",
            " 27  Blade_Extension           25983 non-null   category\n",
            " 28  Blade_Width               25983 non-null   category\n",
            " 29  Enclosure_Type            25983 non-null   category\n",
            " 30  Engine_Horsepower         25983 non-null   category\n",
            " 31  Hydraulics                330133 non-null  category\n",
            " 32  Pushblock                 25983 non-null   category\n",
            " 33  Ripper                    106945 non-null  category\n",
            " 34  Scarifier                 25994 non-null   category\n",
            " 35  Tip_Control               25983 non-null   category\n",
            " 36  Tire_Size                 97638 non-null   category\n",
            " 37  Coupler                   220679 non-null  category\n",
            " 38  Coupler_System            44974 non-null   category\n",
            " 39  Grouser_Tracks            44875 non-null   category\n",
            " 40  Hydraulics_Flow           44875 non-null   category\n",
            " 41  Track_Type                102193 non-null  category\n",
            " 42  Undercarriage_Pad_Width   102916 non-null  category\n",
            " 43  Stick_Length              102261 non-null  category\n",
            " 44  Thumb                     102332 non-null  category\n",
            " 45  Pattern_Changer           102261 non-null  category\n",
            " 46  Grouser_Type              102193 non-null  category\n",
            " 47  Backhoe_Mounting          80712 non-null   category\n",
            " 48  Blade_Type                81875 non-null   category\n",
            " 49  Travel_Controls           81877 non-null   category\n",
            " 50  Differential_Type         71564 non-null   category\n",
            " 51  Steering_Controls         71522 non-null   category\n",
            " 52  SaleMonth                 412698 non-null  int64   \n",
            " 53  SaleYear                  412698 non-null  int64   \n",
            " 54  SaleWeek                  412698 non-null  int64   \n",
            " 55  SaleDay                   412698 non-null  int64   \n",
            "dtypes: category(44), float64(3), int64(9)\n",
            "memory usage: 60.5 MB\n"
          ]
        }
      ]
    },
    {
      "cell_type": "code",
      "metadata": {
        "colab": {
          "base_uri": "https://localhost:8080/"
        },
        "id": "fcQFCBVxtbvn",
        "outputId": "9fa2e79c-fcc4-45b3-9241-025b4f6f477a"
      },
      "source": [
        "# Pandas is so handy that we no need to convert the category part into numeric as it does for us.\n",
        "df_tem.state.cat.categories"
      ],
      "execution_count": null,
      "outputs": [
        {
          "output_type": "execute_result",
          "data": {
            "text/plain": [
              "Index(['Alabama', 'Alaska', 'Arizona', 'Arkansas', 'California', 'Colorado',\n",
              "       'Connecticut', 'Delaware', 'Florida', 'Georgia', 'Hawaii', 'Idaho',\n",
              "       'Illinois', 'Indiana', 'Iowa', 'Kansas', 'Kentucky', 'Louisiana',\n",
              "       'Maine', 'Maryland', 'Massachusetts', 'Michigan', 'Minnesota',\n",
              "       'Mississippi', 'Missouri', 'Montana', 'Nebraska', 'Nevada',\n",
              "       'New Hampshire', 'New Jersey', 'New Mexico', 'New York',\n",
              "       'North Carolina', 'North Dakota', 'Ohio', 'Oklahoma', 'Oregon',\n",
              "       'Pennsylvania', 'Puerto Rico', 'Rhode Island', 'South Carolina',\n",
              "       'South Dakota', 'Tennessee', 'Texas', 'Unspecified', 'Utah', 'Vermont',\n",
              "       'Virginia', 'Washington', 'Washington DC', 'West Virginia', 'Wisconsin',\n",
              "       'Wyoming'],\n",
              "      dtype='object')"
            ]
          },
          "metadata": {},
          "execution_count": 28
        }
      ]
    },
    {
      "cell_type": "code",
      "metadata": {
        "colab": {
          "base_uri": "https://localhost:8080/"
        },
        "id": "0u4m38Yzu6vF",
        "outputId": "d705427e-c72b-4238-8d1a-55b18bb8307f"
      },
      "source": [
        "df_tem.state.cat.codes"
      ],
      "execution_count": null,
      "outputs": [
        {
          "output_type": "execute_result",
          "data": {
            "text/plain": [
              "205615    43\n",
              "274835     8\n",
              "141296     8\n",
              "212552     8\n",
              "62755      8\n",
              "          ..\n",
              "410879     4\n",
              "412476     4\n",
              "411927     4\n",
              "407124     4\n",
              "409203     4\n",
              "Length: 412698, dtype: int8"
            ]
          },
          "metadata": {},
          "execution_count": 29
        }
      ]
    },
    {
      "cell_type": "code",
      "metadata": {
        "colab": {
          "base_uri": "https://localhost:8080/"
        },
        "id": "A5_Z2DXYwVKV",
        "outputId": "94d218e9-f05b-423c-ac1f-00af33192f26"
      },
      "source": [
        "# Yes, the conversion on data type of the object data is done and now we are all set to use the converted data in training the model and testing it.\n",
        "df_tem.isna().sum()/len(df_tem)"
      ],
      "execution_count": null,
      "outputs": [
        {
          "output_type": "execute_result",
          "data": {
            "text/plain": [
              "SalesID                     0.000000\n",
              "SalePrice                   0.000000\n",
              "MachineID                   0.000000\n",
              "ModelID                     0.000000\n",
              "datasource                  0.000000\n",
              "auctioneerID                0.048791\n",
              "YearMade                    0.000000\n",
              "MachineHoursCurrentMeter    0.642586\n",
              "UsageBand                   0.821492\n",
              "fiModelDesc                 0.000000\n",
              "fiBaseModel                 0.000000\n",
              "fiSecondaryDesc             0.340993\n",
              "fiModelSeries               0.857845\n",
              "fiModelDescriptor           0.818715\n",
              "ProductSize                 0.524851\n",
              "fiProductClassDesc          0.000000\n",
              "state                       0.000000\n",
              "ProductGroup                0.000000\n",
              "ProductGroupDesc            0.000000\n",
              "Drive_System                0.740520\n",
              "Enclosure                   0.000809\n",
              "Forks                       0.520921\n",
              "Pad_Type                    0.803498\n",
              "Ride_Control                0.629928\n",
              "Stick                       0.803498\n",
              "Transmission                0.544444\n",
              "Turbocharged                0.803498\n",
              "Blade_Extension             0.937041\n",
              "Blade_Width                 0.937041\n",
              "Enclosure_Type              0.937041\n",
              "Engine_Horsepower           0.937041\n",
              "Hydraulics                  0.200062\n",
              "Pushblock                   0.937041\n",
              "Ripper                      0.740864\n",
              "Scarifier                   0.937014\n",
              "Tip_Control                 0.937041\n",
              "Tire_Size                   0.763415\n",
              "Coupler                     0.465277\n",
              "Coupler_System              0.891024\n",
              "Grouser_Tracks              0.891264\n",
              "Hydraulics_Flow             0.891264\n",
              "Track_Type                  0.752378\n",
              "Undercarriage_Pad_Width     0.750626\n",
              "Stick_Length                0.752213\n",
              "Thumb                       0.752041\n",
              "Pattern_Changer             0.752213\n",
              "Grouser_Type                0.752378\n",
              "Backhoe_Mounting            0.804428\n",
              "Blade_Type                  0.801610\n",
              "Travel_Controls             0.801606\n",
              "Differential_Type           0.826595\n",
              "Steering_Controls           0.826697\n",
              "SaleMonth                   0.000000\n",
              "SaleYear                    0.000000\n",
              "SaleWeek                    0.000000\n",
              "SaleDay                     0.000000\n",
              "dtype: float64"
            ]
          },
          "metadata": {},
          "execution_count": 30
        }
      ]
    },
    {
      "cell_type": "code",
      "metadata": {
        "id": "1x-f4Raqx2Uc"
      },
      "source": [
        "# Let us same the current manipulated data for easy access in future.\n",
        "df_tem.to_csv('/content/manipulated_data.csv', index = False)"
      ],
      "execution_count": null,
      "outputs": []
    },
    {
      "cell_type": "code",
      "metadata": {
        "colab": {
          "base_uri": "https://localhost:8080/"
        },
        "id": "UrUz7YOPyOCD",
        "outputId": "f85fcd85-3083-408d-95d3-66a5a7039e35"
      },
      "source": [
        "df_tem = pd.read_csv('/content/manipulated_data.csv')"
      ],
      "execution_count": null,
      "outputs": [
        {
          "output_type": "stream",
          "name": "stderr",
          "text": [
            "/usr/local/lib/python3.7/dist-packages/IPython/core/interactiveshell.py:2718: DtypeWarning: Columns (8) have mixed types.Specify dtype option on import or set low_memory=False.\n",
            "  interactivity=interactivity, compiler=compiler, result=result)\n"
          ]
        }
      ]
    },
    {
      "cell_type": "code",
      "metadata": {
        "colab": {
          "base_uri": "https://localhost:8080/"
        },
        "id": "_8S62qau5Dyx",
        "outputId": "6ca5fe33-0d64-442e-d542-b02360542380"
      },
      "source": [
        "# We shall look into filling the null values in numeric columns in data frame first then we shall look into filling null values in category datatype columns.\n",
        "# Let us check numeric columns with null values\n",
        "for label, content in df_tem.items() :\n",
        "  if pd.api.types.is_numeric_dtype(content) :\n",
        "    if content.isna().sum() :\n",
        "      print(label)"
      ],
      "execution_count": null,
      "outputs": [
        {
          "output_type": "stream",
          "name": "stdout",
          "text": [
            "auctioneerID\n",
            "MachineHoursCurrentMeter\n"
          ]
        }
      ]
    },
    {
      "cell_type": "code",
      "metadata": {
        "id": "z-qk4Evy6ts_"
      },
      "source": [
        "# We got the columns with null numeric values so we fill them with median values\n",
        "for label, content in df_tem.items() :\n",
        "  if pd.api.types.is_numeric_dtype(content) :\n",
        "    if content.isna().sum() :\n",
        "      df_tem[label+'_missing_values'] = pd.isnull(content)\n",
        "      df_tem[label] = df_tem.fillna(content.median())"
      ],
      "execution_count": null,
      "outputs": []
    },
    {
      "cell_type": "code",
      "metadata": {
        "colab": {
          "base_uri": "https://localhost:8080/"
        },
        "id": "TNvqDhDzzPsA",
        "outputId": "20b89a17-2ad8-4ae8-acaf-92d0a110dae8"
      },
      "source": [
        "# The reason I used median to fill instead of median is demonstrated down here :\n",
        "hundreds = np.full(1000, 100)\n",
        "billion_hundreds = np.full(100, 100000000)\n",
        "print(hundreds.mean())\n",
        "print(np.median(hundreds))\n",
        "print(billion_hundreds.mean())\n",
        "print(np.median(billion_hundreds))"
      ],
      "execution_count": null,
      "outputs": [
        {
          "output_type": "stream",
          "name": "stdout",
          "text": [
            "100.0\n",
            "100.0\n",
            "100000000.0\n",
            "100000000.0\n"
          ]
        }
      ]
    },
    {
      "cell_type": "code",
      "metadata": {
        "id": "12ZBkT2zEWhu"
      },
      "source": [
        "# Let us check numeric columns with null values\n",
        "for label, content in df_tem.items() :\n",
        "  if pd.api.types.is_numeric_dtype(content) :\n",
        "    if content.isna().sum() :\n",
        "      print(label)\n",
        "# Now we can see that no numeric column has null as all are filled."
      ],
      "execution_count": null,
      "outputs": []
    },
    {
      "cell_type": "code",
      "metadata": {
        "colab": {
          "base_uri": "https://localhost:8080/"
        },
        "id": "b8AGA7u48VfG",
        "outputId": "fd9be140-a6e7-46bf-c0ec-d3dcdf13afca"
      },
      "source": [
        "df_tem.isna().sum()"
      ],
      "execution_count": null,
      "outputs": [
        {
          "output_type": "execute_result",
          "data": {
            "text/plain": [
              "SalesID                                         0\n",
              "SalePrice                                       0\n",
              "MachineID                                       0\n",
              "ModelID                                         0\n",
              "datasource                                      0\n",
              "auctioneerID                                    0\n",
              "YearMade                                        0\n",
              "MachineHoursCurrentMeter                        0\n",
              "UsageBand                                  339028\n",
              "fiModelDesc                                     0\n",
              "fiBaseModel                                     0\n",
              "fiSecondaryDesc                            140727\n",
              "fiModelSeries                              354031\n",
              "fiModelDescriptor                          337882\n",
              "ProductSize                                216605\n",
              "fiProductClassDesc                              0\n",
              "state                                           0\n",
              "ProductGroup                                    0\n",
              "ProductGroupDesc                                0\n",
              "Drive_System                               305611\n",
              "Enclosure                                     334\n",
              "Forks                                      214983\n",
              "Pad_Type                                   331602\n",
              "Ride_Control                               259970\n",
              "Stick                                      331602\n",
              "Transmission                               224691\n",
              "Turbocharged                               331602\n",
              "Blade_Extension                            386715\n",
              "Blade_Width                                386715\n",
              "Enclosure_Type                             386715\n",
              "Engine_Horsepower                          386715\n",
              "Hydraulics                                  82565\n",
              "Pushblock                                  386715\n",
              "Ripper                                     305753\n",
              "Scarifier                                  386704\n",
              "Tip_Control                                386715\n",
              "Tire_Size                                  315060\n",
              "Coupler                                    192019\n",
              "Coupler_System                             367724\n",
              "Grouser_Tracks                             367823\n",
              "Hydraulics_Flow                            367823\n",
              "Track_Type                                 310505\n",
              "Undercarriage_Pad_Width                    309782\n",
              "Stick_Length                               310437\n",
              "Thumb                                      310366\n",
              "Pattern_Changer                            310437\n",
              "Grouser_Type                               310505\n",
              "Backhoe_Mounting                           331986\n",
              "Blade_Type                                 330823\n",
              "Travel_Controls                            330821\n",
              "Differential_Type                          341134\n",
              "Steering_Controls                          341176\n",
              "SaleMonth                                       0\n",
              "SaleYear                                        0\n",
              "SaleWeek                                        0\n",
              "SaleDay                                         0\n",
              "auctioneerID_missing_values                     0\n",
              "MachineHoursCurrentMeter_missing_values         0\n",
              "dtype: int64"
            ]
          },
          "metadata": {},
          "execution_count": 37
        }
      ]
    },
    {
      "cell_type": "code",
      "metadata": {
        "id": "qAdXNjWe8aam"
      },
      "source": [
        "# Cool, now that we have filled all the null values in numeric data columns with the median."
      ],
      "execution_count": null,
      "outputs": []
    },
    {
      "cell_type": "code",
      "metadata": {
        "colab": {
          "base_uri": "https://localhost:8080/"
        },
        "id": "SyW9RXnV9A9Y",
        "outputId": "66043159-6d10-4e35-8dcc-60fe36e86a77"
      },
      "source": [
        "df_tem.auctioneerID_missing_values.value_counts()"
      ],
      "execution_count": null,
      "outputs": [
        {
          "output_type": "execute_result",
          "data": {
            "text/plain": [
              "False    392562\n",
              "True      20136\n",
              "Name: auctioneerID_missing_values, dtype: int64"
            ]
          },
          "metadata": {},
          "execution_count": 39
        }
      ]
    },
    {
      "cell_type": "code",
      "metadata": {
        "id": "aJvt3Maf_ikl"
      },
      "source": [
        "# Till now we have looked into filling and cleaning numeric data and now we dive deep into category part.\n",
        "for label, content in df_tem.items() :\n",
        "  if not pd.api.types.is_numeric_dtype(content) :\n",
        "    df_tem[label+'_missing_values'] = pd.isnull(content)\n",
        "    df_tem[label] = pd.Categorical(content).codes +1\n",
        "# The reason why I am adding one to the numeric form of category data is, for all null values pandas give -1 as values but as we know to make a good model it is neccasary to give positive values so adding 1 makes all null values to be 0"
      ],
      "execution_count": null,
      "outputs": []
    },
    {
      "cell_type": "code",
      "metadata": {
        "colab": {
          "base_uri": "https://localhost:8080/"
        },
        "id": "UwvRwGiS1trC",
        "outputId": "366a7aa2-4d6e-44ae-dfa4-c8005e5a6076"
      },
      "source": [
        "# Let us verify again weather or not we have any thing to fill now\n",
        "df_tem.isna().sum()"
      ],
      "execution_count": null,
      "outputs": [
        {
          "output_type": "execute_result",
          "data": {
            "text/plain": [
              "SalesID                             0\n",
              "SalePrice                           0\n",
              "MachineID                           0\n",
              "ModelID                             0\n",
              "datasource                          0\n",
              "                                   ..\n",
              "Backhoe_Mounting_missing_values     0\n",
              "Blade_Type_missing_values           0\n",
              "Travel_Controls_missing_values      0\n",
              "Differential_Type_missing_values    0\n",
              "Steering_Controls_missing_values    0\n",
              "Length: 102, dtype: int64"
            ]
          },
          "metadata": {},
          "execution_count": 41
        }
      ]
    },
    {
      "cell_type": "code",
      "metadata": {
        "colab": {
          "base_uri": "https://localhost:8080/"
        },
        "id": "Tve72-dVRF7x",
        "outputId": "b3557cc0-f1b7-4810-88da-12273731123a"
      },
      "source": [
        "len(df_tem)"
      ],
      "execution_count": null,
      "outputs": [
        {
          "output_type": "execute_result",
          "data": {
            "text/plain": [
              "412698"
            ]
          },
          "metadata": {},
          "execution_count": 42
        }
      ]
    },
    {
      "cell_type": "code",
      "metadata": {
        "colab": {
          "base_uri": "https://localhost:8080/"
        },
        "id": "MQNWUK_D3Dyb",
        "outputId": "61ccd223-c76d-49a4-c904-d4a23c64f39a"
      },
      "source": [
        "%%time\n",
        "# Cool.., now we have our data ready so, we can take our model to next step and that is to train the model with the prepared data and then........ yes.\n",
        "# A magic function in python to just know the time of running this cell as we our model need to learn form really long list of 41k.\n",
        "reg = RandomForestRegressor(n_jobs = -1, random_state = 42)\n",
        "# Fit our model\n",
        "reg.fit(df_tem.drop('SalePrice', axis = 1), df_tem['SalePrice'])"
      ],
      "execution_count": null,
      "outputs": [
        {
          "output_type": "stream",
          "name": "stdout",
          "text": [
            "CPU times: user 18min 9s, sys: 1.83 s, total: 18min 11s\n",
            "Wall time: 9min 12s\n"
          ]
        }
      ]
    },
    {
      "cell_type": "code",
      "metadata": {
        "id": "Y6s3pV7cQ_Yl",
        "colab": {
          "base_uri": "https://localhost:8080/"
        },
        "outputId": "de08b7a5-e907-49b6-8986-79f572cc7c48"
      },
      "source": [
        "# Now that we have trained out basic model, though we did not split the data, but yet lets try testing our model on train data itself for fun,,,...\n",
        "# Later on we shall focus on splitting the data and then getting the exact evaluation of the model.\n",
        "reg.score(df_tem.drop('SalePrice', axis = 1), df_tem['SalePrice'])"
      ],
      "execution_count": null,
      "outputs": [
        {
          "output_type": "execute_result",
          "data": {
            "text/plain": [
              "0.9874704774121045"
            ]
          },
          "metadata": {},
          "execution_count": 44
        }
      ]
    },
    {
      "cell_type": "markdown",
      "metadata": {
        "id": "wxi4EbakyUwM"
      },
      "source": [
        "##### Real Splitting data"
      ]
    },
    {
      "cell_type": "code",
      "metadata": {
        "colab": {
          "base_uri": "https://localhost:8080/"
        },
        "id": "WFfXCP1WW9V7",
        "outputId": "48acd3f3-96eb-469c-8ab8-61e93381e840"
      },
      "source": [
        "df_tem.SaleYear\n",
        "# We are now going to split the data into train and valid that to based on the criteria given in original event of kaggle which is based on year of sale"
      ],
      "execution_count": null,
      "outputs": [
        {
          "output_type": "execute_result",
          "data": {
            "text/plain": [
              "0         1989\n",
              "1         1989\n",
              "2         1989\n",
              "3         1989\n",
              "4         1989\n",
              "          ... \n",
              "412693    2012\n",
              "412694    2012\n",
              "412695    2012\n",
              "412696    2012\n",
              "412697    2012\n",
              "Name: SaleYear, Length: 412698, dtype: int64"
            ]
          },
          "metadata": {},
          "execution_count": 45
        }
      ]
    },
    {
      "cell_type": "code",
      "metadata": {
        "colab": {
          "base_uri": "https://localhost:8080/"
        },
        "id": "U9c6hVqi37y2",
        "outputId": "3c161e63-47a2-4e97-b2a2-db3998da2751"
      },
      "source": [
        "df_tem['SaleYear'].value_counts()"
      ],
      "execution_count": null,
      "outputs": [
        {
          "output_type": "execute_result",
          "data": {
            "text/plain": [
              "2009    43849\n",
              "2008    39767\n",
              "2011    35197\n",
              "2010    33390\n",
              "2007    32208\n",
              "2006    21685\n",
              "2005    20463\n",
              "2004    19879\n",
              "2001    17594\n",
              "2000    17415\n",
              "2002    17246\n",
              "2003    15254\n",
              "1998    13046\n",
              "1999    12793\n",
              "2012    11573\n",
              "1997     9785\n",
              "1996     8829\n",
              "1995     8530\n",
              "1994     7929\n",
              "1993     6303\n",
              "1992     5519\n",
              "1991     5109\n",
              "1989     4806\n",
              "1990     4529\n",
              "Name: SaleYear, dtype: int64"
            ]
          },
          "metadata": {},
          "execution_count": 46
        }
      ]
    },
    {
      "cell_type": "markdown",
      "metadata": {
        "id": "l7MBVcWgUa_E"
      },
      "source": [
        "#### Note: Since we have already made manipultions on df_tem so we can not use this dataframe to split into train and valid\n",
        "The reason is that we used the valid part of data to actually get a overall median and filled the null values of numeric columns accordingly so we use the original dataframe to manipulate after splitting, which make sures that we manipulate the data of both train and test accordingly."
      ]
    },
    {
      "cell_type": "code",
      "metadata": {
        "colab": {
          "base_uri": "https://localhost:8080/"
        },
        "id": "fpaqUmOlJ4Mi",
        "outputId": "b4b0dfb7-64a9-4e8d-d306-3f4547f093e3"
      },
      "source": [
        "df['SaleMonth'] = df['saledate'].dt.month\n",
        "df['SaleYear'] = df['saledate'].dt.year\n",
        "df['SaleWeek'] = df['saledate'].dt.week\n",
        "df['SaleDay'] = df['saledate'].dt.day\n",
        "df.drop('saledate', inplace = True, axis = 1)"
      ],
      "execution_count": null,
      "outputs": [
        {
          "output_type": "stream",
          "name": "stderr",
          "text": [
            "/usr/local/lib/python3.7/dist-packages/ipykernel_launcher.py:3: FutureWarning: Series.dt.weekofyear and Series.dt.week have been deprecated.  Please use Series.dt.isocalendar().week instead.\n",
            "  This is separate from the ipykernel package so we can avoid doing imports until\n"
          ]
        }
      ]
    },
    {
      "cell_type": "code",
      "metadata": {
        "colab": {
          "base_uri": "https://localhost:8080/"
        },
        "id": "HHJVCwWkyft0",
        "outputId": "f44e4c03-ceb1-4418-e454-528c7e13edd1"
      },
      "source": [
        "train_set = df_tem[df_tem['SaleYear'] != 2012]\n",
        "valid_set = df_tem[df_tem['SaleYear'] == 2012]\n",
        "len(train_set), len(valid_set)"
      ],
      "execution_count": null,
      "outputs": [
        {
          "output_type": "execute_result",
          "data": {
            "text/plain": [
              "(401125, 11573)"
            ]
          },
          "metadata": {},
          "execution_count": 74
        }
      ]
    },
    {
      "cell_type": "code",
      "metadata": {
        "id": "OZzoffWazZuB",
        "colab": {
          "base_uri": "https://localhost:8080/"
        },
        "outputId": "93e2d006-de8a-4b3b-837b-e6e6d9439b7d"
      },
      "source": [
        "# Let us split the data into X_train, y_train, X_test, y_test\n",
        "X_train, y_train = train_set.drop('SalePrice', axis = 1), train_set['SalePrice']\n",
        "X_valid, y_valid = valid_set.drop('SalePrice', axis = 1), valid_set['SalePrice']\n",
        "len(X_train), len(X_valid), len(y_train), len(y_valid)"
      ],
      "execution_count": null,
      "outputs": [
        {
          "output_type": "execute_result",
          "data": {
            "text/plain": [
              "(401125, 11573, 401125, 11573)"
            ]
          },
          "metadata": {},
          "execution_count": 75
        }
      ]
    },
    {
      "cell_type": "code",
      "metadata": {
        "id": "ORRlpIyg5VET"
      },
      "source": [
        "# Creating our own evaluation metrics since the evaluation metrics to the competition is RMSLE as mentioned on the top of the notebook.\n",
        "# We shall use the sklearn metrics\n",
        "from sklearn.metrics import mean_squared_log_error, mean_absolute_error, r2_score\n",
        "# We have imported the mean_squared_log_error\n",
        "def rmsle(y_true, y_preds) :\n",
        "  '''\n",
        "  This is just a small function to get us RMSLE value using MSLE given by sklearn.metrics\n",
        "  '''\n",
        "  score = mean_squared_log_error(y_true, y_preds)\n",
        "  return np.sqrt(score)\n",
        "\n",
        "def show_diff_evaluation_model(y_true, y_preds) :\n",
        "  evaluation_scores = {'train_r2' : r2_score(y_true, y_preds), \n",
        "                       'valid_r2' : r2_score(y_true, y_preds),\n",
        "                       'train_RMSLE': rmsle(y_true, y_preds), \n",
        "                       'valid_RMSLE' : rmsle(y_true, y_preds), \n",
        "                       'train_MAE' : mean_absolute_error(y_true, y_preds) ,\n",
        "                       'valid_MAE' : mean_absolute_error(y_true, y_preds)}\n",
        "  return evaluation_scores"
      ],
      "execution_count": null,
      "outputs": []
    },
    {
      "cell_type": "markdown",
      "metadata": {
        "id": "YhA6rfVANiqq"
      },
      "source": [
        "#### Reducing the data samples \n",
        "as large data leading to long time training of model which is close to 12 minutes and we do not need that so we decrease the samples in the set to do so and for that we have an handy parameter in RandomForestRegressor"
      ]
    },
    {
      "cell_type": "code",
      "metadata": {
        "colab": {
          "base_uri": "https://localhost:8080/"
        },
        "id": "u8GvVETpPsn9",
        "outputId": "c795d411-7d03-445f-fa48-dd2ed0ffaf70"
      },
      "source": [
        "len(train_set)"
      ],
      "execution_count": null,
      "outputs": [
        {
          "output_type": "execute_result",
          "data": {
            "text/plain": [
              "401125"
            ]
          },
          "metadata": {},
          "execution_count": 77
        }
      ]
    },
    {
      "cell_type": "code",
      "metadata": {
        "colab": {
          "base_uri": "https://localhost:8080/"
        },
        "id": "zEwe6ZrfNgH0",
        "outputId": "234bd079-7b1e-422c-b295-4d5cbe88bab5"
      },
      "source": [
        "%%time\n",
        "model = RandomForestRegressor(n_jobs = -1,\n",
        "                              random_state = 42, \n",
        "                              max_samples = 10000)\n",
        "# In here, instead of going for 400 thousand data samples, to reduce the training time, we are making it just 10,000\n",
        "model.fit(X_train, y_train)"
      ],
      "execution_count": null,
      "outputs": [
        {
          "output_type": "stream",
          "name": "stdout",
          "text": [
            "CPU times: user 35 s, sys: 173 ms, total: 35.1 s\n",
            "Wall time: 18.6 s\n"
          ]
        }
      ]
    },
    {
      "cell_type": "code",
      "metadata": {
        "colab": {
          "base_uri": "https://localhost:8080/"
        },
        "id": "BM_A7tc_Oe9y",
        "outputId": "3ea7b9b5-b3f3-47a2-fed6-c0c8516419bf"
      },
      "source": [
        "show_diff_evaluation_model(y_valid, model.predict(X_valid))"
      ],
      "execution_count": null,
      "outputs": [
        {
          "output_type": "execute_result",
          "data": {
            "text/plain": [
              "{'train_MAE': 7092.549080618682,\n",
              " 'train_RMSLE': 0.29013448837567146,\n",
              " 'train_r2': 0.8356037056127875,\n",
              " 'valid_MAE': 7092.549080618682,\n",
              " 'valid_RMSLE': 0.29013448837567146,\n",
              " 'valid_r2': 0.8356037056127875}"
            ]
          },
          "metadata": {},
          "execution_count": 59
        }
      ]
    },
    {
      "cell_type": "markdown",
      "metadata": {
        "id": "qS_ETp0JPy5r"
      },
      "source": [
        "#### Hyperparameter tuning with RandomizedSearchCV"
      ]
    },
    {
      "cell_type": "code",
      "metadata": {
        "id": "JgBqijjcPXoQ",
        "colab": {
          "base_uri": "https://localhost:8080/"
        },
        "outputId": "b3246884-a726-46ce-db63-194befb5b3dc"
      },
      "source": [
        "%%time\n",
        "from sklearn.model_selection import RandomizedSearchCV\n",
        "# Creating a grid of 'to be tuned parameters'.\n",
        "rs_grid = {'n_estimators' : np.arange(10, 100, 10), \n",
        "           'max_samples' : [10000],\n",
        "           'min_samples_split' : np.arange(2, 20, 2), \n",
        "           'min_samples_leaf' : np.arange(1, 20, 2),\n",
        "           'max_features' : [0.5, 'auto', 'sqrt'], \n",
        "           'max_depth' : [None, 3, 5, 10]}\n",
        "# Instantiate our RandomSearchCV\n",
        "reg = RandomForestRegressor(n_jobs = -1, random_state = 42)\n",
        "rs_rf = RandomizedSearchCV(reg, \n",
        "                       param_distributions = rs_grid, \n",
        "                       cv = 5, \n",
        "                       n_iter = 2, \n",
        "                       verbose = 2)\n",
        "# Let us fit the model\n",
        "rs_rf.fit(X_train, y_train)"
      ],
      "execution_count": null,
      "outputs": [
        {
          "output_type": "stream",
          "name": "stdout",
          "text": [
            "Fitting 5 folds for each of 2 candidates, totalling 10 fits\n",
            "[CV] n_estimators=50, min_samples_split=6, min_samples_leaf=13, max_samples=10000, max_features=0.5, max_depth=None \n"
          ]
        },
        {
          "output_type": "stream",
          "name": "stderr",
          "text": [
            "[Parallel(n_jobs=1)]: Using backend SequentialBackend with 1 concurrent workers.\n"
          ]
        },
        {
          "output_type": "stream",
          "name": "stdout",
          "text": [
            "[CV]  n_estimators=50, min_samples_split=6, min_samples_leaf=13, max_samples=10000, max_features=0.5, max_depth=None, total=   6.5s\n",
            "[CV] n_estimators=50, min_samples_split=6, min_samples_leaf=13, max_samples=10000, max_features=0.5, max_depth=None \n"
          ]
        },
        {
          "output_type": "stream",
          "name": "stderr",
          "text": [
            "[Parallel(n_jobs=1)]: Done   1 out of   1 | elapsed:    6.5s remaining:    0.0s\n"
          ]
        },
        {
          "output_type": "stream",
          "name": "stdout",
          "text": [
            "[CV]  n_estimators=50, min_samples_split=6, min_samples_leaf=13, max_samples=10000, max_features=0.5, max_depth=None, total=   5.5s\n",
            "[CV] n_estimators=50, min_samples_split=6, min_samples_leaf=13, max_samples=10000, max_features=0.5, max_depth=None \n",
            "[CV]  n_estimators=50, min_samples_split=6, min_samples_leaf=13, max_samples=10000, max_features=0.5, max_depth=None, total=   5.3s\n",
            "[CV] n_estimators=50, min_samples_split=6, min_samples_leaf=13, max_samples=10000, max_features=0.5, max_depth=None \n",
            "[CV]  n_estimators=50, min_samples_split=6, min_samples_leaf=13, max_samples=10000, max_features=0.5, max_depth=None, total=   5.5s\n",
            "[CV] n_estimators=50, min_samples_split=6, min_samples_leaf=13, max_samples=10000, max_features=0.5, max_depth=None \n",
            "[CV]  n_estimators=50, min_samples_split=6, min_samples_leaf=13, max_samples=10000, max_features=0.5, max_depth=None, total=   5.3s\n",
            "[CV] n_estimators=60, min_samples_split=10, min_samples_leaf=3, max_samples=10000, max_features=auto, max_depth=10 \n",
            "[CV]  n_estimators=60, min_samples_split=10, min_samples_leaf=3, max_samples=10000, max_features=auto, max_depth=10, total=   9.3s\n",
            "[CV] n_estimators=60, min_samples_split=10, min_samples_leaf=3, max_samples=10000, max_features=auto, max_depth=10 \n",
            "[CV]  n_estimators=60, min_samples_split=10, min_samples_leaf=3, max_samples=10000, max_features=auto, max_depth=10, total=   9.1s\n",
            "[CV] n_estimators=60, min_samples_split=10, min_samples_leaf=3, max_samples=10000, max_features=auto, max_depth=10 \n",
            "[CV]  n_estimators=60, min_samples_split=10, min_samples_leaf=3, max_samples=10000, max_features=auto, max_depth=10, total=   9.0s\n",
            "[CV] n_estimators=60, min_samples_split=10, min_samples_leaf=3, max_samples=10000, max_features=auto, max_depth=10 \n",
            "[CV]  n_estimators=60, min_samples_split=10, min_samples_leaf=3, max_samples=10000, max_features=auto, max_depth=10, total=   9.2s\n",
            "[CV] n_estimators=60, min_samples_split=10, min_samples_leaf=3, max_samples=10000, max_features=auto, max_depth=10 \n",
            "[CV]  n_estimators=60, min_samples_split=10, min_samples_leaf=3, max_samples=10000, max_features=auto, max_depth=10, total=   9.0s\n"
          ]
        },
        {
          "output_type": "stream",
          "name": "stderr",
          "text": [
            "[Parallel(n_jobs=1)]: Done  10 out of  10 | elapsed:  1.2min finished\n"
          ]
        },
        {
          "output_type": "stream",
          "name": "stdout",
          "text": [
            "CPU times: user 35.1 s, sys: 1.16 s, total: 36.3 s\n",
            "Wall time: 1min 21s\n"
          ]
        }
      ]
    },
    {
      "cell_type": "code",
      "metadata": {
        "colab": {
          "base_uri": "https://localhost:8080/"
        },
        "id": "Lzj9q-pqa_q_",
        "outputId": "3423e8d8-9b18-4309-b111-dac94a85b27b"
      },
      "source": [
        "rs_rf.best_params_"
      ],
      "execution_count": null,
      "outputs": [
        {
          "output_type": "execute_result",
          "data": {
            "text/plain": [
              "{'max_depth': 10,\n",
              " 'max_features': 'auto',\n",
              " 'max_samples': 10000,\n",
              " 'min_samples_leaf': 3,\n",
              " 'min_samples_split': 10,\n",
              " 'n_estimators': 60}"
            ]
          },
          "metadata": {},
          "execution_count": 88
        }
      ]
    },
    {
      "cell_type": "code",
      "metadata": {
        "colab": {
          "base_uri": "https://localhost:8080/"
        },
        "id": "w_gm2krRcPBY",
        "outputId": "418a9a3d-af84-461d-e81c-8343078f4b68"
      },
      "source": [
        "# Evaluate our best model.\n",
        "show_diff_evaluation_model(y_valid, rs_rf.predict(X_valid))"
      ],
      "execution_count": null,
      "outputs": [
        {
          "output_type": "execute_result",
          "data": {
            "text/plain": [
              "{'train_MAE': 7827.732256984778,\n",
              " 'train_RMSLE': 0.31317714809709635,\n",
              " 'train_r2': 0.7989985793151955,\n",
              " 'valid_MAE': 7827.732256984778,\n",
              " 'valid_RMSLE': 0.31317714809709635,\n",
              " 'valid_r2': 0.7989985793151955}"
            ]
          },
          "metadata": {},
          "execution_count": 90
        }
      ]
    },
    {
      "cell_type": "markdown",
      "metadata": {
        "id": "UwdVKqI-dF7C"
      },
      "source": [
        "#### Training with best parameters\n",
        "'Note' The parameters we are using, so called ideal are from the output of running the RandomizedSearchCV for 100 iters and above we took only n_iter as 2.\n",
        "\n"
      ]
    },
    {
      "cell_type": "code",
      "metadata": {
        "id": "WrmNPu3LcsoY"
      },
      "source": [
        "%%time\n",
        "best_reg = RandomForestRegressor(n_estimators = 40, \n",
        "                                 n_jobs = -1, \n",
        "                                 min_samples_leaf = 1, \n",
        "                                 min_samples_split = 14, \n",
        "                                 max_features = 0.5, \n",
        "                                 random_state = 42)\n",
        "# Training model on all data.\n",
        "best_reg.fit(X_train, y_train)"
      ],
      "execution_count": null,
      "outputs": []
    },
    {
      "cell_type": "code",
      "metadata": {
        "colab": {
          "base_uri": "https://localhost:8080/"
        },
        "id": "g6pmn9Z5eLmq",
        "outputId": "863bf7de-04e0-4915-e1cf-16a15b6d4b64"
      },
      "source": [
        "# Evaluate the model\n",
        "show_diff_evaluation_model(y_valid, best_reg.predict(X_valid))"
      ],
      "execution_count": null,
      "outputs": [
        {
          "output_type": "execute_result",
          "data": {
            "text/plain": [
              "{'train_MAE': 6010.3513817856465,\n",
              " 'train_RMSLE': 0.24821147308963365,\n",
              " 'train_r2': 0.880052069541272,\n",
              " 'valid_MAE': 6010.3513817856465,\n",
              " 'valid_RMSLE': 0.24821147308963365,\n",
              " 'valid_r2': 0.880052069541272}"
            ]
          },
          "metadata": {},
          "execution_count": 92
        }
      ]
    },
    {
      "cell_type": "markdown",
      "metadata": {
        "id": "QX4TQ5OqiV-f"
      },
      "source": [
        "Really cool and the RMSLE is just 0.248211... which is quite good to go.\n",
        "Note: the final test data is just released in the last week, so for now we are evaluating our model on the validation score of the model."
      ]
    },
    {
      "cell_type": "markdown",
      "metadata": {
        "id": "5a-eSdJ0ihWX"
      },
      "source": [
        "### Feature Importance\n",
        "The feature that is contributing alot to performance of the model."
      ]
    },
    {
      "cell_type": "code",
      "metadata": {
        "colab": {
          "base_uri": "https://localhost:8080/"
        },
        "id": "UFE8EfPJfHZM",
        "outputId": "df0b6acb-456b-43a6-9a80-58dc00925a03"
      },
      "source": [
        "len(best_reg.feature_importances_)"
      ],
      "execution_count": null,
      "outputs": [
        {
          "output_type": "execute_result",
          "data": {
            "text/plain": [
              "101"
            ]
          },
          "metadata": {},
          "execution_count": 93
        }
      ]
    },
    {
      "cell_type": "code",
      "metadata": {
        "colab": {
          "base_uri": "https://localhost:8080/"
        },
        "id": "b2D6AwYRsBe4",
        "outputId": "f32bf4ee-0c5a-409a-cb15-b99af25f0d94"
      },
      "source": [
        "best_reg.feature_importances_"
      ],
      "execution_count": null,
      "outputs": [
        {
          "output_type": "execute_result",
          "data": {
            "text/plain": [
              "array([1.83791168e-02, 2.00560394e-02, 4.24501837e-02, 7.66048252e-04,\n",
              "       1.82641173e-02, 2.05505295e-01, 1.81169357e-02, 1.37485268e-03,\n",
              "       3.59751786e-02, 5.01639751e-02, 6.13178198e-02, 4.48193533e-03,\n",
              "       2.45255361e-02, 1.58174864e-01, 4.18170189e-02, 6.28285756e-03,\n",
              "       1.36585480e-03, 2.91641944e-03, 2.52246901e-03, 5.37304896e-02,\n",
              "       1.37837154e-03, 4.30339690e-05, 8.78223470e-04, 6.13506745e-04,\n",
              "       1.04688319e-03, 2.54017052e-05, 9.49281943e-05, 1.23473854e-02,\n",
              "       2.41584385e-03, 2.16424870e-03, 2.20692888e-03, 2.81098023e-03,\n",
              "       2.46016591e-03, 1.33576754e-03, 4.23010039e-03, 9.01330367e-03,\n",
              "       1.29898765e-03, 1.21985469e-02, 3.24973059e-03, 8.34272982e-04,\n",
              "       1.51843604e-03, 1.10963232e-03, 2.54341813e-03, 5.71579528e-04,\n",
              "       3.61106913e-04, 3.83893578e-04, 3.69518070e-04, 1.95502236e-03,\n",
              "       7.34841419e-04, 2.35775222e-04, 1.51453460e-04, 4.23722480e-03,\n",
              "       7.17240815e-02, 8.45845816e-03, 5.99897435e-03, 0.00000000e+00,\n",
              "       0.00000000e+00, 5.87407963e-04, 0.00000000e+00, 0.00000000e+00,\n",
              "       2.07211455e-03, 1.32725071e-03, 3.73610578e-03, 2.92581133e-02,\n",
              "       0.00000000e+00, 0.00000000e+00, 0.00000000e+00, 0.00000000e+00,\n",
              "       1.21980823e-05, 4.00395123e-06, 1.03896970e-04, 6.64691561e-05,\n",
              "       1.69638120e-04, 3.57123440e-05, 1.03884720e-04, 5.46288580e-06,\n",
              "       4.34595484e-04, 2.00220055e-03, 2.04696088e-03, 2.41689370e-03,\n",
              "       1.27623472e-03, 2.20490192e-03, 1.80501206e-03, 6.25778045e-06,\n",
              "       9.62639757e-05, 5.04865505e-03, 6.33162672e-04, 7.95172132e-03,\n",
              "       1.51696664e-03, 4.39775507e-03, 4.90838094e-05, 4.68156556e-05,\n",
              "       5.97626707e-05, 3.51237065e-04, 3.54952239e-05, 5.36369377e-05,\n",
              "       3.29832642e-04, 1.64776097e-04, 1.60264627e-04, 9.16175877e-05,\n",
              "       1.50602988e-04])"
            ]
          },
          "metadata": {},
          "execution_count": 94
        }
      ]
    },
    {
      "cell_type": "code",
      "metadata": {
        "id": "iDKHgjxnsGzA"
      },
      "source": [
        "# Now that we got the model with corresponding feature importance so lets visualise for better understanding.\n",
        "# Function to plot things\n",
        "def plot_features(columns, importances, n_samples = 20) :\n",
        "  df = (pd.DataFrame({'columns' : columns, \n",
        "                     'importances' : importances}).sort_values('importances', ascending = True).reset_index(drop = True))\n",
        "  # ploting features\n",
        "  fig, ax = plt.subplots()\n",
        "  ax.barh(df['columns'][:n_samples], df['importances'][:n_samples])\n",
        "  ax.set_ylabel('importances of features')\n",
        "  ax.set_xlabel('feaure names')"
      ],
      "execution_count": null,
      "outputs": []
    },
    {
      "cell_type": "code",
      "metadata": {
        "colab": {
          "base_uri": "https://localhost:8080/",
          "height": 279
        },
        "id": "Sz71s3GstwUr",
        "outputId": "f7019ce5-4380-42ba-9ada-e5010b97b940"
      },
      "source": [
        "plot_features(X_valid.columns, best_reg.feature_importances_)"
      ],
      "execution_count": null,
      "outputs": [
        {
          "output_type": "display_data",
          "data": {
            "image/png": "[encoded data removed]",
            "text/plain": [
              "<Figure size 432x288 with 1 Axes>"
            ]
          },
          "metadata": {
            "needs_background": "light"
          }
        }
      ]
    },
    {
      "cell_type": "markdown",
      "metadata": {
        "id": "zsj_AolFw961"
      },
      "source": [
        "#### Product size == size of bulldozers\n",
        "and same like enclosure i.e., weather the cab of bulldozer is large, A/C. or so and all other features mean something.\n",
        "Just go to very first link.\n",
        "#### To improve the accuracy, I am currently working with other algo fomr CatBoost and even exploring XGBoost so will update that soon"
      ]
    }
  ]
}